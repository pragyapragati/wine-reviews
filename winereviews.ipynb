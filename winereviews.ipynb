{
  "nbformat": 4,
  "nbformat_minor": 0,
  "metadata": {
    "colab": {
      "name": "winereviews.ipynb",
      "version": "0.3.2",
      "provenance": [],
      "collapsed_sections": [],
      "include_colab_link": true
    },
    "kernelspec": {
      "name": "python3",
      "display_name": "Python 3"
    }
  },
  "cells": [
    {
      "cell_type": "markdown",
      "metadata": {
        "id": "view-in-github",
        "colab_type": "text"
      },
      "source": [
        "<a href=\"https://colab.research.google.com/github/pragyapragati/wine-reviews/blob/master/winereviews.ipynb\" target=\"_parent\"><img src=\"https://colab.research.google.com/assets/colab-badge.svg\" alt=\"Open In Colab\"/></a>"
      ]
    },
    {
      "metadata": {
        "id": "JtbCqUUlDOLG",
        "colab_type": "code",
        "colab": {}
      },
      "cell_type": "code",
      "source": [
        "import pandas as pd\n",
        "from google.colab import files\n"
      ],
      "execution_count": 0,
      "outputs": []
    },
    {
      "metadata": {
        "id": "wSsJGYxHIECa",
        "colab_type": "code",
        "outputId": "8153489d-aba2-455a-913c-96a033dbe0df",
        "colab": {
          "resources": {
            "http://localhost:8080/nbextensions/google.colab/files.js": {
              "data": "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",
              "ok": true,
              "headers": [
                [
                  "content-type",
                  "application/javascript"
                ]
              ],
              "status": 200,
              "status_text": ""
            }
          },
          "base_uri": "https://localhost:8080/",
          "height": 74
        }
      },
      "cell_type": "code",
      "source": [
        "uploaded = files.upload()"
      ],
      "execution_count": 0,
      "outputs": [
        {
          "output_type": "display_data",
          "data": {
            "text/html": [
              "\n",
              "     <input type=\"file\" id=\"files-ebbd5d30-132a-4761-b18c-6ced1140a824\" name=\"files[]\" multiple disabled />\n",
              "     <output id=\"result-ebbd5d30-132a-4761-b18c-6ced1140a824\">\n",
              "      Upload widget is only available when the cell has been executed in the\n",
              "      current browser session. Please rerun this cell to enable.\n",
              "      </output>\n",
              "      <script src=\"/nbextensions/google.colab/files.js\"></script> "
            ],
            "text/plain": [
              "<IPython.core.display.HTML object>"
            ]
          },
          "metadata": {
            "tags": []
          }
        },
        {
          "output_type": "stream",
          "text": [
            "Saving winemag-data-130k-v2.csv to winemag-data-130k-v2 (1).csv\n"
          ],
          "name": "stdout"
        }
      ]
    },
    {
      "metadata": {
        "id": "movElZVUI0K9",
        "colab_type": "code",
        "outputId": "15f1e8dc-67df-4b35-d81c-58d3b971800b",
        "colab": {
          "base_uri": "https://localhost:8080/",
          "height": 34
        }
      },
      "cell_type": "code",
      "source": [
        "for fn in uploaded.keys():\n",
        "  print('User uploaded file \"{name}\" with length {length} bytes'.format(\n",
        "      name=fn, length=len(uploaded[fn])))"
      ],
      "execution_count": 0,
      "outputs": [
        {
          "output_type": "stream",
          "text": [
            "User uploaded file \"winemag-data-130k-v2.csv\" with length 52908706 bytes\n"
          ],
          "name": "stdout"
        }
      ]
    },
    {
      "metadata": {
        "id": "G0D3DOGeUn7O",
        "colab_type": "code",
        "colab": {}
      },
      "cell_type": "code",
      "source": [
        "uploaded"
      ],
      "execution_count": 0,
      "outputs": []
    },
    {
      "metadata": {
        "id": "zShDaOCzUwEK",
        "colab_type": "code",
        "colab": {}
      },
      "cell_type": "code",
      "source": [
        "import io"
      ],
      "execution_count": 0,
      "outputs": []
    },
    {
      "metadata": {
        "id": "SOFy24YyUywx",
        "colab_type": "code",
        "outputId": "479b3d59-f320-47af-a127-f7554f509273",
        "colab": {
          "base_uri": "https://localhost:8080/",
          "height": 7531
        }
      },
      "cell_type": "code",
      "source": [
        "df1 = pd.read_csv(io.StringIO(uploaded['winemag-data-130k-v2.csv'].decode('utf-8')))\n",
        "print(df1)"
      ],
      "execution_count": 0,
      "outputs": [
        {
          "output_type": "stream",
          "text": [
            "        Unnamed: 0      country  \\\n",
            "0                0        Italy   \n",
            "1                1     Portugal   \n",
            "2                2           US   \n",
            "3                3           US   \n",
            "4                4           US   \n",
            "5                5        Spain   \n",
            "6                6        Italy   \n",
            "7                7       France   \n",
            "8                8      Germany   \n",
            "9                9       France   \n",
            "10              10           US   \n",
            "11              11       France   \n",
            "12              12           US   \n",
            "13              13        Italy   \n",
            "14              14           US   \n",
            "15              15      Germany   \n",
            "16              16    Argentina   \n",
            "17              17    Argentina   \n",
            "18              18        Spain   \n",
            "19              19           US   \n",
            "20              20           US   \n",
            "21              21           US   \n",
            "22              22        Italy   \n",
            "23              23           US   \n",
            "24              24        Italy   \n",
            "25              25           US   \n",
            "26              26        Italy   \n",
            "27              27        Italy   \n",
            "28              28        Italy   \n",
            "29              29           US   \n",
            "...            ...          ...   \n",
            "129941      129941           US   \n",
            "129942      129942           US   \n",
            "129943      129943        Italy   \n",
            "129944      129944       Israel   \n",
            "129945      129945           US   \n",
            "129946      129946      Germany   \n",
            "129947      129947        Italy   \n",
            "129948      129948    Argentina   \n",
            "129949      129949           US   \n",
            "129950      129950           US   \n",
            "129951      129951       France   \n",
            "129952      129952           US   \n",
            "129953      129953  New Zealand   \n",
            "129954      129954  New Zealand   \n",
            "129955      129955  New Zealand   \n",
            "129956      129956  New Zealand   \n",
            "129957      129957        Spain   \n",
            "129958      129958  New Zealand   \n",
            "129959      129959       France   \n",
            "129960      129960     Portugal   \n",
            "129961      129961        Italy   \n",
            "129962      129962        Italy   \n",
            "129963      129963       Israel   \n",
            "129964      129964       France   \n",
            "129965      129965       France   \n",
            "129966      129966      Germany   \n",
            "129967      129967           US   \n",
            "129968      129968       France   \n",
            "129969      129969       France   \n",
            "129970      129970       France   \n",
            "\n",
            "                                              description  \\\n",
            "0       Aromas include tropical fruit, broom, brimston...   \n",
            "1       This is ripe and fruity, a wine that is smooth...   \n",
            "2       Tart and snappy, the flavors of lime flesh and...   \n",
            "3       Pineapple rind, lemon pith and orange blossom ...   \n",
            "4       Much like the regular bottling from 2012, this...   \n",
            "5       Blackberry and raspberry aromas show a typical...   \n",
            "6       Here's a bright, informal red that opens with ...   \n",
            "7       This dry and restrained wine offers spice in p...   \n",
            "8       Savory dried thyme notes accent sunnier flavor...   \n",
            "9       This has great depth of flavor with its fresh ...   \n",
            "10      Soft, supple plum envelopes an oaky structure ...   \n",
            "11      This is a dry wine, very spicy, with a tight, ...   \n",
            "12      Slightly reduced, this wine offers a chalky, t...   \n",
            "13      This is dominated by oak and oak-driven aromas...   \n",
            "14      Building on 150 years and six generations of w...   \n",
            "15      Zesty orange peels and apple notes abound in t...   \n",
            "16      Baked plum, molasses, balsamic vinegar and che...   \n",
            "17      Raw black-cherry aromas are direct and simple ...   \n",
            "18      Desiccated blackberry, leather, charred wood a...   \n",
            "19      Red fruit aromas pervade on the nose, with cig...   \n",
            "20      Ripe aromas of dark berries mingle with ample ...   \n",
            "21      A sleek mix of tart berry, stem and herb, alon...   \n",
            "22      Delicate aromas recall white flower and citrus...   \n",
            "23      This wine from the Geneseo district offers aro...   \n",
            "24      Aromas of prune, blackcurrant, toast and oak c...   \n",
            "25      Oak and earth intermingle around robust aromas...   \n",
            "26      Pretty aromas of yellow flower and stone fruit...   \n",
            "27      Aromas recall ripe dark berry, toast and a whi...   \n",
            "28      Aromas suggest mature berry, scorched earth, a...   \n",
            "29      Clarksburg is becoming a haven for Chenin Blan...   \n",
            "...                                                   ...   \n",
            "129941  A Chardonnay with an unusual companion, 8% Sém...   \n",
            "129942  This is classic in herbaceous aromas and flavo...   \n",
            "129943  A blend of Nero d'Avola and Syrah, this convey...   \n",
            "129944  Deep garnet in the glass, this has a nose of b...   \n",
            "129945  Hailing from one of the more popular vineyards...   \n",
            "129946  Plump, clingy peach and honey notes are cut wi...   \n",
            "129947  A blend of 65% Cabernet Sauvignon, 30% Merlot ...   \n",
            "129948  Raspberry and cassis aromas are fresh and upri...   \n",
            "129949  There's no bones about the use of oak in this ...   \n",
            "129950  This opens with herbaceous dollops of thyme an...   \n",
            "129951  Hugely spicy this rich wine is described as sw...   \n",
            "129952  This Zinfandel from the eastern section of Nap...   \n",
            "129953  Roughly two-thirds Cabernet and one-third Merl...   \n",
            "129954  One of the more characterful Pinot Gris for th...   \n",
            "129955  Like Dog Point's 2011 Chardonnay, this wine is...   \n",
            "129956  The blend is 44% Merlot, 33% Cabernet Sauvigno...   \n",
            "129957  Lightly baked berry aromas vie for attention w...   \n",
            "129958  This blend of Cabernet Sauvignon-Merlot and Ca...   \n",
            "129959  The granite soil of the Brand Grand Cru vineya...   \n",
            "129960  Fresh and fruity, this is full of red cherry f...   \n",
            "129961  Intense aromas of wild cherry, baking spice, t...   \n",
            "129962  Blackberry, cassis, grilled herb and toasted a...   \n",
            "129963  A bouquet of black cherry, tart cranberry and ...   \n",
            "129964  Initially quite muted, this wine slowly develo...   \n",
            "129965  While it's rich, this beautiful dry wine also ...   \n",
            "129966  Notes of honeysuckle and cantaloupe sweeten th...   \n",
            "129967  Citation is given as much as a decade of bottl...   \n",
            "129968  Well-drained gravel soil gives this wine its c...   \n",
            "129969  A dry style of Pinot Gris, this is crisp with ...   \n",
            "129970  Big, rich and off-dry, this is powered by inte...   \n",
            "\n",
            "                                              designation  points  price  \\\n",
            "0                                            Vulkà Bianco      87    NaN   \n",
            "1                                                Avidagos      87   15.0   \n",
            "2                                                     NaN      87   14.0   \n",
            "3                                    Reserve Late Harvest      87   13.0   \n",
            "4                      Vintner's Reserve Wild Child Block      87   65.0   \n",
            "5                                            Ars In Vitro      87   15.0   \n",
            "6                                                 Belsito      87   16.0   \n",
            "7                                                     NaN      87   24.0   \n",
            "8                                                   Shine      87   12.0   \n",
            "9                                             Les Natures      87   27.0   \n",
            "10                                         Mountain Cuvée      87   19.0   \n",
            "11                                                    NaN      87   30.0   \n",
            "12                                                    NaN      87   34.0   \n",
            "13                                                  Rosso      87    NaN   \n",
            "14                                                    NaN      87   12.0   \n",
            "15                                                  Devon      87   24.0   \n",
            "16                                                  Felix      87   30.0   \n",
            "17                                    Winemaker Selection      87   13.0   \n",
            "18      Vendimia Seleccionada Finca Valdelayegua Singl...      87   28.0   \n",
            "19                                                    NaN      87   32.0   \n",
            "20                                          Vin de Maison      87   23.0   \n",
            "21                                                    NaN      87   20.0   \n",
            "22                                              Ficiligno      87   19.0   \n",
            "23                                    Signature Selection      87   22.0   \n",
            "24                                                  Aynat      87   35.0   \n",
            "25                                    King Ridge Vineyard      87   69.0   \n",
            "26                                                 Dalila      87   13.0   \n",
            "27                                                    NaN      87   10.0   \n",
            "28                                     Mascaria Barricato      87   17.0   \n",
            "29                                                    NaN      86   16.0   \n",
            "...                                                   ...     ...    ...   \n",
            "129941                                                NaN      90   20.0   \n",
            "129942                                                NaN      90   35.0   \n",
            "129943                                            Adènzia      90   29.0   \n",
            "129944                 Special Reserve Winemakers' Choice      90   25.0   \n",
            "129945                   Jurassic Park Vineyard Old Vines      90   20.0   \n",
            "129946                                                Dom      90   17.0   \n",
            "129947                                           Symposio      90   20.0   \n",
            "129948                                           Pedernal      90   43.0   \n",
            "129949                                   Barrel Fermented      90   35.0   \n",
            "129950                                      Blocks 7 & 22      90   35.0   \n",
            "129951                                             Holder      90   30.0   \n",
            "129952                                                NaN      90   22.0   \n",
            "129953                                            Elspeth      90   25.0   \n",
            "129954                                      Single Estate      90   15.0   \n",
            "129955                                                NaN      90   40.0   \n",
            "129956  Gimblett Gravels Merlot-Cabernet Sauvignon-Malbec      90   19.0   \n",
            "129957                                            Crianza      90   17.0   \n",
            "129958                                           Irongate      90   35.0   \n",
            "129959                                    Brand Grand Cru      90   57.0   \n",
            "129960                                            Vértice      90   48.0   \n",
            "129961                                                NaN      90   30.0   \n",
            "129962                          Sàgana Tenuta San Giacomo      90   40.0   \n",
            "129963                                           Oak Aged      90   20.0   \n",
            "129964                       Domaine Saint-Rémy Herrenweg      90    NaN   \n",
            "129965                        Seppi Landmann Vallée Noble      90   28.0   \n",
            "129966             Brauneberger Juffer-Sonnenuhr Spätlese      90   28.0   \n",
            "129967                                                NaN      90   75.0   \n",
            "129968                                              Kritt      90   30.0   \n",
            "129969                                                NaN      90   32.0   \n",
            "129970                      Lieu-dit Harth Cuvée Caroline      90   21.0   \n",
            "\n",
            "                 province               region_1           region_2  \\\n",
            "0       Sicily & Sardinia                   Etna                NaN   \n",
            "1                   Douro                    NaN                NaN   \n",
            "2                  Oregon      Willamette Valley  Willamette Valley   \n",
            "3                Michigan    Lake Michigan Shore                NaN   \n",
            "4                  Oregon      Willamette Valley  Willamette Valley   \n",
            "5          Northern Spain                Navarra                NaN   \n",
            "6       Sicily & Sardinia               Vittoria                NaN   \n",
            "7                  Alsace                 Alsace                NaN   \n",
            "8             Rheinhessen                    NaN                NaN   \n",
            "9                  Alsace                 Alsace                NaN   \n",
            "10             California            Napa Valley               Napa   \n",
            "11                 Alsace                 Alsace                NaN   \n",
            "12             California       Alexander Valley             Sonoma   \n",
            "13      Sicily & Sardinia                   Etna                NaN   \n",
            "14             California          Central Coast      Central Coast   \n",
            "15                  Mosel                    NaN                NaN   \n",
            "16                  Other               Cafayate                NaN   \n",
            "17       Mendoza Province                Mendoza                NaN   \n",
            "18         Northern Spain       Ribera del Duero                NaN   \n",
            "19               Virginia               Virginia                NaN   \n",
            "20               Virginia               Virginia                NaN   \n",
            "21                 Oregon                 Oregon       Oregon Other   \n",
            "22      Sicily & Sardinia                Sicilia                NaN   \n",
            "23             California            Paso Robles      Central Coast   \n",
            "24      Sicily & Sardinia                Sicilia                NaN   \n",
            "25             California           Sonoma Coast             Sonoma   \n",
            "26      Sicily & Sardinia        Terre Siciliane                NaN   \n",
            "27      Sicily & Sardinia        Terre Siciliane                NaN   \n",
            "28      Sicily & Sardinia  Cerasuolo di Vittoria                NaN   \n",
            "29             California             Clarksburg     Central Valley   \n",
            "...                   ...                    ...                ...   \n",
            "129941         California       Mendocino County                NaN   \n",
            "129942         California          Sonoma County             Sonoma   \n",
            "129943  Sicily & Sardinia                Sicilia                NaN   \n",
            "129944            Galilee                    NaN                NaN   \n",
            "129945         California      Santa Ynez Valley      Central Coast   \n",
            "129946              Mosel                    NaN                NaN   \n",
            "129947  Sicily & Sardinia        Terre Siciliane                NaN   \n",
            "129948              Other               San Juan                NaN   \n",
            "129949         California            Napa Valley               Napa   \n",
            "129950         California            Napa Valley               Napa   \n",
            "129951             Alsace                 Alsace                NaN   \n",
            "129952         California          Chiles Valley               Napa   \n",
            "129953        Hawke's Bay                    NaN                NaN   \n",
            "129954        Marlborough                    NaN                NaN   \n",
            "129955        Marlborough                    NaN                NaN   \n",
            "129956        Hawke's Bay                    NaN                NaN   \n",
            "129957     Northern Spain                  Rioja                NaN   \n",
            "129958        Hawke's Bay                    NaN                NaN   \n",
            "129959             Alsace                 Alsace                NaN   \n",
            "129960              Douro                    NaN                NaN   \n",
            "129961  Sicily & Sardinia                Sicilia                NaN   \n",
            "129962  Sicily & Sardinia                Sicilia                NaN   \n",
            "129963            Galilee                    NaN                NaN   \n",
            "129964             Alsace                 Alsace                NaN   \n",
            "129965             Alsace                 Alsace                NaN   \n",
            "129966              Mosel                    NaN                NaN   \n",
            "129967             Oregon                 Oregon       Oregon Other   \n",
            "129968             Alsace                 Alsace                NaN   \n",
            "129969             Alsace                 Alsace                NaN   \n",
            "129970             Alsace                 Alsace                NaN   \n",
            "\n",
            "               taster_name taster_twitter_handle  \\\n",
            "0            Kerin O’Keefe          @kerinokeefe   \n",
            "1               Roger Voss            @vossroger   \n",
            "2             Paul Gregutt           @paulgwine    \n",
            "3       Alexander Peartree                   NaN   \n",
            "4             Paul Gregutt           @paulgwine    \n",
            "5        Michael Schachner           @wineschach   \n",
            "6            Kerin O’Keefe          @kerinokeefe   \n",
            "7               Roger Voss            @vossroger   \n",
            "8       Anna Lee C. Iijima                   NaN   \n",
            "9               Roger Voss            @vossroger   \n",
            "10          Virginie Boone               @vboone   \n",
            "11              Roger Voss            @vossroger   \n",
            "12          Virginie Boone               @vboone   \n",
            "13           Kerin O’Keefe          @kerinokeefe   \n",
            "14           Matt Kettmann         @mattkettmann   \n",
            "15      Anna Lee C. Iijima                   NaN   \n",
            "16       Michael Schachner           @wineschach   \n",
            "17       Michael Schachner           @wineschach   \n",
            "18       Michael Schachner           @wineschach   \n",
            "19      Alexander Peartree                   NaN   \n",
            "20      Alexander Peartree                   NaN   \n",
            "21            Paul Gregutt           @paulgwine    \n",
            "22           Kerin O’Keefe          @kerinokeefe   \n",
            "23           Matt Kettmann         @mattkettmann   \n",
            "24           Kerin O’Keefe          @kerinokeefe   \n",
            "25          Virginie Boone               @vboone   \n",
            "26           Kerin O’Keefe          @kerinokeefe   \n",
            "27           Kerin O’Keefe          @kerinokeefe   \n",
            "28           Kerin O’Keefe          @kerinokeefe   \n",
            "29          Virginie Boone               @vboone   \n",
            "...                    ...                   ...   \n",
            "129941      Virginie Boone               @vboone   \n",
            "129942      Virginie Boone               @vboone   \n",
            "129943       Kerin O’Keefe          @kerinokeefe   \n",
            "129944       Mike DeSimone        @worldwineguys   \n",
            "129945       Matt Kettmann         @mattkettmann   \n",
            "129946  Anna Lee C. Iijima                   NaN   \n",
            "129947       Kerin O’Keefe          @kerinokeefe   \n",
            "129948   Michael Schachner           @wineschach   \n",
            "129949      Virginie Boone               @vboone   \n",
            "129950      Virginie Boone               @vboone   \n",
            "129951          Roger Voss            @vossroger   \n",
            "129952      Virginie Boone               @vboone   \n",
            "129953      Joe Czerwinski                @JoeCz   \n",
            "129954      Joe Czerwinski                @JoeCz   \n",
            "129955      Joe Czerwinski                @JoeCz   \n",
            "129956      Joe Czerwinski                @JoeCz   \n",
            "129957   Michael Schachner           @wineschach   \n",
            "129958      Joe Czerwinski                @JoeCz   \n",
            "129959          Roger Voss            @vossroger   \n",
            "129960          Roger Voss            @vossroger   \n",
            "129961       Kerin O’Keefe          @kerinokeefe   \n",
            "129962       Kerin O’Keefe          @kerinokeefe   \n",
            "129963       Mike DeSimone        @worldwineguys   \n",
            "129964          Roger Voss            @vossroger   \n",
            "129965          Roger Voss            @vossroger   \n",
            "129966  Anna Lee C. Iijima                   NaN   \n",
            "129967        Paul Gregutt           @paulgwine    \n",
            "129968          Roger Voss            @vossroger   \n",
            "129969          Roger Voss            @vossroger   \n",
            "129970          Roger Voss            @vossroger   \n",
            "\n",
            "                                                    title  \\\n",
            "0                       Nicosia 2013 Vulkà Bianco  (Etna)   \n",
            "1           Quinta dos Avidagos 2011 Avidagos Red (Douro)   \n",
            "2           Rainstorm 2013 Pinot Gris (Willamette Valley)   \n",
            "3       St. Julian 2013 Reserve Late Harvest Riesling ...   \n",
            "4       Sweet Cheeks 2012 Vintner's Reserve Wild Child...   \n",
            "5       Tandem 2011 Ars In Vitro Tempranillo-Merlot (N...   \n",
            "6        Terre di Giurfo 2013 Belsito Frappato (Vittoria)   \n",
            "7                   Trimbach 2012 Gewurztraminer (Alsace)   \n",
            "8       Heinz Eifel 2013 Shine Gewürztraminer (Rheinhe...   \n",
            "9       Jean-Baptiste Adam 2012 Les Natures Pinot Gris...   \n",
            "10      Kirkland Signature 2011 Mountain Cuvée Caberne...   \n",
            "11                Leon Beyer 2012 Gewurztraminer (Alsace)   \n",
            "12      Louis M. Martini 2012 Cabernet Sauvignon (Alex...   \n",
            "13                 Masseria Setteporte 2012 Rosso  (Etna)   \n",
            "14               Mirassou 2012 Chardonnay (Central Coast)   \n",
            "15            Richard Böcking 2013 Devon Riesling (Mosel)   \n",
            "16             Felix Lavaque 2010 Felix Malbec (Cafayate)   \n",
            "17      Gaucho Andino 2011 Winemaker Selection Malbec ...   \n",
            "18      Pradorey 2010 Vendimia Seleccionada Finca Vald...   \n",
            "19                   Quiévremont 2012 Meritage (Virginia)   \n",
            "20          Quiévremont 2012 Vin de Maison Red (Virginia)   \n",
            "21                       Acrobat 2013 Pinot Noir (Oregon)   \n",
            "22      Baglio di Pianetto 2007 Ficiligno White (Sicilia)   \n",
            "23      Bianchi 2011 Signature Selection Merlot (Paso ...   \n",
            "24            Canicattì 2009 Aynat Nero d'Avola (Sicilia)   \n",
            "25      Castello di Amorosa 2011 King Ridge Vineyard P...   \n",
            "26           Stemmari 2013 Dalila White (Terre Siciliane)   \n",
            "27           Stemmari 2013 Nero d'Avola (Terre Siciliane)   \n",
            "28      Terre di Giurfo 2011 Mascaria Barricato  (Cera...   \n",
            "29      Clarksburg Wine Company 2010 Chenin Blanc (Cla...   \n",
            "...                                                   ...   \n",
            "129941         Apriori 2013 Chardonnay (Mendocino County)   \n",
            "129942   Arrowood 2010 Cabernet Sauvignon (Sonoma County)   \n",
            "129943  Baglio del Cristo di Campobello 2012 Adènzia R...   \n",
            "129944  Barkan 2011 Special Reserve Winemakers' Choice...   \n",
            "129945  Birichino 2013 Jurassic Park Vineyard Old Vine...   \n",
            "129946  Bischöfliche Weingüter Trier 2013 Dom Riesling...   \n",
            "129947  Feudo Principi di Butera 2012 Symposio Red (Te...   \n",
            "129948    Finca Las Moras 2010 Pedernal Malbec (San Juan)   \n",
            "129949  Flora Springs 2013 Barrel Fermented Chardonnay...   \n",
            "129950  Hendry 2012 Blocks 7 & 22 Zinfandel (Napa Valley)   \n",
            "129951  Henri Schoenheitz 2012 Holder Gewurztraminer (...   \n",
            "129952             Houdini 2011 Zinfandel (Chiles Valley)   \n",
            "129953  Mills Reef 2011 Elspeth Cabernet Merlot (Hawke...   \n",
            "129954    Ara 2013 Single Estate Pinot Gris (Marlborough)   \n",
            "129955            Dog Point 2012 Chardonnay (Marlborough)   \n",
            "129956  Esk Valley 2011 Gimblett Gravels Merlot-Cabern...   \n",
            "129957           Viñedos Real Rubio 2010 Crianza  (Rioja)   \n",
            "129958             Babich 2010 Irongate Red (Hawke's Bay)   \n",
            "129959  Cave de Turckheim 2010 Brand Grand Cru Pinot G...   \n",
            "129960  Caves Transmontanas 2006 Vértice Pinot Noir (D...   \n",
            "129961                        COS 2013 Frappato (Sicilia)   \n",
            "129962  Cusumano 2012 Sàgana Tenuta San Giacomo Nero d...   \n",
            "129963  Dalton 2012 Oak Aged Cabernet Sauvignon (Galilee)   \n",
            "129964  Domaine Ehrhart 2013 Domaine Saint-Rémy Herren...   \n",
            "129965  Domaine Rieflé-Landmann 2013 Seppi Landmann Va...   \n",
            "129966  Dr. H. Thanisch (Erben Müller-Burggraef) 2013 ...   \n",
            "129967                  Citation 2004 Pinot Noir (Oregon)   \n",
            "129968  Domaine Gresser 2013 Kritt Gewurztraminer (Als...   \n",
            "129969      Domaine Marcel Deiss 2012 Pinot Gris (Alsace)   \n",
            "129970  Domaine Schoffit 2012 Lieu-dit Harth Cuvée Car...   \n",
            "\n",
            "                         variety                                    winery  \n",
            "0                    White Blend                                   Nicosia  \n",
            "1                 Portuguese Red                       Quinta dos Avidagos  \n",
            "2                     Pinot Gris                                 Rainstorm  \n",
            "3                       Riesling                                St. Julian  \n",
            "4                     Pinot Noir                              Sweet Cheeks  \n",
            "5             Tempranillo-Merlot                                    Tandem  \n",
            "6                       Frappato                           Terre di Giurfo  \n",
            "7                 Gewürztraminer                                  Trimbach  \n",
            "8                 Gewürztraminer                               Heinz Eifel  \n",
            "9                     Pinot Gris                        Jean-Baptiste Adam  \n",
            "10            Cabernet Sauvignon                        Kirkland Signature  \n",
            "11                Gewürztraminer                                Leon Beyer  \n",
            "12            Cabernet Sauvignon                          Louis M. Martini  \n",
            "13             Nerello Mascalese                       Masseria Setteporte  \n",
            "14                    Chardonnay                                  Mirassou  \n",
            "15                      Riesling                           Richard Böcking  \n",
            "16                        Malbec                             Felix Lavaque  \n",
            "17                        Malbec                             Gaucho Andino  \n",
            "18             Tempranillo Blend                                  Pradorey  \n",
            "19                      Meritage                               Quiévremont  \n",
            "20                     Red Blend                               Quiévremont  \n",
            "21                    Pinot Noir                                   Acrobat  \n",
            "22                   White Blend                        Baglio di Pianetto  \n",
            "23                        Merlot                                   Bianchi  \n",
            "24                  Nero d'Avola                                 Canicattì  \n",
            "25                    Pinot Noir                       Castello di Amorosa  \n",
            "26                   White Blend                                  Stemmari  \n",
            "27                  Nero d'Avola                                  Stemmari  \n",
            "28                     Red Blend                           Terre di Giurfo  \n",
            "29                  Chenin Blanc                   Clarksburg Wine Company  \n",
            "...                          ...                                       ...  \n",
            "129941                Chardonnay                                   Apriori  \n",
            "129942        Cabernet Sauvignon                                  Arrowood  \n",
            "129943                 Red Blend           Baglio del Cristo di Campobello  \n",
            "129944                    Shiraz                                    Barkan  \n",
            "129945              Chenin Blanc                                 Birichino  \n",
            "129946                  Riesling              Bischöfliche Weingüter Trier  \n",
            "129947                 Red Blend                  Feudo Principi di Butera  \n",
            "129948                    Malbec                           Finca Las Moras  \n",
            "129949                Chardonnay                             Flora Springs  \n",
            "129950                 Zinfandel                                    Hendry  \n",
            "129951            Gewürztraminer                         Henri Schoenheitz  \n",
            "129952                 Zinfandel                                   Houdini  \n",
            "129953           Cabernet Merlot                                Mills Reef  \n",
            "129954                Pinot Gris                                       Ara  \n",
            "129955                Chardonnay                                 Dog Point  \n",
            "129956  Bordeaux-style Red Blend                                Esk Valley  \n",
            "129957         Tempranillo Blend                        Viñedos Real Rubio  \n",
            "129958  Bordeaux-style Red Blend                                    Babich  \n",
            "129959                Pinot Gris                         Cave de Turckheim  \n",
            "129960                Pinot Noir                       Caves Transmontanas  \n",
            "129961                  Frappato                                       COS  \n",
            "129962              Nero d'Avola                                  Cusumano  \n",
            "129963        Cabernet Sauvignon                                    Dalton  \n",
            "129964            Gewürztraminer                           Domaine Ehrhart  \n",
            "129965                Pinot Gris                   Domaine Rieflé-Landmann  \n",
            "129966                  Riesling  Dr. H. Thanisch (Erben Müller-Burggraef)  \n",
            "129967                Pinot Noir                                  Citation  \n",
            "129968            Gewürztraminer                           Domaine Gresser  \n",
            "129969                Pinot Gris                      Domaine Marcel Deiss  \n",
            "129970            Gewürztraminer                          Domaine Schoffit  \n",
            "\n",
            "[129971 rows x 14 columns]\n"
          ],
          "name": "stdout"
        }
      ]
    },
    {
      "metadata": {
        "id": "ct4DZaQxU7N0",
        "colab_type": "code",
        "outputId": "e1d26b1d-8946-4826-8951-8cf55ad7834b",
        "colab": {
          "resources": {
            "http://localhost:8080/nbextensions/google.colab/files.js": {
              "data": "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",
              "ok": true,
              "headers": [
                [
                  "content-type",
                  "application/javascript"
                ]
              ],
              "status": 200,
              "status_text": ""
            }
          },
          "base_uri": "https://localhost:8080/",
          "height": 74
        }
      },
      "cell_type": "code",
      "source": [
        "uploaded = files.upload()"
      ],
      "execution_count": 0,
      "outputs": [
        {
          "output_type": "display_data",
          "data": {
            "text/html": [
              "\n",
              "     <input type=\"file\" id=\"files-63100b8e-00cc-4438-8905-bb8a20a35064\" name=\"files[]\" multiple disabled />\n",
              "     <output id=\"result-63100b8e-00cc-4438-8905-bb8a20a35064\">\n",
              "      Upload widget is only available when the cell has been executed in the\n",
              "      current browser session. Please rerun this cell to enable.\n",
              "      </output>\n",
              "      <script src=\"/nbextensions/google.colab/files.js\"></script> "
            ],
            "text/plain": [
              "<IPython.core.display.HTML object>"
            ]
          },
          "metadata": {
            "tags": []
          }
        },
        {
          "output_type": "stream",
          "text": [
            "Saving winemag-data_first150k.csv to winemag-data_first150k.csv\n"
          ],
          "name": "stdout"
        }
      ]
    },
    {
      "metadata": {
        "id": "4D7fdNmjVDdh",
        "colab_type": "code",
        "outputId": "a8028f5e-68e2-4d14-b94a-f105e807a694",
        "colab": {
          "base_uri": "https://localhost:8080/",
          "height": 34
        }
      },
      "cell_type": "code",
      "source": [
        "for fn in uploaded.keys():\n",
        "  print('User uploaded file \"{name}\" with length {length} bytes'.format(\n",
        "      name=fn, length=len(uploaded[fn])))"
      ],
      "execution_count": 0,
      "outputs": [
        {
          "output_type": "stream",
          "text": [
            "User uploaded file \"winemag-data_first150k.csv\" with length 49784334 bytes\n"
          ],
          "name": "stdout"
        }
      ]
    },
    {
      "metadata": {
        "id": "5wnHpJJVX7CI",
        "colab_type": "code",
        "colab": {}
      },
      "cell_type": "code",
      "source": [
        "uploaded"
      ],
      "execution_count": 0,
      "outputs": []
    },
    {
      "metadata": {
        "id": "dTQISPYwX-Ss",
        "colab_type": "code",
        "colab": {}
      },
      "cell_type": "code",
      "source": [
        "import io"
      ],
      "execution_count": 0,
      "outputs": []
    },
    {
      "metadata": {
        "id": "-nB6oj7AYBDd",
        "colab_type": "code",
        "outputId": "93e37d6d-cdfb-45d1-d955-16e42670ea71",
        "colab": {
          "base_uri": "https://localhost:8080/",
          "height": 6460
        }
      },
      "cell_type": "code",
      "source": [
        "df1 = pd.read_csv(io.StringIO(uploaded['winemag-data_first150k.csv'].decode('utf-8')))\n",
        "print(df1)"
      ],
      "execution_count": 0,
      "outputs": [
        {
          "output_type": "stream",
          "text": [
            "        Unnamed: 0      country  \\\n",
            "0                0           US   \n",
            "1                1        Spain   \n",
            "2                2           US   \n",
            "3                3           US   \n",
            "4                4       France   \n",
            "5                5        Spain   \n",
            "6                6        Spain   \n",
            "7                7        Spain   \n",
            "8                8           US   \n",
            "9                9           US   \n",
            "10              10        Italy   \n",
            "11              11           US   \n",
            "12              12           US   \n",
            "13              13       France   \n",
            "14              14           US   \n",
            "15              15           US   \n",
            "16              16           US   \n",
            "17              17        Spain   \n",
            "18              18       France   \n",
            "19              19           US   \n",
            "20              20           US   \n",
            "21              21        Spain   \n",
            "22              22        Spain   \n",
            "23              23           US   \n",
            "24              24           US   \n",
            "25              25  New Zealand   \n",
            "26              26           US   \n",
            "27              27           US   \n",
            "28              28           US   \n",
            "29              29           US   \n",
            "...            ...          ...   \n",
            "150900      150900        Chile   \n",
            "150901      150901        Chile   \n",
            "150902      150902        Chile   \n",
            "150903      150903        Chile   \n",
            "150904      150904        Chile   \n",
            "150905      150905        Chile   \n",
            "150906      150906       France   \n",
            "150907      150907       France   \n",
            "150908      150908       France   \n",
            "150909      150909       France   \n",
            "150910      150910       France   \n",
            "150911      150911       France   \n",
            "150912      150912       France   \n",
            "150913      150913       France   \n",
            "150914      150914           US   \n",
            "150915      150915           US   \n",
            "150916      150916           US   \n",
            "150917      150917       France   \n",
            "150918      150918       France   \n",
            "150919      150919       France   \n",
            "150920      150920        Italy   \n",
            "150921      150921       France   \n",
            "150922      150922        Italy   \n",
            "150923      150923       France   \n",
            "150924      150924       France   \n",
            "150925      150925        Italy   \n",
            "150926      150926       France   \n",
            "150927      150927        Italy   \n",
            "150928      150928       France   \n",
            "150929      150929        Italy   \n",
            "\n",
            "                                              description  \\\n",
            "0       This tremendous 100% varietal wine hails from ...   \n",
            "1       Ripe aromas of fig, blackberry and cassis are ...   \n",
            "2       Mac Watson honors the memory of a wine once ma...   \n",
            "3       This spent 20 months in 30% new French oak, an...   \n",
            "4       This is the top wine from La Bégude, named aft...   \n",
            "5       Deep, dense and pure from the opening bell, th...   \n",
            "6       Slightly gritty black-fruit aromas include a s...   \n",
            "7       Lush cedary black-fruit aromas are luxe and of...   \n",
            "8       This re-named vineyard was formerly bottled as...   \n",
            "9       The producer sources from two blocks of the vi...   \n",
            "10      Elegance, complexity and structure come togeth...   \n",
            "11      From 18-year-old vines, this supple well-balan...   \n",
            "12      A standout even in this terrific lineup of 201...   \n",
            "13      This wine is in peak condition. The tannins an...   \n",
            "14      With its sophisticated mix of mineral, acid an...   \n",
            "15      First made in 2006, this succulent luscious Ch...   \n",
            "16      This blockbuster, powerhouse of a wine suggest...   \n",
            "17      Nicely oaked blackberry, licorice, vanilla and...   \n",
            "18      Coming from a seven-acre vineyard named after ...   \n",
            "19      This fresh and lively medium-bodied wine is be...   \n",
            "20      Heitz has made this stellar rosé from the rare...   \n",
            "21      Alluring, complex and powerful aromas of grill...   \n",
            "22      Tarry blackberry and cheesy oak aromas are app...   \n",
            "23      The apogee of this ambitious winery's white wi...   \n",
            "24      San Jose-based producer Adam Comartin heads 1,...   \n",
            "25      Yields were down in 2015, but intensity is up,...   \n",
            "26      Bergström has made a Shea designate since 2003...   \n",
            "27      Focused and dense, this intense wine captures ...   \n",
            "28      Cranberry, baked rhubarb, anise and crushed sl...   \n",
            "29      This standout Rocks District wine brings earth...   \n",
            "...                                                   ...   \n",
            "150900  Aromas of freshly cut lumber, complete with so...   \n",
            "150901  Lavishly oaked, the fruit here struggles to ma...   \n",
            "150902  This medium weight Chardonnay offered aromas o...   \n",
            "150903  Very light berry and mint aromas open this aus...   \n",
            "150904  A lot of Chilean Cabernets seem to have a dist...   \n",
            "150905  There's not much point in making a reserve-sty...   \n",
            "150906  This lovely wine, a Monopole, is already showi...   \n",
            "150907  Rion holds back on the new oak, letting the pu...   \n",
            "150908  Another premier cru from Michel Gros, this one...   \n",
            "150909  This is a lovely, fragrant Burgundy, with a sm...   \n",
            "150910  Scents of graham cracker and malted milk choco...   \n",
            "150911  This needs a good bit of breathing time, then ...   \n",
            "150912  The nose is dominated by the attractive scents...   \n",
            "150913  Inky and rustic, yet in a refined manner. This...   \n",
            "150914  Old-gold in color, and thick and syrupy. The a...   \n",
            "150915  Decades ago, Beringer’s then-winemaker Myron N...   \n",
            "150916  An impressive wine that presents a full bouque...   \n",
            "150917  Light and elegant, this spicy, lively wine is ...   \n",
            "150918  Jacquart makes a full-bodied, ripe style of Ch...   \n",
            "150919  This classy example opens with a very floral n...   \n",
            "150920  Rich and mature aromas of smoke, earth and her...   \n",
            "150921  Shows some older notes: a bouquet of toasted w...   \n",
            "150922  Made by 30-ish Roberta Borghese high above Man...   \n",
            "150923  Rich and toasty, with tiny bubbles. The bouque...   \n",
            "150924  Really fine for a low-acid vintage, there's an...   \n",
            "150925  Many people feel Fiano represents southern Ita...   \n",
            "150926  Offers an intriguing nose with ginger, lime an...   \n",
            "150927  This classic example comes from a cru vineyard...   \n",
            "150928  A perfect salmon shade, with scents of peaches...   \n",
            "150929  More Pinot Grigios should taste like this. A r...   \n",
            "\n",
            "                                 designation  points  price  \\\n",
            "0                          Martha's Vineyard      96  235.0   \n",
            "1       Carodorum Selección Especial Reserva      96  110.0   \n",
            "2              Special Selected Late Harvest      96   90.0   \n",
            "3                                    Reserve      96   65.0   \n",
            "4                                 La Brûlade      95   66.0   \n",
            "5                                  Numanthia      95   73.0   \n",
            "6                                  San Román      95   65.0   \n",
            "7                    Carodorum Único Crianza      95  110.0   \n",
            "8                                     Silice      95   65.0   \n",
            "9                       Gap's Crown Vineyard      95   60.0   \n",
            "10                        Ronco della Chiesa      95   80.0   \n",
            "11           Estate Vineyard Wadensvil Block      95   48.0   \n",
            "12                            Weber Vineyard      95   48.0   \n",
            "13                   Château Montus Prestige      95   90.0   \n",
            "14                            Grace Vineyard      95  185.0   \n",
            "15                                    Sigrid      95   90.0   \n",
            "16                           Rainin Vineyard      95  325.0   \n",
            "17                    6 Años Reserva Premium      95   80.0   \n",
            "18                             Le Pigeonnier      95  290.0   \n",
            "19                      Gap's Crown Vineyard      95   75.0   \n",
            "20                                Grignolino      95   24.0   \n",
            "21                   Prado Enea Gran Reserva      95   79.0   \n",
            "22                                Termanthia      95  220.0   \n",
            "23                             Giallo Solare      95   60.0   \n",
            "24                             R-Bar-R Ranch      95   45.0   \n",
            "25                           Maté's Vineyard      94   57.0   \n",
            "26                             Shea Vineyard      94   62.0   \n",
            "27                                   Abetina      94  105.0   \n",
            "28                           Garys' Vineyard      94   60.0   \n",
            "29                           The Funk Estate      94   60.0   \n",
            "...                                      ...     ...    ...   \n",
            "150900                         Prima Reserva      81   13.0   \n",
            "150901                               Reserva      81   12.0   \n",
            "150902                        Estate Bottled      81   10.0   \n",
            "150903                                   120      81    7.0   \n",
            "150904                                   NaN      81   10.0   \n",
            "150905                         Prima Reserva      80   13.0   \n",
            "150906                         Clos des Reas      93   65.0   \n",
            "150907                       Les Beaux-Monts      92   52.0   \n",
            "150908                           Aux Brulees      90   65.0   \n",
            "150909                  Clos dea Argillieres      89   52.0   \n",
            "150910                                   NaN      89   38.0   \n",
            "150911                          Les Chaliots      87   37.0   \n",
            "150912                           Les Charmes      87   65.0   \n",
            "150913                                   NaN      94   30.0   \n",
            "150914           Late Harvest Cluster Select      94   25.0   \n",
            "150915                           Nightingale      93   30.0   \n",
            "150916                             J. Schram      93   65.0   \n",
            "150917                         Brut Mosaïque      92   30.0   \n",
            "150918                        Cuvée Mosaïque      92   38.0   \n",
            "150919                       Cuvée President      91   37.0   \n",
            "150920                          Brut Riserva      91   19.0   \n",
            "150921         Blanc de Blancs Brut Mosaïque      91   38.0   \n",
            "150922                             Superiore      91    NaN   \n",
            "150923                              Demi-Sec      91   30.0   \n",
            "150924                          Diamant Bleu      91   70.0   \n",
            "150925                                   NaN      91   20.0   \n",
            "150926                        Cuvée Prestige      91   27.0   \n",
            "150927                         Terre di Dora      91   20.0   \n",
            "150928                       Grand Brut Rosé      90   52.0   \n",
            "150929                                   NaN      90   15.0   \n",
            "\n",
            "                  province                    region_1  \\\n",
            "0               California                 Napa Valley   \n",
            "1           Northern Spain                        Toro   \n",
            "2               California              Knights Valley   \n",
            "3                   Oregon           Willamette Valley   \n",
            "4                 Provence                      Bandol   \n",
            "5           Northern Spain                        Toro   \n",
            "6           Northern Spain                        Toro   \n",
            "7           Northern Spain                        Toro   \n",
            "8                   Oregon          Chehalem Mountains   \n",
            "9               California                Sonoma Coast   \n",
            "10      Northeastern Italy                      Collio   \n",
            "11                  Oregon                Ribbon Ridge   \n",
            "12                  Oregon                Dundee Hills   \n",
            "13        Southwest France                     Madiran   \n",
            "14                  Oregon                Dundee Hills   \n",
            "15                  Oregon           Willamette Valley   \n",
            "16              California   Diamond Mountain District   \n",
            "17          Northern Spain            Ribera del Duero   \n",
            "18        Southwest France                      Cahors   \n",
            "19              California                Sonoma Coast   \n",
            "20              California                 Napa Valley   \n",
            "21          Northern Spain                       Rioja   \n",
            "22          Northern Spain                        Toro   \n",
            "23              California                 Edna Valley   \n",
            "24              California        Santa Cruz Mountains   \n",
            "25                   Kumeu                         NaN   \n",
            "26                  Oregon           Willamette Valley   \n",
            "27                  Oregon           Willamette Valley   \n",
            "28              California       Santa Lucia Highlands   \n",
            "29              Washington     Walla Walla Valley (WA)   \n",
            "...                    ...                         ...   \n",
            "150900        Maipo Valley                         NaN   \n",
            "150901        Maipo Valley                         NaN   \n",
            "150902        Maipo Valley                         NaN   \n",
            "150903        Rapel Valley                         NaN   \n",
            "150904        Maipo Valley                         NaN   \n",
            "150905        Maipo Valley                         NaN   \n",
            "150906            Burgundy               Vosne-Romanée   \n",
            "150907            Burgundy               Vosne-Romanée   \n",
            "150908            Burgundy               Vosne-Romanée   \n",
            "150909            Burgundy           Nuits-St.-Georges   \n",
            "150910            Burgundy           Chambolle-Musigny   \n",
            "150911            Burgundy           Nuits-St.-Georges   \n",
            "150912            Burgundy           Chambolle-Musigny   \n",
            "150913        Rhône Valley         Châteauneuf-du-Pape   \n",
            "150914          California             Anderson Valley   \n",
            "150915          California                 North Coast   \n",
            "150916          California                 Napa Valley   \n",
            "150917           Champagne                   Champagne   \n",
            "150918           Champagne                   Champagne   \n",
            "150919           Champagne                   Champagne   \n",
            "150920  Northeastern Italy                      Trento   \n",
            "150921           Champagne                   Champagne   \n",
            "150922  Northeastern Italy  Colli Orientali del Friuli   \n",
            "150923           Champagne                   Champagne   \n",
            "150924           Champagne                   Champagne   \n",
            "150925      Southern Italy           Fiano di Avellino   \n",
            "150926           Champagne                   Champagne   \n",
            "150927      Southern Italy           Fiano di Avellino   \n",
            "150928           Champagne                   Champagne   \n",
            "150929  Northeastern Italy                  Alto Adige   \n",
            "\n",
            "                       region_2                variety  \\\n",
            "0                          Napa     Cabernet Sauvignon   \n",
            "1                           NaN          Tinta de Toro   \n",
            "2                        Sonoma        Sauvignon Blanc   \n",
            "3             Willamette Valley             Pinot Noir   \n",
            "4                           NaN     Provence red blend   \n",
            "5                           NaN          Tinta de Toro   \n",
            "6                           NaN          Tinta de Toro   \n",
            "7                           NaN          Tinta de Toro   \n",
            "8             Willamette Valley             Pinot Noir   \n",
            "9                        Sonoma             Pinot Noir   \n",
            "10                          NaN               Friulano   \n",
            "11            Willamette Valley             Pinot Noir   \n",
            "12            Willamette Valley             Pinot Noir   \n",
            "13                          NaN                 Tannat   \n",
            "14            Willamette Valley             Pinot Noir   \n",
            "15            Willamette Valley             Chardonnay   \n",
            "16                         Napa     Cabernet Sauvignon   \n",
            "17                          NaN            Tempranillo   \n",
            "18                          NaN                 Malbec   \n",
            "19                       Sonoma             Pinot Noir   \n",
            "20                         Napa                   Rosé   \n",
            "21                          NaN      Tempranillo Blend   \n",
            "22                          NaN          Tinta de Toro   \n",
            "23                Central Coast             Chardonnay   \n",
            "24                Central Coast             Pinot Noir   \n",
            "25                          NaN             Chardonnay   \n",
            "26                          NaN             Pinot Noir   \n",
            "27            Willamette Valley             Pinot Noir   \n",
            "28                Central Coast             Pinot Noir   \n",
            "29              Columbia Valley                  Syrah   \n",
            "...                         ...                    ...   \n",
            "150900                      NaN     Cabernet Sauvignon   \n",
            "150901                      NaN                 Merlot   \n",
            "150902                      NaN             Chardonnay   \n",
            "150903                      NaN     Cabernet Sauvignon   \n",
            "150904                      NaN     Cabernet Sauvignon   \n",
            "150905                      NaN                 Merlot   \n",
            "150906                      NaN             Pinot Noir   \n",
            "150907                      NaN             Pinot Noir   \n",
            "150908                      NaN             Pinot Noir   \n",
            "150909                      NaN             Pinot Noir   \n",
            "150910                      NaN             Pinot Noir   \n",
            "150911                      NaN             Pinot Noir   \n",
            "150912                      NaN             Pinot Noir   \n",
            "150913                      NaN  Rhône-style Red Blend   \n",
            "150914  Mendocino/Lake Counties         White Riesling   \n",
            "150915              North Coast            White Blend   \n",
            "150916                     Napa        Champagne Blend   \n",
            "150917                      NaN        Champagne Blend   \n",
            "150918                      NaN        Champagne Blend   \n",
            "150919                      NaN        Champagne Blend   \n",
            "150920                      NaN        Champagne Blend   \n",
            "150921                      NaN        Champagne Blend   \n",
            "150922                      NaN                  Tocai   \n",
            "150923                      NaN        Champagne Blend   \n",
            "150924                      NaN        Champagne Blend   \n",
            "150925                      NaN            White Blend   \n",
            "150926                      NaN        Champagne Blend   \n",
            "150927                      NaN            White Blend   \n",
            "150928                      NaN        Champagne Blend   \n",
            "150929                      NaN           Pinot Grigio   \n",
            "\n",
            "                         winery  \n",
            "0                         Heitz  \n",
            "1       Bodega Carmen Rodríguez  \n",
            "2                      Macauley  \n",
            "3                         Ponzi  \n",
            "4          Domaine de la Bégude  \n",
            "5                     Numanthia  \n",
            "6                      Maurodos  \n",
            "7       Bodega Carmen Rodríguez  \n",
            "8                     Bergström  \n",
            "9                     Blue Farm  \n",
            "10             Borgo del Tiglio  \n",
            "11       Patricia Green Cellars  \n",
            "12       Patricia Green Cellars  \n",
            "13            Vignobles Brumont  \n",
            "14               Domaine Serene  \n",
            "15                    Bergström  \n",
            "16                         Hall  \n",
            "17                     Valduero  \n",
            "18           Château Lagrézette  \n",
            "19                 Gary Farrell  \n",
            "20                        Heitz  \n",
            "21                         Muga  \n",
            "22                    Numanthia  \n",
            "23             Center of Effort  \n",
            "24                     Comartin  \n",
            "25                  Kumeu River  \n",
            "26                    Bergström  \n",
            "27                        Ponzi  \n",
            "28                         Roar  \n",
            "29                       Saviah  \n",
            "...                         ...  \n",
            "150900               De Martino  \n",
            "150901                Undurraga  \n",
            "150902               De Martino  \n",
            "150903               Santa Rita  \n",
            "150904               De Martino  \n",
            "150905               De Martino  \n",
            "150906              Michel Gros  \n",
            "150907              Daniel Rion  \n",
            "150908              Michel Gros  \n",
            "150909              Daniel Rion  \n",
            "150910              Michel Gros  \n",
            "150911              Michel Gros  \n",
            "150912              Daniel Rion  \n",
            "150913          Le Vieux Donjon  \n",
            "150914                  Navarro  \n",
            "150915                 Beringer  \n",
            "150916              Schramsberg  \n",
            "150917                 Jacquart  \n",
            "150918                 Jacquart  \n",
            "150919                H.Germain  \n",
            "150920                  Letrari  \n",
            "150921                 Jacquart  \n",
            "150922        Ronchi di Manzano  \n",
            "150923                 Jacquart  \n",
            "150924  Heidsieck & Co Monopole  \n",
            "150925    Feudi di San Gregorio  \n",
            "150926                H.Germain  \n",
            "150927                Terredora  \n",
            "150928                   Gosset  \n",
            "150929            Alois Lageder  \n",
            "\n",
            "[150930 rows x 11 columns]\n"
          ],
          "name": "stdout"
        }
      ]
    },
    {
      "metadata": {
        "id": "c1HD1VtLruw8",
        "colab_type": "code",
        "outputId": "56b17ea3-fa5d-4afc-c2c2-cd195ccfa6df",
        "colab": {
          "resources": {
            "http://localhost:8080/nbextensions/google.colab/files.js": {
              "data": "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",
              "ok": true,
              "headers": [
                [
                  "content-type",
                  "application/javascript"
                ]
              ],
              "status": 200,
              "status_text": ""
            }
          },
          "base_uri": "https://localhost:8080/",
          "height": 74
        }
      },
      "cell_type": "code",
      "source": [
        "uploaded = files.upload()"
      ],
      "execution_count": 0,
      "outputs": [
        {
          "output_type": "display_data",
          "data": {
            "text/html": [
              "\n",
              "     <input type=\"file\" id=\"files-236f53e1-d785-428d-b301-aa998ff2bb1f\" name=\"files[]\" multiple disabled />\n",
              "     <output id=\"result-236f53e1-d785-428d-b301-aa998ff2bb1f\">\n",
              "      Upload widget is only available when the cell has been executed in the\n",
              "      current browser session. Please rerun this cell to enable.\n",
              "      </output>\n",
              "      <script src=\"/nbextensions/google.colab/files.js\"></script> "
            ],
            "text/plain": [
              "<IPython.core.display.HTML object>"
            ]
          },
          "metadata": {
            "tags": []
          }
        },
        {
          "output_type": "stream",
          "text": [
            "Saving winemag-data-130k-v2.json to winemag-data-130k-v2.json\n"
          ],
          "name": "stdout"
        }
      ]
    },
    {
      "metadata": {
        "id": "H_ckixAMvZ65",
        "colab_type": "code",
        "outputId": "2fdab55c-b759-454b-9460-b8b820056c8e",
        "colab": {
          "base_uri": "https://localhost:8080/",
          "height": 34
        }
      },
      "cell_type": "code",
      "source": [
        "for fn in uploaded.keys():\n",
        "  print('User uploaded file \"{name}\" with length {length} bytes'.format(\n",
        "      name=fn, length=len(uploaded[fn])))"
      ],
      "execution_count": 0,
      "outputs": [
        {
          "output_type": "stream",
          "text": [
            "User uploaded file \"winemag-data-130k-v2.json\" with length 79279294 bytes\n"
          ],
          "name": "stdout"
        }
      ]
    },
    {
      "metadata": {
        "id": "b7YRkysQwpsR",
        "colab_type": "code",
        "colab": {}
      },
      "cell_type": "code",
      "source": [
        "uploaded"
      ],
      "execution_count": 0,
      "outputs": []
    },
    {
      "metadata": {
        "id": "6SsbrgT3wuOK",
        "colab_type": "code",
        "colab": {}
      },
      "cell_type": "code",
      "source": [
        "import io"
      ],
      "execution_count": 0,
      "outputs": []
    },
    {
      "metadata": {
        "id": "qDr4tMeE4_F7",
        "colab_type": "code",
        "outputId": "78e10451-3ef2-40d8-abb2-65c5b3d10204",
        "colab": {
          "base_uri": "https://localhost:8080/",
          "height": 6460
        }
      },
      "cell_type": "code",
      "source": [
        "df1 = pd.read_json(io.StringIO(uploaded['winemag-data-130k-v2.json'].decode('utf-8')))\n",
        "print(df1)"
      ],
      "execution_count": 0,
      "outputs": [
        {
          "output_type": "stream",
          "text": [
            "            country                                        description  \\\n",
            "0             Italy  Aromas include tropical fruit, broom, brimston...   \n",
            "1          Portugal  This is ripe and fruity, a wine that is smooth...   \n",
            "2                US  Tart and snappy, the flavors of lime flesh and...   \n",
            "3                US  Pineapple rind, lemon pith and orange blossom ...   \n",
            "4                US  Much like the regular bottling from 2012, this...   \n",
            "5             Spain  Blackberry and raspberry aromas show a typical...   \n",
            "6             Italy  Here's a bright, informal red that opens with ...   \n",
            "7            France  This dry and restrained wine offers spice in p...   \n",
            "8           Germany  Savory dried thyme notes accent sunnier flavor...   \n",
            "9            France  This has great depth of flavor with its fresh ...   \n",
            "10               US  Soft, supple plum envelopes an oaky structure ...   \n",
            "11           France  This is a dry wine, very spicy, with a tight, ...   \n",
            "12               US  Slightly reduced, this wine offers a chalky, t...   \n",
            "13            Italy  This is dominated by oak and oak-driven aromas...   \n",
            "14               US  Building on 150 years and six generations of w...   \n",
            "15          Germany  Zesty orange peels and apple notes abound in t...   \n",
            "16        Argentina  Baked plum, molasses, balsamic vinegar and che...   \n",
            "17        Argentina  Raw black-cherry aromas are direct and simple ...   \n",
            "18            Spain  Desiccated blackberry, leather, charred wood a...   \n",
            "19               US  Red fruit aromas pervade on the nose, with cig...   \n",
            "20               US  Ripe aromas of dark berries mingle with ample ...   \n",
            "21               US  A sleek mix of tart berry, stem and herb, alon...   \n",
            "22            Italy  Delicate aromas recall white flower and citrus...   \n",
            "23               US  This wine from the Geneseo district offers aro...   \n",
            "24            Italy  Aromas of prune, blackcurrant, toast and oak c...   \n",
            "25               US  Oak and earth intermingle around robust aromas...   \n",
            "26            Italy  Pretty aromas of yellow flower and stone fruit...   \n",
            "27            Italy  Aromas recall ripe dark berry, toast and a whi...   \n",
            "28            Italy  Aromas suggest mature berry, scorched earth, a...   \n",
            "29               US  Clarksburg is becoming a haven for Chenin Blan...   \n",
            "...             ...                                                ...   \n",
            "129941           US  A Chardonnay with an unusual companion, 8% Sém...   \n",
            "129942           US  This is classic in herbaceous aromas and flavo...   \n",
            "129943        Italy  A blend of Nero d'Avola and Syrah, this convey...   \n",
            "129944       Israel  Deep garnet in the glass, this has a nose of b...   \n",
            "129945           US  Hailing from one of the more popular vineyards...   \n",
            "129946      Germany  Plump, clingy peach and honey notes are cut wi...   \n",
            "129947        Italy  A blend of 65% Cabernet Sauvignon, 30% Merlot ...   \n",
            "129948    Argentina  Raspberry and cassis aromas are fresh and upri...   \n",
            "129949           US  There's no bones about the use of oak in this ...   \n",
            "129950           US  This opens with herbaceous dollops of thyme an...   \n",
            "129951       France  Hugely spicy this rich wine is described as sw...   \n",
            "129952           US  This Zinfandel from the eastern section of Nap...   \n",
            "129953  New Zealand  Roughly two-thirds Cabernet and one-third Merl...   \n",
            "129954  New Zealand  One of the more characterful Pinot Gris for th...   \n",
            "129955  New Zealand  Like Dog Point's 2011 Chardonnay, this wine is...   \n",
            "129956  New Zealand  The blend is 44% Merlot, 33% Cabernet Sauvigno...   \n",
            "129957        Spain  Lightly baked berry aromas vie for attention w...   \n",
            "129958  New Zealand  This blend of Cabernet Sauvignon-Merlot and Ca...   \n",
            "129959       France  The granite soil of the Brand Grand Cru vineya...   \n",
            "129960     Portugal  Fresh and fruity, this is full of red cherry f...   \n",
            "129961        Italy  Intense aromas of wild cherry, baking spice, t...   \n",
            "129962        Italy  Blackberry, cassis, grilled herb and toasted a...   \n",
            "129963       Israel  A bouquet of black cherry, tart cranberry and ...   \n",
            "129964       France  Initially quite muted, this wine slowly develo...   \n",
            "129965       France  While it's rich, this beautiful dry wine also ...   \n",
            "129966      Germany  Notes of honeysuckle and cantaloupe sweeten th...   \n",
            "129967           US  Citation is given as much as a decade of bottl...   \n",
            "129968       France  Well-drained gravel soil gives this wine its c...   \n",
            "129969       France  A dry style of Pinot Gris, this is crisp with ...   \n",
            "129970       France  Big, rich and off-dry, this is powered by inte...   \n",
            "\n",
            "                                              designation  points  price  \\\n",
            "0                                            Vulkà Bianco      87    NaN   \n",
            "1                                                Avidagos      87   15.0   \n",
            "2                                                    None      87   14.0   \n",
            "3                                    Reserve Late Harvest      87   13.0   \n",
            "4                      Vintner's Reserve Wild Child Block      87   65.0   \n",
            "5                                            Ars In Vitro      87   15.0   \n",
            "6                                                 Belsito      87   16.0   \n",
            "7                                                    None      87   24.0   \n",
            "8                                                   Shine      87   12.0   \n",
            "9                                             Les Natures      87   27.0   \n",
            "10                                         Mountain Cuvée      87   19.0   \n",
            "11                                                   None      87   30.0   \n",
            "12                                                   None      87   34.0   \n",
            "13                                                  Rosso      87    NaN   \n",
            "14                                                   None      87   12.0   \n",
            "15                                                  Devon      87   24.0   \n",
            "16                                                  Felix      87   30.0   \n",
            "17                                    Winemaker Selection      87   13.0   \n",
            "18      Vendimia Seleccionada Finca Valdelayegua Singl...      87   28.0   \n",
            "19                                                   None      87   32.0   \n",
            "20                                          Vin de Maison      87   23.0   \n",
            "21                                                   None      87   20.0   \n",
            "22                                              Ficiligno      87   19.0   \n",
            "23                                    Signature Selection      87   22.0   \n",
            "24                                                  Aynat      87   35.0   \n",
            "25                                    King Ridge Vineyard      87   69.0   \n",
            "26                                                 Dalila      87   13.0   \n",
            "27                                                   None      87   10.0   \n",
            "28                                     Mascaria Barricato      87   17.0   \n",
            "29                                                   None      86   16.0   \n",
            "...                                                   ...     ...    ...   \n",
            "129941                                               None      90   20.0   \n",
            "129942                                               None      90   35.0   \n",
            "129943                                            Adènzia      90   29.0   \n",
            "129944                 Special Reserve Winemakers' Choice      90   25.0   \n",
            "129945                   Jurassic Park Vineyard Old Vines      90   20.0   \n",
            "129946                                                Dom      90   17.0   \n",
            "129947                                           Symposio      90   20.0   \n",
            "129948                                           Pedernal      90   43.0   \n",
            "129949                                   Barrel Fermented      90   35.0   \n",
            "129950                                      Blocks 7 & 22      90   35.0   \n",
            "129951                                             Holder      90   30.0   \n",
            "129952                                               None      90   22.0   \n",
            "129953                                            Elspeth      90   25.0   \n",
            "129954                                      Single Estate      90   15.0   \n",
            "129955                                               None      90   40.0   \n",
            "129956  Gimblett Gravels Merlot-Cabernet Sauvignon-Malbec      90   19.0   \n",
            "129957                                            Crianza      90   17.0   \n",
            "129958                                           Irongate      90   35.0   \n",
            "129959                                    Brand Grand Cru      90   57.0   \n",
            "129960                                            Vértice      90   48.0   \n",
            "129961                                               None      90   30.0   \n",
            "129962                          Sàgana Tenuta San Giacomo      90   40.0   \n",
            "129963                                           Oak Aged      90   20.0   \n",
            "129964                       Domaine Saint-Rémy Herrenweg      90    NaN   \n",
            "129965                        Seppi Landmann Vallée Noble      90   28.0   \n",
            "129966             Brauneberger Juffer-Sonnenuhr Spätlese      90   28.0   \n",
            "129967                                               None      90   75.0   \n",
            "129968                                              Kritt      90   30.0   \n",
            "129969                                               None      90   32.0   \n",
            "129970                      Lieu-dit Harth Cuvée Caroline      90   21.0   \n",
            "\n",
            "                 province               region_1           region_2  \\\n",
            "0       Sicily & Sardinia                   Etna               None   \n",
            "1                   Douro                   None               None   \n",
            "2                  Oregon      Willamette Valley  Willamette Valley   \n",
            "3                Michigan    Lake Michigan Shore               None   \n",
            "4                  Oregon      Willamette Valley  Willamette Valley   \n",
            "5          Northern Spain                Navarra               None   \n",
            "6       Sicily & Sardinia               Vittoria               None   \n",
            "7                  Alsace                 Alsace               None   \n",
            "8             Rheinhessen                   None               None   \n",
            "9                  Alsace                 Alsace               None   \n",
            "10             California            Napa Valley               Napa   \n",
            "11                 Alsace                 Alsace               None   \n",
            "12             California       Alexander Valley             Sonoma   \n",
            "13      Sicily & Sardinia                   Etna               None   \n",
            "14             California          Central Coast      Central Coast   \n",
            "15                  Mosel                   None               None   \n",
            "16                  Other               Cafayate               None   \n",
            "17       Mendoza Province                Mendoza               None   \n",
            "18         Northern Spain       Ribera del Duero               None   \n",
            "19               Virginia               Virginia               None   \n",
            "20               Virginia               Virginia               None   \n",
            "21                 Oregon                 Oregon       Oregon Other   \n",
            "22      Sicily & Sardinia                Sicilia               None   \n",
            "23             California            Paso Robles      Central Coast   \n",
            "24      Sicily & Sardinia                Sicilia               None   \n",
            "25             California           Sonoma Coast             Sonoma   \n",
            "26      Sicily & Sardinia        Terre Siciliane               None   \n",
            "27      Sicily & Sardinia        Terre Siciliane               None   \n",
            "28      Sicily & Sardinia  Cerasuolo di Vittoria               None   \n",
            "29             California             Clarksburg     Central Valley   \n",
            "...                   ...                    ...                ...   \n",
            "129941         California       Mendocino County               None   \n",
            "129942         California          Sonoma County             Sonoma   \n",
            "129943  Sicily & Sardinia                Sicilia               None   \n",
            "129944            Galilee                   None               None   \n",
            "129945         California      Santa Ynez Valley      Central Coast   \n",
            "129946              Mosel                   None               None   \n",
            "129947  Sicily & Sardinia        Terre Siciliane               None   \n",
            "129948              Other               San Juan               None   \n",
            "129949         California            Napa Valley               Napa   \n",
            "129950         California            Napa Valley               Napa   \n",
            "129951             Alsace                 Alsace               None   \n",
            "129952         California          Chiles Valley               Napa   \n",
            "129953        Hawke's Bay                   None               None   \n",
            "129954        Marlborough                   None               None   \n",
            "129955        Marlborough                   None               None   \n",
            "129956        Hawke's Bay                   None               None   \n",
            "129957     Northern Spain                  Rioja               None   \n",
            "129958        Hawke's Bay                   None               None   \n",
            "129959             Alsace                 Alsace               None   \n",
            "129960              Douro                   None               None   \n",
            "129961  Sicily & Sardinia                Sicilia               None   \n",
            "129962  Sicily & Sardinia                Sicilia               None   \n",
            "129963            Galilee                   None               None   \n",
            "129964             Alsace                 Alsace               None   \n",
            "129965             Alsace                 Alsace               None   \n",
            "129966              Mosel                   None               None   \n",
            "129967             Oregon                 Oregon       Oregon Other   \n",
            "129968             Alsace                 Alsace               None   \n",
            "129969             Alsace                 Alsace               None   \n",
            "129970             Alsace                 Alsace               None   \n",
            "\n",
            "               taster_name taster_twitter_handle  \\\n",
            "0            Kerin O’Keefe          @kerinokeefe   \n",
            "1               Roger Voss            @vossroger   \n",
            "2             Paul Gregutt           @paulgwine    \n",
            "3       Alexander Peartree                  None   \n",
            "4             Paul Gregutt           @paulgwine    \n",
            "5        Michael Schachner           @wineschach   \n",
            "6            Kerin O’Keefe          @kerinokeefe   \n",
            "7               Roger Voss            @vossroger   \n",
            "8       Anna Lee C. Iijima                  None   \n",
            "9               Roger Voss            @vossroger   \n",
            "10          Virginie Boone               @vboone   \n",
            "11              Roger Voss            @vossroger   \n",
            "12          Virginie Boone               @vboone   \n",
            "13           Kerin O’Keefe          @kerinokeefe   \n",
            "14           Matt Kettmann         @mattkettmann   \n",
            "15      Anna Lee C. Iijima                  None   \n",
            "16       Michael Schachner           @wineschach   \n",
            "17       Michael Schachner           @wineschach   \n",
            "18       Michael Schachner           @wineschach   \n",
            "19      Alexander Peartree                  None   \n",
            "20      Alexander Peartree                  None   \n",
            "21            Paul Gregutt           @paulgwine    \n",
            "22           Kerin O’Keefe          @kerinokeefe   \n",
            "23           Matt Kettmann         @mattkettmann   \n",
            "24           Kerin O’Keefe          @kerinokeefe   \n",
            "25          Virginie Boone               @vboone   \n",
            "26           Kerin O’Keefe          @kerinokeefe   \n",
            "27           Kerin O’Keefe          @kerinokeefe   \n",
            "28           Kerin O’Keefe          @kerinokeefe   \n",
            "29          Virginie Boone               @vboone   \n",
            "...                    ...                   ...   \n",
            "129941      Virginie Boone               @vboone   \n",
            "129942      Virginie Boone               @vboone   \n",
            "129943       Kerin O’Keefe          @kerinokeefe   \n",
            "129944       Mike DeSimone        @worldwineguys   \n",
            "129945       Matt Kettmann         @mattkettmann   \n",
            "129946  Anna Lee C. Iijima                  None   \n",
            "129947       Kerin O’Keefe          @kerinokeefe   \n",
            "129948   Michael Schachner           @wineschach   \n",
            "129949      Virginie Boone               @vboone   \n",
            "129950      Virginie Boone               @vboone   \n",
            "129951          Roger Voss            @vossroger   \n",
            "129952      Virginie Boone               @vboone   \n",
            "129953      Joe Czerwinski                @JoeCz   \n",
            "129954      Joe Czerwinski                @JoeCz   \n",
            "129955      Joe Czerwinski                @JoeCz   \n",
            "129956      Joe Czerwinski                @JoeCz   \n",
            "129957   Michael Schachner           @wineschach   \n",
            "129958      Joe Czerwinski                @JoeCz   \n",
            "129959          Roger Voss            @vossroger   \n",
            "129960          Roger Voss            @vossroger   \n",
            "129961       Kerin O’Keefe          @kerinokeefe   \n",
            "129962       Kerin O’Keefe          @kerinokeefe   \n",
            "129963       Mike DeSimone        @worldwineguys   \n",
            "129964          Roger Voss            @vossroger   \n",
            "129965          Roger Voss            @vossroger   \n",
            "129966  Anna Lee C. Iijima                  None   \n",
            "129967        Paul Gregutt           @paulgwine    \n",
            "129968          Roger Voss            @vossroger   \n",
            "129969          Roger Voss            @vossroger   \n",
            "129970          Roger Voss            @vossroger   \n",
            "\n",
            "                                                    title  \\\n",
            "0                       Nicosia 2013 Vulkà Bianco  (Etna)   \n",
            "1           Quinta dos Avidagos 2011 Avidagos Red (Douro)   \n",
            "2           Rainstorm 2013 Pinot Gris (Willamette Valley)   \n",
            "3       St. Julian 2013 Reserve Late Harvest Riesling ...   \n",
            "4       Sweet Cheeks 2012 Vintner's Reserve Wild Child...   \n",
            "5       Tandem 2011 Ars In Vitro Tempranillo-Merlot (N...   \n",
            "6        Terre di Giurfo 2013 Belsito Frappato (Vittoria)   \n",
            "7                   Trimbach 2012 Gewurztraminer (Alsace)   \n",
            "8       Heinz Eifel 2013 Shine Gewürztraminer (Rheinhe...   \n",
            "9       Jean-Baptiste Adam 2012 Les Natures Pinot Gris...   \n",
            "10      Kirkland Signature 2011 Mountain Cuvée Caberne...   \n",
            "11                Leon Beyer 2012 Gewurztraminer (Alsace)   \n",
            "12      Louis M. Martini 2012 Cabernet Sauvignon (Alex...   \n",
            "13                 Masseria Setteporte 2012 Rosso  (Etna)   \n",
            "14               Mirassou 2012 Chardonnay (Central Coast)   \n",
            "15            Richard Böcking 2013 Devon Riesling (Mosel)   \n",
            "16             Felix Lavaque 2010 Felix Malbec (Cafayate)   \n",
            "17      Gaucho Andino 2011 Winemaker Selection Malbec ...   \n",
            "18      Pradorey 2010 Vendimia Seleccionada Finca Vald...   \n",
            "19                   Quiévremont 2012 Meritage (Virginia)   \n",
            "20          Quiévremont 2012 Vin de Maison Red (Virginia)   \n",
            "21                       Acrobat 2013 Pinot Noir (Oregon)   \n",
            "22      Baglio di Pianetto 2007 Ficiligno White (Sicilia)   \n",
            "23      Bianchi 2011 Signature Selection Merlot (Paso ...   \n",
            "24            Canicattì 2009 Aynat Nero d'Avola (Sicilia)   \n",
            "25      Castello di Amorosa 2011 King Ridge Vineyard P...   \n",
            "26           Stemmari 2013 Dalila White (Terre Siciliane)   \n",
            "27           Stemmari 2013 Nero d'Avola (Terre Siciliane)   \n",
            "28      Terre di Giurfo 2011 Mascaria Barricato  (Cera...   \n",
            "29      Clarksburg Wine Company 2010 Chenin Blanc (Cla...   \n",
            "...                                                   ...   \n",
            "129941         Apriori 2013 Chardonnay (Mendocino County)   \n",
            "129942   Arrowood 2010 Cabernet Sauvignon (Sonoma County)   \n",
            "129943  Baglio del Cristo di Campobello 2012 Adènzia R...   \n",
            "129944  Barkan 2011 Special Reserve Winemakers' Choice...   \n",
            "129945  Birichino 2013 Jurassic Park Vineyard Old Vine...   \n",
            "129946  Bischöfliche Weingüter Trier 2013 Dom Riesling...   \n",
            "129947  Feudo Principi di Butera 2012 Symposio Red (Te...   \n",
            "129948    Finca Las Moras 2010 Pedernal Malbec (San Juan)   \n",
            "129949  Flora Springs 2013 Barrel Fermented Chardonnay...   \n",
            "129950  Hendry 2012 Blocks 7 & 22 Zinfandel (Napa Valley)   \n",
            "129951  Henri Schoenheitz 2012 Holder Gewurztraminer (...   \n",
            "129952             Houdini 2011 Zinfandel (Chiles Valley)   \n",
            "129953  Mills Reef 2011 Elspeth Cabernet Merlot (Hawke...   \n",
            "129954    Ara 2013 Single Estate Pinot Gris (Marlborough)   \n",
            "129955            Dog Point 2012 Chardonnay (Marlborough)   \n",
            "129956  Esk Valley 2011 Gimblett Gravels Merlot-Cabern...   \n",
            "129957           Viñedos Real Rubio 2010 Crianza  (Rioja)   \n",
            "129958             Babich 2010 Irongate Red (Hawke's Bay)   \n",
            "129959  Cave de Turckheim 2010 Brand Grand Cru Pinot G...   \n",
            "129960  Caves Transmontanas 2006 Vértice Pinot Noir (D...   \n",
            "129961                        COS 2013 Frappato (Sicilia)   \n",
            "129962  Cusumano 2012 Sàgana Tenuta San Giacomo Nero d...   \n",
            "129963  Dalton 2012 Oak Aged Cabernet Sauvignon (Galilee)   \n",
            "129964  Domaine Ehrhart 2013 Domaine Saint-Rémy Herren...   \n",
            "129965  Domaine Rieflé-Landmann 2013 Seppi Landmann Va...   \n",
            "129966  Dr. H. Thanisch (Erben Müller-Burggraef) 2013 ...   \n",
            "129967                  Citation 2004 Pinot Noir (Oregon)   \n",
            "129968  Domaine Gresser 2013 Kritt Gewurztraminer (Als...   \n",
            "129969      Domaine Marcel Deiss 2012 Pinot Gris (Alsace)   \n",
            "129970  Domaine Schoffit 2012 Lieu-dit Harth Cuvée Car...   \n",
            "\n",
            "                         variety                                    winery  \n",
            "0                    White Blend                                   Nicosia  \n",
            "1                 Portuguese Red                       Quinta dos Avidagos  \n",
            "2                     Pinot Gris                                 Rainstorm  \n",
            "3                       Riesling                                St. Julian  \n",
            "4                     Pinot Noir                              Sweet Cheeks  \n",
            "5             Tempranillo-Merlot                                    Tandem  \n",
            "6                       Frappato                           Terre di Giurfo  \n",
            "7                 Gewürztraminer                                  Trimbach  \n",
            "8                 Gewürztraminer                               Heinz Eifel  \n",
            "9                     Pinot Gris                        Jean-Baptiste Adam  \n",
            "10            Cabernet Sauvignon                        Kirkland Signature  \n",
            "11                Gewürztraminer                                Leon Beyer  \n",
            "12            Cabernet Sauvignon                          Louis M. Martini  \n",
            "13             Nerello Mascalese                       Masseria Setteporte  \n",
            "14                    Chardonnay                                  Mirassou  \n",
            "15                      Riesling                           Richard Böcking  \n",
            "16                        Malbec                             Felix Lavaque  \n",
            "17                        Malbec                             Gaucho Andino  \n",
            "18             Tempranillo Blend                                  Pradorey  \n",
            "19                      Meritage                               Quiévremont  \n",
            "20                     Red Blend                               Quiévremont  \n",
            "21                    Pinot Noir                                   Acrobat  \n",
            "22                   White Blend                        Baglio di Pianetto  \n",
            "23                        Merlot                                   Bianchi  \n",
            "24                  Nero d'Avola                                 Canicattì  \n",
            "25                    Pinot Noir                       Castello di Amorosa  \n",
            "26                   White Blend                                  Stemmari  \n",
            "27                  Nero d'Avola                                  Stemmari  \n",
            "28                     Red Blend                           Terre di Giurfo  \n",
            "29                  Chenin Blanc                   Clarksburg Wine Company  \n",
            "...                          ...                                       ...  \n",
            "129941                Chardonnay                                   Apriori  \n",
            "129942        Cabernet Sauvignon                                  Arrowood  \n",
            "129943                 Red Blend           Baglio del Cristo di Campobello  \n",
            "129944                    Shiraz                                    Barkan  \n",
            "129945              Chenin Blanc                                 Birichino  \n",
            "129946                  Riesling              Bischöfliche Weingüter Trier  \n",
            "129947                 Red Blend                  Feudo Principi di Butera  \n",
            "129948                    Malbec                           Finca Las Moras  \n",
            "129949                Chardonnay                             Flora Springs  \n",
            "129950                 Zinfandel                                    Hendry  \n",
            "129951            Gewürztraminer                         Henri Schoenheitz  \n",
            "129952                 Zinfandel                                   Houdini  \n",
            "129953           Cabernet Merlot                                Mills Reef  \n",
            "129954                Pinot Gris                                       Ara  \n",
            "129955                Chardonnay                                 Dog Point  \n",
            "129956  Bordeaux-style Red Blend                                Esk Valley  \n",
            "129957         Tempranillo Blend                        Viñedos Real Rubio  \n",
            "129958  Bordeaux-style Red Blend                                    Babich  \n",
            "129959                Pinot Gris                         Cave de Turckheim  \n",
            "129960                Pinot Noir                       Caves Transmontanas  \n",
            "129961                  Frappato                                       COS  \n",
            "129962              Nero d'Avola                                  Cusumano  \n",
            "129963        Cabernet Sauvignon                                    Dalton  \n",
            "129964            Gewürztraminer                           Domaine Ehrhart  \n",
            "129965                Pinot Gris                   Domaine Rieflé-Landmann  \n",
            "129966                  Riesling  Dr. H. Thanisch (Erben Müller-Burggraef)  \n",
            "129967                Pinot Noir                                  Citation  \n",
            "129968            Gewürztraminer                           Domaine Gresser  \n",
            "129969                Pinot Gris                      Domaine Marcel Deiss  \n",
            "129970            Gewürztraminer                          Domaine Schoffit  \n",
            "\n",
            "[129971 rows x 13 columns]\n"
          ],
          "name": "stdout"
        }
      ]
    },
    {
      "metadata": {
        "id": "NLlshS85YIAZ",
        "colab_type": "code",
        "colab": {}
      },
      "cell_type": "code",
      "source": [
        "\n",
        "%matplotlib inline\n",
        "import seaborn as sns\n",
        "from sklearn.metrics import confusion_matrix\n",
        "import matplotlib.pyplot as plt\n",
        "from sklearn.metrics import classification_report\n",
        "import csv\n",
        "from textblob import TextBlob\n",
        "import pandas as pd\n",
        "import sklearn\n",
        "import numpy as np\n",
        "from sklearn.feature_extraction.text import CountVectorizer, TfidfTransformer\n",
        "from sklearn.naive_bayes import MultinomialNB\n",
        "import os\n",
        "from os.path import join\n",
        "import datetime as dt\n",
        "from scipy.stats.stats import pearsonr\n",
        "from sklearn.metrics import roc_curve, roc_auc_score, auc\n",
        "from sklearn.model_selection import StratifiedKFold\n",
        "import itertools\n",
        "from scipy.stats import kendalltau\n",
        "import random\n",
        "import nltk\n",
        "random.seed(123)"
      ],
      "execution_count": 0,
      "outputs": []
    },
    {
      "metadata": {
        "id": "I_nCHvNAYecJ",
        "colab_type": "code",
        "colab": {}
      },
      "cell_type": "code",
      "source": [
        "\n",
        "plt.style.use('ggplot')"
      ],
      "execution_count": 0,
      "outputs": []
    },
    {
      "metadata": {
        "id": "jdOm-GzEZKZZ",
        "colab_type": "code",
        "outputId": "ca169a57-d2ab-494e-e1e5-82d9e075ec29",
        "colab": {
          "base_uri": "https://localhost:8080/",
          "height": 306
        }
      },
      "cell_type": "code",
      "source": [
        "data = pd.read_csv('winemag-data_first150k.csv')\n",
        "data.head()"
      ],
      "execution_count": 0,
      "outputs": [
        {
          "output_type": "execute_result",
          "data": {
            "text/html": [
              "<div>\n",
              "<style scoped>\n",
              "    .dataframe tbody tr th:only-of-type {\n",
              "        vertical-align: middle;\n",
              "    }\n",
              "\n",
              "    .dataframe tbody tr th {\n",
              "        vertical-align: top;\n",
              "    }\n",
              "\n",
              "    .dataframe thead th {\n",
              "        text-align: right;\n",
              "    }\n",
              "</style>\n",
              "<table border=\"1\" class=\"dataframe\">\n",
              "  <thead>\n",
              "    <tr style=\"text-align: right;\">\n",
              "      <th></th>\n",
              "      <th>Unnamed: 0</th>\n",
              "      <th>country</th>\n",
              "      <th>description</th>\n",
              "      <th>designation</th>\n",
              "      <th>points</th>\n",
              "      <th>price</th>\n",
              "      <th>province</th>\n",
              "      <th>region_1</th>\n",
              "      <th>region_2</th>\n",
              "      <th>variety</th>\n",
              "      <th>winery</th>\n",
              "    </tr>\n",
              "  </thead>\n",
              "  <tbody>\n",
              "    <tr>\n",
              "      <th>0</th>\n",
              "      <td>0</td>\n",
              "      <td>US</td>\n",
              "      <td>This tremendous 100% varietal wine hails from ...</td>\n",
              "      <td>Martha's Vineyard</td>\n",
              "      <td>96</td>\n",
              "      <td>235.0</td>\n",
              "      <td>California</td>\n",
              "      <td>Napa Valley</td>\n",
              "      <td>Napa</td>\n",
              "      <td>Cabernet Sauvignon</td>\n",
              "      <td>Heitz</td>\n",
              "    </tr>\n",
              "    <tr>\n",
              "      <th>1</th>\n",
              "      <td>1</td>\n",
              "      <td>Spain</td>\n",
              "      <td>Ripe aromas of fig, blackberry and cassis are ...</td>\n",
              "      <td>Carodorum Selección Especial Reserva</td>\n",
              "      <td>96</td>\n",
              "      <td>110.0</td>\n",
              "      <td>Northern Spain</td>\n",
              "      <td>Toro</td>\n",
              "      <td>NaN</td>\n",
              "      <td>Tinta de Toro</td>\n",
              "      <td>Bodega Carmen Rodríguez</td>\n",
              "    </tr>\n",
              "    <tr>\n",
              "      <th>2</th>\n",
              "      <td>2</td>\n",
              "      <td>US</td>\n",
              "      <td>Mac Watson honors the memory of a wine once ma...</td>\n",
              "      <td>Special Selected Late Harvest</td>\n",
              "      <td>96</td>\n",
              "      <td>90.0</td>\n",
              "      <td>California</td>\n",
              "      <td>Knights Valley</td>\n",
              "      <td>Sonoma</td>\n",
              "      <td>Sauvignon Blanc</td>\n",
              "      <td>Macauley</td>\n",
              "    </tr>\n",
              "    <tr>\n",
              "      <th>3</th>\n",
              "      <td>3</td>\n",
              "      <td>US</td>\n",
              "      <td>This spent 20 months in 30% new French oak, an...</td>\n",
              "      <td>Reserve</td>\n",
              "      <td>96</td>\n",
              "      <td>65.0</td>\n",
              "      <td>Oregon</td>\n",
              "      <td>Willamette Valley</td>\n",
              "      <td>Willamette Valley</td>\n",
              "      <td>Pinot Noir</td>\n",
              "      <td>Ponzi</td>\n",
              "    </tr>\n",
              "    <tr>\n",
              "      <th>4</th>\n",
              "      <td>4</td>\n",
              "      <td>France</td>\n",
              "      <td>This is the top wine from La Bégude, named aft...</td>\n",
              "      <td>La Brûlade</td>\n",
              "      <td>95</td>\n",
              "      <td>66.0</td>\n",
              "      <td>Provence</td>\n",
              "      <td>Bandol</td>\n",
              "      <td>NaN</td>\n",
              "      <td>Provence red blend</td>\n",
              "      <td>Domaine de la Bégude</td>\n",
              "    </tr>\n",
              "  </tbody>\n",
              "</table>\n",
              "</div>"
            ],
            "text/plain": [
              "   Unnamed: 0 country                                        description  \\\n",
              "0           0      US  This tremendous 100% varietal wine hails from ...   \n",
              "1           1   Spain  Ripe aromas of fig, blackberry and cassis are ...   \n",
              "2           2      US  Mac Watson honors the memory of a wine once ma...   \n",
              "3           3      US  This spent 20 months in 30% new French oak, an...   \n",
              "4           4  France  This is the top wine from La Bégude, named aft...   \n",
              "\n",
              "                            designation  points  price        province  \\\n",
              "0                     Martha's Vineyard      96  235.0      California   \n",
              "1  Carodorum Selección Especial Reserva      96  110.0  Northern Spain   \n",
              "2         Special Selected Late Harvest      96   90.0      California   \n",
              "3                               Reserve      96   65.0          Oregon   \n",
              "4                            La Brûlade      95   66.0        Provence   \n",
              "\n",
              "            region_1           region_2             variety  \\\n",
              "0        Napa Valley               Napa  Cabernet Sauvignon   \n",
              "1               Toro                NaN       Tinta de Toro   \n",
              "2     Knights Valley             Sonoma     Sauvignon Blanc   \n",
              "3  Willamette Valley  Willamette Valley          Pinot Noir   \n",
              "4             Bandol                NaN  Provence red blend   \n",
              "\n",
              "                    winery  \n",
              "0                    Heitz  \n",
              "1  Bodega Carmen Rodríguez  \n",
              "2                 Macauley  \n",
              "3                    Ponzi  \n",
              "4     Domaine de la Bégude  "
            ]
          },
          "metadata": {
            "tags": []
          },
          "execution_count": 129
        }
      ]
    },
    {
      "metadata": {
        "id": "d-lCRcltZOqk",
        "colab_type": "code",
        "outputId": "8de9d66d-c659-439b-b3ea-992cd623380b",
        "colab": {
          "base_uri": "https://localhost:8080/",
          "height": 349
        }
      },
      "cell_type": "code",
      "source": [
        "sns.distplot(data.points, kde=False)"
      ],
      "execution_count": 0,
      "outputs": [
        {
          "output_type": "stream",
          "text": [
            "/usr/local/lib/python3.6/dist-packages/matplotlib/axes/_axes.py:6521: MatplotlibDeprecationWarning: \n",
            "The 'normed' kwarg was deprecated in Matplotlib 2.1 and will be removed in 3.1. Use 'density' instead.\n",
            "  alternative=\"'density'\", removal=\"3.1\")\n"
          ],
          "name": "stderr"
        },
        {
          "output_type": "execute_result",
          "data": {
            "text/plain": [
              "<matplotlib.axes._subplots.AxesSubplot at 0x7fa07208f2e8>"
            ]
          },
          "metadata": {
            "tags": []
          },
          "execution_count": 130
        },
        {
          "output_type": "display_data",
          "data": {
            "image/png": "[encoded data removed]",
            "text/plain": [
              "<Figure size 432x288 with 1 Axes>"
            ]
          },
          "metadata": {
            "tags": []
          }
        }
      ]
    },
    {
      "metadata": {
        "id": "WjxwlsdlZmFD",
        "colab_type": "code",
        "outputId": "1e375dab-2ad5-4a89-ac9f-c599def6d3c3",
        "colab": {
          "base_uri": "https://localhost:8080/",
          "height": 306
        }
      },
      "cell_type": "code",
      "source": [
        "def GoodRating(row):\n",
        "    if row['points'] >= 96:\n",
        "        val = 5\n",
        "    else:\n",
        "        val = 0\n",
        "    return(val)\n",
        "data['Good'] = data.apply(GoodRating, axis=1)\n",
        "data.head()\n",
        "#data.shape (15k,12)"
      ],
      "execution_count": 0,
      "outputs": [
        {
          "output_type": "execute_result",
          "data": {
            "text/html": [
              "<div>\n",
              "<style scoped>\n",
              "    .dataframe tbody tr th:only-of-type {\n",
              "        vertical-align: middle;\n",
              "    }\n",
              "\n",
              "    .dataframe tbody tr th {\n",
              "        vertical-align: top;\n",
              "    }\n",
              "\n",
              "    .dataframe thead th {\n",
              "        text-align: right;\n",
              "    }\n",
              "</style>\n",
              "<table border=\"1\" class=\"dataframe\">\n",
              "  <thead>\n",
              "    <tr style=\"text-align: right;\">\n",
              "      <th></th>\n",
              "      <th>Unnamed: 0</th>\n",
              "      <th>country</th>\n",
              "      <th>description</th>\n",
              "      <th>designation</th>\n",
              "      <th>points</th>\n",
              "      <th>price</th>\n",
              "      <th>province</th>\n",
              "      <th>region_1</th>\n",
              "      <th>region_2</th>\n",
              "      <th>variety</th>\n",
              "      <th>winery</th>\n",
              "      <th>Good</th>\n",
              "    </tr>\n",
              "  </thead>\n",
              "  <tbody>\n",
              "    <tr>\n",
              "      <th>0</th>\n",
              "      <td>0</td>\n",
              "      <td>US</td>\n",
              "      <td>This tremendous 100% varietal wine hails from ...</td>\n",
              "      <td>Martha's Vineyard</td>\n",
              "      <td>96</td>\n",
              "      <td>235.0</td>\n",
              "      <td>California</td>\n",
              "      <td>Napa Valley</td>\n",
              "      <td>Napa</td>\n",
              "      <td>Cabernet Sauvignon</td>\n",
              "      <td>Heitz</td>\n",
              "      <td>5</td>\n",
              "    </tr>\n",
              "    <tr>\n",
              "      <th>1</th>\n",
              "      <td>1</td>\n",
              "      <td>Spain</td>\n",
              "      <td>Ripe aromas of fig, blackberry and cassis are ...</td>\n",
              "      <td>Carodorum Selección Especial Reserva</td>\n",
              "      <td>96</td>\n",
              "      <td>110.0</td>\n",
              "      <td>Northern Spain</td>\n",
              "      <td>Toro</td>\n",
              "      <td>NaN</td>\n",
              "      <td>Tinta de Toro</td>\n",
              "      <td>Bodega Carmen Rodríguez</td>\n",
              "      <td>5</td>\n",
              "    </tr>\n",
              "    <tr>\n",
              "      <th>2</th>\n",
              "      <td>2</td>\n",
              "      <td>US</td>\n",
              "      <td>Mac Watson honors the memory of a wine once ma...</td>\n",
              "      <td>Special Selected Late Harvest</td>\n",
              "      <td>96</td>\n",
              "      <td>90.0</td>\n",
              "      <td>California</td>\n",
              "      <td>Knights Valley</td>\n",
              "      <td>Sonoma</td>\n",
              "      <td>Sauvignon Blanc</td>\n",
              "      <td>Macauley</td>\n",
              "      <td>5</td>\n",
              "    </tr>\n",
              "    <tr>\n",
              "      <th>3</th>\n",
              "      <td>3</td>\n",
              "      <td>US</td>\n",
              "      <td>This spent 20 months in 30% new French oak, an...</td>\n",
              "      <td>Reserve</td>\n",
              "      <td>96</td>\n",
              "      <td>65.0</td>\n",
              "      <td>Oregon</td>\n",
              "      <td>Willamette Valley</td>\n",
              "      <td>Willamette Valley</td>\n",
              "      <td>Pinot Noir</td>\n",
              "      <td>Ponzi</td>\n",
              "      <td>5</td>\n",
              "    </tr>\n",
              "    <tr>\n",
              "      <th>4</th>\n",
              "      <td>4</td>\n",
              "      <td>France</td>\n",
              "      <td>This is the top wine from La Bégude, named aft...</td>\n",
              "      <td>La Brûlade</td>\n",
              "      <td>95</td>\n",
              "      <td>66.0</td>\n",
              "      <td>Provence</td>\n",
              "      <td>Bandol</td>\n",
              "      <td>NaN</td>\n",
              "      <td>Provence red blend</td>\n",
              "      <td>Domaine de la Bégude</td>\n",
              "      <td>0</td>\n",
              "    </tr>\n",
              "  </tbody>\n",
              "</table>\n",
              "</div>"
            ],
            "text/plain": [
              "   Unnamed: 0 country                                        description  \\\n",
              "0           0      US  This tremendous 100% varietal wine hails from ...   \n",
              "1           1   Spain  Ripe aromas of fig, blackberry and cassis are ...   \n",
              "2           2      US  Mac Watson honors the memory of a wine once ma...   \n",
              "3           3      US  This spent 20 months in 30% new French oak, an...   \n",
              "4           4  France  This is the top wine from La Bégude, named aft...   \n",
              "\n",
              "                            designation  points  price        province  \\\n",
              "0                     Martha's Vineyard      96  235.0      California   \n",
              "1  Carodorum Selección Especial Reserva      96  110.0  Northern Spain   \n",
              "2         Special Selected Late Harvest      96   90.0      California   \n",
              "3                               Reserve      96   65.0          Oregon   \n",
              "4                            La Brûlade      95   66.0        Provence   \n",
              "\n",
              "            region_1           region_2             variety  \\\n",
              "0        Napa Valley               Napa  Cabernet Sauvignon   \n",
              "1               Toro                NaN       Tinta de Toro   \n",
              "2     Knights Valley             Sonoma     Sauvignon Blanc   \n",
              "3  Willamette Valley  Willamette Valley          Pinot Noir   \n",
              "4             Bandol                NaN  Provence red blend   \n",
              "\n",
              "                    winery  Good  \n",
              "0                    Heitz     5  \n",
              "1  Bodega Carmen Rodríguez     5  \n",
              "2                 Macauley     5  \n",
              "3                    Ponzi     5  \n",
              "4     Domaine de la Bégude     0  "
            ]
          },
          "metadata": {
            "tags": []
          },
          "execution_count": 131
        }
      ]
    },
    {
      "metadata": {
        "id": "Eq4g__0DahNi",
        "colab_type": "code",
        "outputId": "13319ea7-90b7-4826-f7cd-7616f3a29fc2",
        "colab": {
          "base_uri": "https://localhost:8080/",
          "height": 509
        }
      },
      "cell_type": "code",
      "source": [
        "sns.jointplot(x='points', y='price', data=data)"
      ],
      "execution_count": 0,
      "outputs": [
        {
          "output_type": "stream",
          "text": [
            "/usr/local/lib/python3.6/dist-packages/matplotlib/axes/_axes.py:6521: MatplotlibDeprecationWarning: \n",
            "The 'normed' kwarg was deprecated in Matplotlib 2.1 and will be removed in 3.1. Use 'density' instead.\n",
            "  alternative=\"'density'\", removal=\"3.1\")\n"
          ],
          "name": "stderr"
        },
        {
          "output_type": "execute_result",
          "data": {
            "text/plain": [
              "<seaborn.axisgrid.JointGrid at 0x7fa072078710>"
            ]
          },
          "metadata": {
            "tags": []
          },
          "execution_count": 132
        },
        {
          "output_type": "display_data",
          "data": {
            "image/png": "[encoded data removed]",
            "text/plain": [
              "<Figure size 432x432 with 3 Axes>"
            ]
          },
          "metadata": {
            "tags": []
          }
        }
      ]
    },
    {
      "metadata": {
        "id": "jabYxbBmbIgN",
        "colab_type": "code",
        "outputId": "874356f7-231c-457c-bfaa-a37a2a969a1c",
        "colab": {
          "base_uri": "https://localhost:8080/",
          "height": 797
        }
      },
      "cell_type": "code",
      "source": [
        "a = data\n",
        "a = a[a.price <= 200]\n",
        "sns.jointplot(x='points',y='price',stat_func=kendalltau,kind=\"hex\", color=\"#4CB391\",space=0,size=10,data=a)"
      ],
      "execution_count": 0,
      "outputs": [
        {
          "output_type": "stream",
          "text": [
            "/usr/local/lib/python3.6/dist-packages/matplotlib/axes/_axes.py:6521: MatplotlibDeprecationWarning: \n",
            "The 'normed' kwarg was deprecated in Matplotlib 2.1 and will be removed in 3.1. Use 'density' instead.\n",
            "  alternative=\"'density'\", removal=\"3.1\")\n"
          ],
          "name": "stderr"
        },
        {
          "output_type": "execute_result",
          "data": {
            "text/plain": [
              "<seaborn.axisgrid.JointGrid at 0x7f9fa47d84e0>"
            ]
          },
          "metadata": {
            "tags": []
          },
          "execution_count": 133
        },
        {
          "output_type": "display_data",
          "data": {
            "image/png": "[encoded data removed]",
            "text/plain": [
              "<Figure size 720x720 with 3 Axes>"
            ]
          },
          "metadata": {
            "tags": []
          }
        }
      ]
    },
    {
      "metadata": {
        "id": "3kHMQ1P0g38t",
        "colab_type": "code",
        "colab": {}
      },
      "cell_type": "code",
      "source": [
        ""
      ],
      "execution_count": 0,
      "outputs": []
    },
    {
      "metadata": {
        "id": "rG519vP3bh2H",
        "colab_type": "code",
        "outputId": "92cf619b-d14c-4f39-82f7-f0a49b4a36e5",
        "colab": {
          "base_uri": "https://localhost:8080/",
          "height": 366
        }
      },
      "cell_type": "code",
      "source": [
        "a = data[data.price <= 150][data.points < 100]\n",
        "sns.boxplot(x = 'points', y = 'price', data = a)"
      ],
      "execution_count": 0,
      "outputs": [
        {
          "output_type": "stream",
          "text": [
            "/usr/local/lib/python3.6/dist-packages/ipykernel_launcher.py:1: UserWarning: Boolean Series key will be reindexed to match DataFrame index.\n",
            "  \"\"\"Entry point for launching an IPython kernel.\n",
            "/usr/local/lib/python3.6/dist-packages/seaborn/categorical.py:454: FutureWarning: remove_na is deprecated and is a private function. Do not use.\n",
            "  box_data = remove_na(group_data)\n"
          ],
          "name": "stderr"
        },
        {
          "output_type": "execute_result",
          "data": {
            "text/plain": [
              "<matplotlib.axes._subplots.AxesSubplot at 0x7fa071dffcf8>"
            ]
          },
          "metadata": {
            "tags": []
          },
          "execution_count": 134
        },
        {
          "output_type": "display_data",
          "data": {
            "image/png": "[encoded data removed]",
            "text/plain": [
              "<Figure size 432x288 with 1 Axes>"
            ]
          },
          "metadata": {
            "tags": []
          }
        }
      ]
    },
    {
      "metadata": {
        "id": "0nF3taI4b-N-",
        "colab_type": "code",
        "outputId": "bff59c0e-28e0-4b75-ee35-e9bfe164f3e1",
        "colab": {
          "base_uri": "https://localhost:8080/",
          "height": 197
        }
      },
      "cell_type": "code",
      "source": [
        "wines = data.pivot_table(values='points',index=['variety'],columns=['country'],aggfunc='mean')\n",
        "wines.head()\n",
        "sns.heatmap(wines)"
      ],
      "execution_count": 1,
      "outputs": [
        {
          "output_type": "error",
          "ename": "NameError",
          "evalue": "ignored",
          "traceback": [
            "\u001b[0;31m---------------------------------------------------------------------------\u001b[0m",
            "\u001b[0;31mNameError\u001b[0m                                 Traceback (most recent call last)",
            "\u001b[0;32m<ipython-input-1-8f17b8227f71>\u001b[0m in \u001b[0;36m<module>\u001b[0;34m()\u001b[0m\n\u001b[0;32m----> 1\u001b[0;31m \u001b[0mwines\u001b[0m \u001b[0;34m=\u001b[0m \u001b[0mdata\u001b[0m\u001b[0;34m.\u001b[0m\u001b[0mpivot_table\u001b[0m\u001b[0;34m(\u001b[0m\u001b[0mvalues\u001b[0m\u001b[0;34m=\u001b[0m\u001b[0;34m'points'\u001b[0m\u001b[0;34m,\u001b[0m\u001b[0mindex\u001b[0m\u001b[0;34m=\u001b[0m\u001b[0;34m[\u001b[0m\u001b[0;34m'variety'\u001b[0m\u001b[0;34m]\u001b[0m\u001b[0;34m,\u001b[0m\u001b[0mcolumns\u001b[0m\u001b[0;34m=\u001b[0m\u001b[0;34m[\u001b[0m\u001b[0;34m'country'\u001b[0m\u001b[0;34m]\u001b[0m\u001b[0;34m,\u001b[0m\u001b[0maggfunc\u001b[0m\u001b[0;34m=\u001b[0m\u001b[0;34m'mean'\u001b[0m\u001b[0;34m)\u001b[0m\u001b[0;34m\u001b[0m\u001b[0;34m\u001b[0m\u001b[0m\n\u001b[0m\u001b[1;32m      2\u001b[0m \u001b[0mwines\u001b[0m\u001b[0;34m.\u001b[0m\u001b[0mhead\u001b[0m\u001b[0;34m(\u001b[0m\u001b[0;34m)\u001b[0m\u001b[0;34m\u001b[0m\u001b[0;34m\u001b[0m\u001b[0m\n\u001b[1;32m      3\u001b[0m \u001b[0msns\u001b[0m\u001b[0;34m.\u001b[0m\u001b[0mheatmap\u001b[0m\u001b[0;34m(\u001b[0m\u001b[0mwines\u001b[0m\u001b[0;34m)\u001b[0m\u001b[0;34m\u001b[0m\u001b[0;34m\u001b[0m\u001b[0m\n",
            "\u001b[0;31mNameError\u001b[0m: name 'data' is not defined"
          ]
        }
      ]
    },
    {
      "metadata": {
        "id": "vGAfYf-zeoRj",
        "colab_type": "code",
        "outputId": "5f9668d8-5700-429f-a968-dc0d216cb6e3",
        "colab": {
          "base_uri": "https://localhost:8080/",
          "height": 204
        }
      },
      "cell_type": "code",
      "source": [
        "df = data.sample(n=9000)\n",
        "df = df[['description','Good']]\n",
        "df.head()"
      ],
      "execution_count": 0,
      "outputs": [
        {
          "output_type": "execute_result",
          "data": {
            "text/html": [
              "<div>\n",
              "<style scoped>\n",
              "    .dataframe tbody tr th:only-of-type {\n",
              "        vertical-align: middle;\n",
              "    }\n",
              "\n",
              "    .dataframe tbody tr th {\n",
              "        vertical-align: top;\n",
              "    }\n",
              "\n",
              "    .dataframe thead th {\n",
              "        text-align: right;\n",
              "    }\n",
              "</style>\n",
              "<table border=\"1\" class=\"dataframe\">\n",
              "  <thead>\n",
              "    <tr style=\"text-align: right;\">\n",
              "      <th></th>\n",
              "      <th>description</th>\n",
              "      <th>Good</th>\n",
              "    </tr>\n",
              "  </thead>\n",
              "  <tbody>\n",
              "    <tr>\n",
              "      <th>23633</th>\n",
              "      <td>Spunky and bright in terms of its aromatics, w...</td>\n",
              "      <td>0</td>\n",
              "    </tr>\n",
              "    <tr>\n",
              "      <th>140949</th>\n",
              "      <td>The fruit is precise and fine-tuned, showing n...</td>\n",
              "      <td>0</td>\n",
              "    </tr>\n",
              "    <tr>\n",
              "      <th>76664</th>\n",
              "      <td>Calcareous's regular Viognier and Chardonnay a...</td>\n",
              "      <td>0</td>\n",
              "    </tr>\n",
              "    <tr>\n",
              "      <th>53541</th>\n",
              "      <td>Castello di Semivicoli is a thick and succulen...</td>\n",
              "      <td>0</td>\n",
              "    </tr>\n",
              "    <tr>\n",
              "      <th>32442</th>\n",
              "      <td>A spark of flint leaps out of the glass, follo...</td>\n",
              "      <td>0</td>\n",
              "    </tr>\n",
              "  </tbody>\n",
              "</table>\n",
              "</div>"
            ],
            "text/plain": [
              "                                              description  Good\n",
              "23633   Spunky and bright in terms of its aromatics, w...     0\n",
              "140949  The fruit is precise and fine-tuned, showing n...     0\n",
              "76664   Calcareous's regular Viognier and Chardonnay a...     0\n",
              "53541   Castello di Semivicoli is a thick and succulen...     0\n",
              "32442   A spark of flint leaps out of the glass, follo...     0"
            ]
          },
          "metadata": {
            "tags": []
          },
          "execution_count": 136
        }
      ]
    },
    {
      "metadata": {
        "id": "syccWc0StuZC",
        "colab_type": "code",
        "outputId": "1f379a79-6df9-4677-9054-4f962d4d2656",
        "colab": {
          "base_uri": "https://localhost:8080/",
          "height": 349
        }
      },
      "cell_type": "code",
      "source": [
        "sns.distplot(df.Good, kde=False)"
      ],
      "execution_count": 0,
      "outputs": [
        {
          "output_type": "stream",
          "text": [
            "/usr/local/lib/python3.6/dist-packages/matplotlib/axes/_axes.py:6521: MatplotlibDeprecationWarning: \n",
            "The 'normed' kwarg was deprecated in Matplotlib 2.1 and will be removed in 3.1. Use 'density' instead.\n",
            "  alternative=\"'density'\", removal=\"3.1\")\n"
          ],
          "name": "stderr"
        },
        {
          "output_type": "execute_result",
          "data": {
            "text/plain": [
              "<matplotlib.axes._subplots.AxesSubplot at 0x7fa0717f93c8>"
            ]
          },
          "metadata": {
            "tags": []
          },
          "execution_count": 137
        },
        {
          "output_type": "display_data",
          "data": {
            "image/png": "[encoded data removed]",
            "text/plain": [
              "<Figure size 432x288 with 1 Axes>"
            ]
          },
          "metadata": {
            "tags": []
          }
        }
      ]
    },
    {
      "metadata": {
        "id": "6uQg2NOWDgmV",
        "colab_type": "code",
        "outputId": "9610f079-1eb7-416d-e8fd-27857a395b46",
        "colab": {
          "base_uri": "https://localhost:8080/",
          "height": 51
        }
      },
      "cell_type": "code",
      "source": [
        "import nltk\n",
        "nltk.download('punkt')\n",
        "\n",
        "from nltk import word_tokenize,sent_tokenize"
      ],
      "execution_count": 0,
      "outputs": [
        {
          "output_type": "stream",
          "text": [
            "[nltk_data] Downloading package punkt to /root/nltk_data...\n",
            "[nltk_data]   Package punkt is already up-to-date!\n"
          ],
          "name": "stdout"
        }
      ]
    },
    {
      "metadata": {
        "id": "Gf023WZASORN",
        "colab_type": "code",
        "outputId": "89dda37a-9820-4291-a98d-742b11c5d8a9",
        "colab": {
          "base_uri": "https://localhost:8080/",
          "height": 102
        }
      },
      "cell_type": "code",
      "source": [
        "nltk.download('wordnet')\n",
        "from nltk.stem import WordNetLemmatizer\n",
        "wnl = WordNetLemmatizer()\n",
        "\n",
        "for word in ['walking', 'walks', 'walked']:\n",
        "    print(wnl.lemmatize(word))"
      ],
      "execution_count": 0,
      "outputs": [
        {
          "output_type": "stream",
          "text": [
            "[nltk_data] Downloading package wordnet to /root/nltk_data...\n",
            "[nltk_data]   Package wordnet is already up-to-date!\n",
            "walking\n",
            "walk\n",
            "walked\n"
          ],
          "name": "stdout"
        }
      ]
    },
    {
      "metadata": {
        "id": "P-xbOkEltxWN",
        "colab_type": "code",
        "colab": {}
      },
      "cell_type": "code",
      "source": [
        "def split_into_lemmas(message):\n",
        "    message = str(message).lower()\n",
        "    words = TextBlob(message).words\n",
        "    return [word.lemma for word in words]\n",
        "\n",
        "BOW_transform = CountVectorizer(analyzer=split_into_lemmas).fit(df['description'])"
      ],
      "execution_count": 0,
      "outputs": []
    },
    {
      "metadata": {
        "id": "cQT4rR1zt05n",
        "colab_type": "code",
        "colab": {}
      },
      "cell_type": "code",
      "source": [
        "BOW = BOW_transform.transform(df['description'])"
      ],
      "execution_count": 0,
      "outputs": []
    },
    {
      "metadata": {
        "id": "nXu4yTlluQ75",
        "colab_type": "code",
        "colab": {}
      },
      "cell_type": "code",
      "source": [
        "tfidf_BOW = TfidfTransformer().fit(BOW)"
      ],
      "execution_count": 0,
      "outputs": []
    },
    {
      "metadata": {
        "id": "1wYJlhdIuVVG",
        "colab_type": "code",
        "outputId": "3457edfa-ba46-465d-d714-e0b2058c27aa",
        "colab": {
          "base_uri": "https://localhost:8080/",
          "height": 34
        }
      },
      "cell_type": "code",
      "source": [
        "print('inverse document frequnency of the word \"to\" is:', tfidf_BOW.idf_[BOW_transform.vocabulary_['fruit']])"
      ],
      "execution_count": 0,
      "outputs": [
        {
          "output_type": "stream",
          "text": [
            "inverse document frequnency of the word \"to\" is: 1.90948139396831\n"
          ],
          "name": "stdout"
        }
      ]
    },
    {
      "metadata": {
        "id": "53K_j7c-uX7V",
        "colab_type": "code",
        "colab": {}
      },
      "cell_type": "code",
      "source": [
        "converted_messages = tfidf_BOW.transform(BOW)"
      ],
      "execution_count": 0,
      "outputs": []
    },
    {
      "metadata": {
        "id": "l2xVvby6uaq9",
        "colab_type": "code",
        "outputId": "1f56ea39-c65d-4571-effb-6405b32bafa2",
        "colab": {
          "base_uri": "https://localhost:8080/",
          "height": 34
        }
      },
      "cell_type": "code",
      "source": [
        "t1 = dt.datetime.now()\n",
        "spam_detector = MultinomialNB().fit(converted_messages, df['Good'])\n",
        "t2 = dt.datetime.now()\n",
        "print('total time taken in training:', (t2-t1))"
      ],
      "execution_count": 0,
      "outputs": [
        {
          "output_type": "stream",
          "text": [
            "total time taken in training: 0:00:00.013805\n"
          ],
          "name": "stdout"
        }
      ]
    },
    {
      "metadata": {
        "id": "0TKlW_3pudiq",
        "colab_type": "code",
        "colab": {}
      },
      "cell_type": "code",
      "source": [
        "#print('predicted:', spam_detector.predict(tfidf_BOW.transform(BOW[120]))[0])\n",
        "#print('expected:', df['Good'][120])"
      ],
      "execution_count": 0,
      "outputs": []
    },
    {
      "metadata": {
        "id": "SUFD5flYuiGZ",
        "colab_type": "code",
        "outputId": "04ce0b23-dfca-454d-ebd8-4586688198d3",
        "colab": {
          "base_uri": "https://localhost:8080/",
          "height": 34
        }
      },
      "cell_type": "code",
      "source": [
        "target = np.array(df['Good'].tolist())\n",
        "y = np.array([0, 0, 1, 1])\n",
        "features = converted_messages\n",
        "skf = StratifiedKFold(n_splits=5)\n",
        "skf.get_n_splits(target, target)"
      ],
      "execution_count": 0,
      "outputs": [
        {
          "output_type": "execute_result",
          "data": {
            "text/plain": [
              "5"
            ]
          },
          "metadata": {
            "tags": []
          },
          "execution_count": 150
        }
      ]
    },
    {
      "metadata": {
        "id": "VCqSsVKlump_",
        "colab_type": "code",
        "colab": {}
      },
      "cell_type": "code",
      "source": [
        "true_ = []\n",
        "pred_ = []\n",
        "StratifiedKFold(n_splits=5, random_state=None, shuffle=False)\n",
        "for train_index, test_index in skf.split(target,target):\n",
        "    spam_detector = MultinomialNB().fit(converted_messages[train_index], target[train_index])\n",
        "    predict = spam_detector.predict(converted_messages[test_index])\n",
        "    true_.append(target[test_index])\n",
        "    pred_.append(predict)"
      ],
      "execution_count": 0,
      "outputs": []
    },
    {
      "metadata": {
        "id": "s6KmlrFNurLE",
        "colab_type": "code",
        "colab": {}
      },
      "cell_type": "code",
      "source": [
        "TrueLabel = list(itertools.chain(*true_))\n",
        "PredictedLabel = list(itertools.chain(*pred_))"
      ],
      "execution_count": 0,
      "outputs": []
    },
    {
      "metadata": {
        "id": "inMpCThWut7Q",
        "colab_type": "code",
        "outputId": "2a0307fc-7533-4756-9932-cc5dee7681d0",
        "colab": {
          "base_uri": "https://localhost:8080/",
          "height": 292
        }
      },
      "cell_type": "code",
      "source": [
        "cm = confusion_matrix(PredictedLabel, TrueLabel)\n",
        "fig, ax = plt.subplots()\n",
        "im = ax.matshow(cm)\n",
        "for (i, j), z in np.ndenumerate(cm):\n",
        "    ax.text(j, i, '{:0.1f}'.format(z), ha='center', va='center',\n",
        "            bbox=dict(boxstyle='round', facecolor='white', edgecolor='0.3'))\n",
        "    \n",
        "plt.title('Confusion matrix')\n",
        "fig.colorbar(im)\n",
        "plt.ylabel('True label')\n",
        "plt.xlabel('Predicted label')\n",
        "plt.show()"
      ],
      "execution_count": 0,
      "outputs": [
        {
          "output_type": "display_data",
          "data": {
            "image/png": "[encoded data removed]",
            "text/plain": [
              "<Figure size 432x288 with 2 Axes>"
            ]
          },
          "metadata": {
            "tags": []
          }
        }
      ]
    },
    {
      "metadata": {
        "id": "m5zU_MKAuw8L",
        "colab_type": "code",
        "outputId": "ba25e5c5-1365-4f60-ef49-7292d7bbb515",
        "colab": {
          "base_uri": "https://localhost:8080/",
          "height": 54
        }
      },
      "cell_type": "code",
      "source": [
        "TrueLabel = [1 if x==1 else 0 for x in TrueLabel]\n",
        "PredictedLabel = [1 if x==1 else 0 for x in PredictedLabel]\n",
        "print(PredictedLabel)"
      ],
      "execution_count": 0,
      "outputs": [
        {
          "output_type": "stream",
          "text": [
            "[0, 0, 0, 0, 0, 0, 0, 0, 0, 0, 0, 0, 0, 0, 0, 0, 0, 0, 0, 0, 0, 0, 0, 0, 0, 0, 0, 0, 0, 0, 0, 0, 0, 0, 0, 0, 0, 0, 0, 0, 0, 0, 0, 0, 0, 0, 0, 0, 0, 0, 0, 0, 0, 0, 0, 0, 0, 0, 0, 0, 0, 0, 0, 0, 0, 0, 0, 0, 0, 0, 0, 0, 0, 0, 0, 0, 0, 0, 0, 0, 0, 0, 0, 0, 0, 0, 0, 0, 0, 0, 0, 0, 0, 0, 0, 0, 0, 0, 0, 0, 0, 0, 0, 0, 0, 0, 0, 0, 0, 0, 0, 0, 0, 0, 0, 0, 0, 0, 0, 0, 0, 0, 0, 0, 0, 0, 0, 0, 0, 0, 0, 0, 0, 0, 0, 0, 0, 0, 0, 0, 0, 0, 0, 0, 0, 0, 0, 0, 0, 0, 0, 0, 0, 0, 0, 0, 0, 0, 0, 0, 0, 0, 0, 0, 0, 0, 0, 0, 0, 0, 0, 0, 0, 0, 0, 0, 0, 0, 0, 0, 0, 0, 0, 0, 0, 0, 0, 0, 0, 0, 0, 0, 0, 0, 0, 0, 0, 0, 0, 0, 0, 0, 0, 0, 0, 0, 0, 0, 0, 0, 0, 0, 0, 0, 0, 0, 0, 0, 0, 0, 0, 0, 0, 0, 0, 0, 0, 0, 0, 0, 0, 0, 0, 0, 0, 0, 0, 0, 0, 0, 0, 0, 0, 0, 0, 0, 0, 0, 0, 0, 0, 0, 0, 0, 0, 0, 0, 0, 0, 0, 0, 0, 0, 0, 0, 0, 0, 0, 0, 0, 0, 0, 0, 0, 0, 0, 0, 0, 0, 0, 0, 0, 0, 0, 0, 0, 0, 0, 0, 0, 0, 0, 0, 0, 0, 0, 0, 0, 0, 0, 0, 0, 0, 0, 0, 0, 0, 0, 0, 0, 0, 0, 0, 0, 0, 0, 0, 0, 0, 0, 0, 0, 0, 0, 0, 0, 0, 0, 0, 0, 0, 0, 0, 0, 0, 0, 0, 0, 0, 0, 0, 0, 0, 0, 0, 0, 0, 0, 0, 0, 0, 0, 0, 0, 0, 0, 0, 0, 0, 0, 0, 0, 0, 0, 0, 0, 0, 0, 0, 0, 0, 0, 0, 0, 0, 0, 0, 0, 0, 0, 0, 0, 0, 0, 0, 0, 0, 0, 0, 0, 0, 0, 0, 0, 0, 0, 0, 0, 0, 0, 0, 0, 0, 0, 0, 0, 0, 0, 0, 0, 0, 0, 0, 0, 0, 0, 0, 0, 0, 0, 0, 0, 0, 0, 0, 0, 0, 0, 0, 0, 0, 0, 0, 0, 0, 0, 0, 0, 0, 0, 0, 0, 0, 0, 0, 0, 0, 0, 0, 0, 0, 0, 0, 0, 0, 0, 0, 0, 0, 0, 0, 0, 0, 0, 0, 0, 0, 0, 0, 0, 0, 0, 0, 0, 0, 0, 0, 0, 0, 0, 0, 0, 0, 0, 0, 0, 0, 0, 0, 0, 0, 0, 0, 0, 0, 0, 0, 0, 0, 0, 0, 0, 0, 0, 0, 0, 0, 0, 0, 0, 0, 0, 0, 0, 0, 0, 0, 0, 0, 0, 0, 0, 0, 0, 0, 0, 0, 0, 0, 0, 0, 0, 0, 0, 0, 0, 0, 0, 0, 0, 0, 0, 0, 0, 0, 0, 0, 0, 0, 0, 0, 0, 0, 0, 0, 0, 0, 0, 0, 0, 0, 0, 0, 0, 0, 0, 0, 0, 0, 0, 0, 0, 0, 0, 0, 0, 0, 0, 0, 0, 0, 0, 0, 0, 0, 0, 0, 0, 0, 0, 0, 0, 0, 0, 0, 0, 0, 0, 0, 0, 0, 0, 0, 0, 0, 0, 0, 0, 0, 0, 0, 0, 0, 0, 0, 0, 0, 0, 0, 0, 0, 0, 0, 0, 0, 0, 0, 0, 0, 0, 0, 0, 0, 0, 0, 0, 0, 0, 0, 0, 0, 0, 0, 0, 0, 0, 0, 0, 0, 0, 0, 0, 0, 0, 0, 0, 0, 0, 0, 0, 0, 0, 0, 0, 0, 0, 0, 0, 0, 0, 0, 0, 0, 0, 0, 0, 0, 0, 0, 0, 0, 0, 0, 0, 0, 0, 0, 0, 0, 0, 0, 0, 0, 0, 0, 0, 0, 0, 0, 0, 0, 0, 0, 0, 0, 0, 0, 0, 0, 0, 0, 0, 0, 0, 0, 0, 0, 0, 0, 0, 0, 0, 0, 0, 0, 0, 0, 0, 0, 0, 0, 0, 0, 0, 0, 0, 0, 0, 0, 0, 0, 0, 0, 0, 0, 0, 0, 0, 0, 0, 0, 0, 0, 0, 0, 0, 0, 0, 0, 0, 0, 0, 0, 0, 0, 0, 0, 0, 0, 0, 0, 0, 0, 0, 0, 0, 0, 0, 0, 0, 0, 0, 0, 0, 0, 0, 0, 0, 0, 0, 0, 0, 0, 0, 0, 0, 0, 0, 0, 0, 0, 0, 0, 0, 0, 0, 0, 0, 0, 0, 0, 0, 0, 0, 0, 0, 0, 0, 0, 0, 0, 0, 0, 0, 0, 0, 0, 0, 0, 0, 0, 0, 0, 0, 0, 0, 0, 0, 0, 0, 0, 0, 0, 0, 0, 0, 0, 0, 0, 0, 0, 0, 0, 0, 0, 0, 0, 0, 0, 0, 0, 0, 0, 0, 0, 0, 0, 0, 0, 0, 0, 0, 0, 0, 0, 0, 0, 0, 0, 0, 0, 0, 0, 0, 0, 0, 0, 0, 0, 0, 0, 0, 0, 0, 0, 0, 0, 0, 0, 0, 0, 0, 0, 0, 0, 0, 0, 0, 0, 0, 0, 0, 0, 0, 0, 0, 0, 0, 0, 0, 0, 0, 0, 0, 0, 0, 0, 0, 0, 0, 0, 0, 0, 0, 0, 0, 0, 0, 0, 0, 0, 0, 0, 0, 0, 0, 0, 0, 0, 0, 0, 0, 0, 0, 0, 0, 0, 0, 0, 0, 0, 0, 0, 0, 0, 0, 0, 0, 0, 0, 0, 0, 0, 0, 0, 0, 0, 0, 0, 0, 0, 0, 0, 0, 0, 0, 0, 0, 0, 0, 0, 0, 0, 0, 0, 0, 0, 0, 0, 0, 0, 0, 0, 0, 0, 0, 0, 0, 0, 0, 0, 0, 0, 0, 0, 0, 0, 0, 0, 0, 0, 0, 0, 0, 0, 0, 0, 0, 0, 0, 0, 0, 0, 0, 0, 0, 0, 0, 0, 0, 0, 0, 0, 0, 0, 0, 0, 0, 0, 0, 0, 0, 0, 0, 0, 0, 0, 0, 0, 0, 0, 0, 0, 0, 0, 0, 0, 0, 0, 0, 0, 0, 0, 0, 0, 0, 0, 0, 0, 0, 0, 0, 0, 0, 0, 0, 0, 0, 0, 0, 0, 0, 0, 0, 0, 0, 0, 0, 0, 0, 0, 0, 0, 0, 0, 0, 0, 0, 0, 0, 0, 0, 0, 0, 0, 0, 0, 0, 0, 0, 0, 0, 0, 0, 0, 0, 0, 0, 0, 0, 0, 0, 0, 0, 0, 0, 0, 0, 0, 0, 0, 0, 0, 0, 0, 0, 0, 0, 0, 0, 0, 0, 0, 0, 0, 0, 0, 0, 0, 0, 0, 0, 0, 0, 0, 0, 0, 0, 0, 0, 0, 0, 0, 0, 0, 0, 0, 0, 0, 0, 0, 0, 0, 0, 0, 0, 0, 0, 0, 0, 0, 0, 0, 0, 0, 0, 0, 0, 0, 0, 0, 0, 0, 0, 0, 0, 0, 0, 0, 0, 0, 0, 0, 0, 0, 0, 0, 0, 0, 0, 0, 0, 0, 0, 0, 0, 0, 0, 0, 0, 0, 0, 0, 0, 0, 0, 0, 0, 0, 0, 0, 0, 0, 0, 0, 0, 0, 0, 0, 0, 0, 0, 0, 0, 0, 0, 0, 0, 0, 0, 0, 0, 0, 0, 0, 0, 0, 0, 0, 0, 0, 0, 0, 0, 0, 0, 0, 0, 0, 0, 0, 0, 0, 0, 0, 0, 0, 0, 0, 0, 0, 0, 0, 0, 0, 0, 0, 0, 0, 0, 0, 0, 0, 0, 0, 0, 0, 0, 0, 0, 0, 0, 0, 0, 0, 0, 0, 0, 0, 0, 0, 0, 0, 0, 0, 0, 0, 0, 0, 0, 0, 0, 0, 0, 0, 0, 0, 0, 0, 0, 0, 0, 0, 0, 0, 0, 0, 0, 0, 0, 0, 0, 0, 0, 0, 0, 0, 0, 0, 0, 0, 0, 0, 0, 0, 0, 0, 0, 0, 0, 0, 0, 0, 0, 0, 0, 0, 0, 0, 0, 0, 0, 0, 0, 0, 0, 0, 0, 0, 0, 0, 0, 0, 0, 0, 0, 0, 0, 0, 0, 0, 0, 0, 0, 0, 0, 0, 0, 0, 0, 0, 0, 0, 0, 0, 0, 0, 0, 0, 0, 0, 0, 0, 0, 0, 0, 0, 0, 0, 0, 0, 0, 0, 0, 0, 0, 0, 0, 0, 0, 0, 0, 0, 0, 0, 0, 0, 0, 0, 0, 0, 0, 0, 0, 0, 0, 0, 0, 0, 0, 0, 0, 0, 0, 0, 0, 0, 0, 0, 0, 0, 0, 0, 0, 0, 0, 0, 0, 0, 0, 0, 0, 0, 0, 0, 0, 0, 0, 0, 0, 0, 0, 0, 0, 0, 0, 0, 0, 0, 0, 0, 0, 0, 0, 0, 0, 0, 0, 0, 0, 0, 0, 0, 0, 0, 0, 0, 0, 0, 0, 0, 0, 0, 0, 0, 0, 0, 0, 0, 0, 0, 0, 0, 0, 0, 0, 0, 0, 0, 0, 0, 0, 0, 0, 0, 0, 0, 0, 0, 0, 0, 0, 0, 0, 0, 0, 0, 0, 0, 0, 0, 0, 0, 0, 0, 0, 0, 0, 0, 0, 0, 0, 0, 0, 0, 0, 0, 0, 0, 0, 0, 0, 0, 0, 0, 0, 0, 0, 0, 0, 0, 0, 0, 0, 0, 0, 0, 0, 0, 0, 0, 0, 0, 0, 0, 0, 0, 0, 0, 0, 0, 0, 0, 0, 0, 0, 0, 0, 0, 0, 0, 0, 0, 0, 0, 0, 0, 0, 0, 0, 0, 0, 0, 0, 0, 0, 0, 0, 0, 0, 0, 0, 0, 0, 0, 0, 0, 0, 0, 0, 0, 0, 0, 0, 0, 0, 0, 0, 0, 0, 0, 0, 0, 0, 0, 0, 0, 0, 0, 0, 0, 0, 0, 0, 0, 0, 0, 0, 0, 0, 0, 0, 0, 0, 0, 0, 0, 0, 0, 0, 0, 0, 0, 0, 0, 0, 0, 0, 0, 0, 0, 0, 0, 0, 0, 0, 0, 0, 0, 0, 0, 0, 0, 0, 0, 0, 0, 0, 0, 0, 0, 0, 0, 0, 0, 0, 0, 0, 0, 0, 0, 0, 0, 0, 0, 0, 0, 0, 0, 0, 0, 0, 0, 0, 0, 0, 0, 0, 0, 0, 0, 0, 0, 0, 0, 0, 0, 0, 0, 0, 0, 0, 0, 0, 0, 0, 0, 0, 0, 0, 0, 0, 0, 0, 0, 0, 0, 0, 0, 0, 0, 0, 0, 0, 0, 0, 0, 0, 0, 0, 0, 0, 0, 0, 0, 0, 0, 0, 0, 0, 0, 0, 0, 0, 0, 0, 0, 0, 0, 0, 0, 0, 0, 0, 0, 0, 0, 0, 0, 0, 0, 0, 0, 0, 0, 0, 0, 0, 0, 0, 0, 0, 0, 0, 0, 0, 0, 0, 0, 0, 0, 0, 0, 0, 0, 0, 0, 0, 0, 0, 0, 0, 0, 0, 0, 0, 0, 0, 0, 0, 0, 0, 0, 0, 0, 0, 0, 0, 0, 0, 0, 0, 0, 0, 0, 0, 0, 0, 0, 0, 0, 0, 0, 0, 0, 0, 0, 0, 0, 0, 0, 0, 0, 0, 0, 0, 0, 0, 0, 0, 0, 0, 0, 0, 0, 0, 0, 0, 0, 0, 0, 0, 0, 0, 0, 0, 0, 0, 0, 0, 0, 0, 0, 0, 0, 0, 0, 0, 0, 0, 0, 0, 0, 0, 0, 0, 0, 0, 0, 0, 0, 0, 0, 0, 0, 0, 0, 0, 0, 0, 0, 0, 0, 0, 0, 0, 0, 0, 0, 0, 0, 0, 0, 0, 0, 0, 0, 0, 0, 0, 0, 0, 0, 0, 0, 0, 0, 0, 0, 0, 0, 0, 0, 0, 0, 0, 0, 0, 0, 0, 0, 0, 0, 0, 0, 0, 0, 0, 0, 0, 0, 0, 0, 0, 0, 0, 0, 0, 0, 0, 0, 0, 0, 0, 0, 0, 0, 0, 0, 0, 0, 0, 0, 0, 0, 0, 0, 0, 0, 0, 0, 0, 0, 0, 0, 0, 0, 0, 0, 0, 0, 0, 0, 0, 0, 0, 0, 0, 0, 0, 0, 0, 0, 0, 0, 0, 0, 0, 0, 0, 0, 0, 0, 0, 0, 0, 0, 0, 0, 0, 0, 0, 0, 0, 0, 0, 0, 0, 0, 0, 0, 0, 0, 0, 0, 0, 0, 0, 0, 0, 0, 0, 0, 0, 0, 0, 0, 0, 0, 0, 0, 0, 0, 0, 0, 0, 0, 0, 0, 0, 0, 0, 0, 0, 0, 0, 0, 0, 0, 0, 0, 0, 0, 0, 0, 0, 0, 0, 0, 0, 0, 0, 0, 0, 0, 0, 0, 0, 0, 0, 0, 0, 0, 0, 0, 0, 0, 0, 0, 0, 0, 0, 0, 0, 0, 0, 0, 0, 0, 0, 0, 0, 0, 0, 0, 0, 0, 0, 0, 0, 0, 0, 0, 0, 0, 0, 0, 0, 0, 0, 0, 0, 0, 0, 0, 0, 0, 0, 0, 0, 0, 0, 0, 0, 0, 0, 0, 0, 0, 0, 0, 0, 0, 0, 0, 0, 0, 0, 0, 0, 0, 0, 0, 0, 0, 0, 0, 0, 0, 0, 0, 0, 0, 0, 0, 0, 0, 0, 0, 0, 0, 0, 0, 0, 0, 0, 0, 0, 0, 0, 0, 0, 0, 0, 0, 0, 0, 0, 0, 0, 0, 0, 0, 0, 0, 0, 0, 0, 0, 0, 0, 0, 0, 0, 0, 0, 0, 0, 0, 0, 0, 0, 0, 0, 0, 0, 0, 0, 0, 0, 0, 0, 0, 0, 0, 0, 0, 0, 0, 0, 0, 0, 0, 0, 0, 0, 0, 0, 0, 0, 0, 0, 0, 0, 0, 0, 0, 0, 0, 0, 0, 0, 0, 0, 0, 0, 0, 0, 0, 0, 0, 0, 0, 0, 0, 0, 0, 0, 0, 0, 0, 0, 0, 0, 0, 0, 0, 0, 0, 0, 0, 0, 0, 0, 0, 0, 0, 0, 0, 0, 0, 0, 0, 0, 0, 0, 0, 0, 0, 0, 0, 0, 0, 0, 0, 0, 0, 0, 0, 0, 0, 0, 0, 0, 0, 0, 0, 0, 0, 0, 0, 0, 0, 0, 0, 0, 0, 0, 0, 0, 0, 0, 0, 0, 0, 0, 0, 0, 0, 0, 0, 0, 0, 0, 0, 0, 0, 0, 0, 0, 0, 0, 0, 0, 0, 0, 0, 0, 0, 0, 0, 0, 0, 0, 0, 0, 0, 0, 0, 0, 0, 0, 0, 0, 0, 0, 0, 0, 0, 0, 0, 0, 0, 0, 0, 0, 0, 0, 0, 0, 0, 0, 0, 0, 0, 0, 0, 0, 0, 0, 0, 0, 0, 0, 0, 0, 0, 0, 0, 0, 0, 0, 0, 0, 0, 0, 0, 0, 0, 0, 0, 0, 0, 0, 0, 0, 0, 0, 0, 0, 0, 0, 0, 0, 0, 0, 0, 0, 0, 0, 0, 0, 0, 0, 0, 0, 0, 0, 0, 0, 0, 0, 0, 0, 0, 0, 0, 0, 0, 0, 0, 0, 0, 0, 0, 0, 0, 0, 0, 0, 0, 0, 0, 0, 0, 0, 0, 0, 0, 0, 0, 0, 0, 0, 0, 0, 0, 0, 0, 0, 0, 0, 0, 0, 0, 0, 0, 0, 0, 0, 0, 0, 0, 0, 0, 0, 0, 0, 0, 0, 0, 0, 0, 0, 0, 0, 0, 0, 0, 0, 0, 0, 0, 0, 0, 0, 0, 0, 0, 0, 0, 0, 0, 0, 0, 0, 0, 0, 0, 0, 0, 0, 0, 0, 0, 0, 0, 0, 0, 0, 0, 0, 0, 0, 0, 0, 0, 0, 0, 0, 0, 0, 0, 0, 0, 0, 0, 0, 0, 0, 0, 0, 0, 0, 0, 0, 0, 0, 0, 0, 0, 0, 0, 0, 0, 0, 0, 0, 0, 0, 0, 0, 0, 0, 0, 0, 0, 0, 0, 0, 0, 0, 0, 0, 0, 0, 0, 0, 0, 0, 0, 0, 0, 0, 0, 0, 0, 0, 0, 0, 0, 0, 0, 0, 0, 0, 0, 0, 0, 0, 0, 0, 0, 0, 0, 0, 0, 0, 0, 0, 0, 0, 0, 0, 0, 0, 0, 0, 0, 0, 0, 0, 0, 0, 0, 0, 0, 0, 0, 0, 0, 0, 0, 0, 0, 0, 0, 0, 0, 0, 0, 0, 0, 0, 0, 0, 0, 0, 0, 0, 0, 0, 0, 0, 0, 0, 0, 0, 0, 0, 0, 0, 0, 0, 0, 0, 0, 0, 0, 0, 0, 0, 0, 0, 0, 0, 0, 0, 0, 0, 0, 0, 0, 0, 0, 0, 0, 0, 0, 0, 0, 0, 0, 0, 0, 0, 0, 0, 0, 0, 0, 0, 0, 0, 0, 0, 0, 0, 0, 0, 0, 0, 0, 0, 0, 0, 0, 0, 0, 0, 0, 0, 0, 0, 0, 0, 0, 0, 0, 0, 0, 0, 0, 0, 0, 0, 0, 0, 0, 0, 0, 0, 0, 0, 0, 0, 0, 0, 0, 0, 0, 0, 0, 0, 0, 0, 0, 0, 0, 0, 0, 0, 0, 0, 0, 0, 0, 0, 0, 0, 0, 0, 0, 0, 0, 0, 0, 0, 0, 0, 0, 0, 0, 0, 0, 0, 0, 0, 0, 0, 0, 0, 0, 0, 0, 0, 0, 0, 0, 0, 0, 0, 0, 0, 0, 0, 0, 0, 0, 0, 0, 0, 0, 0, 0, 0, 0, 0, 0, 0, 0, 0, 0, 0, 0, 0, 0, 0, 0, 0, 0, 0, 0, 0, 0, 0, 0, 0, 0, 0, 0, 0, 0, 0, 0, 0, 0, 0, 0, 0, 0, 0, 0, 0, 0, 0, 0, 0, 0, 0, 0, 0, 0, 0, 0, 0, 0, 0, 0, 0, 0, 0, 0, 0, 0, 0, 0, 0, 0, 0, 0, 0, 0, 0, 0, 0, 0, 0, 0, 0, 0, 0, 0, 0, 0, 0, 0, 0, 0, 0, 0, 0, 0, 0, 0, 0, 0, 0, 0, 0, 0, 0, 0, 0, 0, 0, 0, 0, 0, 0, 0, 0, 0, 0, 0, 0, 0, 0, 0, 0, 0, 0, 0, 0, 0, 0, 0, 0, 0, 0, 0, 0, 0, 0, 0, 0, 0, 0, 0, 0, 0, 0, 0, 0, 0, 0, 0, 0, 0, 0, 0, 0, 0, 0, 0, 0, 0, 0, 0, 0, 0, 0, 0, 0, 0, 0, 0, 0, 0, 0, 0, 0, 0, 0, 0, 0, 0, 0, 0, 0, 0, 0, 0, 0, 0, 0, 0, 0, 0, 0, 0, 0, 0, 0, 0, 0, 0, 0, 0, 0, 0, 0, 0, 0, 0, 0, 0, 0, 0, 0, 0, 0, 0, 0, 0, 0, 0, 0, 0, 0, 0, 0, 0, 0, 0, 0, 0, 0, 0, 0, 0, 0, 0, 0, 0, 0, 0, 0, 0, 0, 0, 0, 0, 0, 0, 0, 0, 0, 0, 0, 0, 0, 0, 0, 0, 0, 0, 0, 0, 0, 0, 0, 0, 0, 0, 0, 0, 0, 0, 0, 0, 0, 0, 0, 0, 0, 0, 0, 0, 0, 0, 0, 0, 0, 0, 0, 0, 0, 0, 0, 0, 0, 0, 0, 0, 0, 0, 0, 0, 0, 0, 0, 0, 0, 0, 0, 0, 0, 0, 0, 0, 0, 0, 0, 0, 0, 0, 0, 0, 0, 0, 0, 0, 0, 0, 0, 0, 0, 0, 0, 0, 0, 0, 0, 0, 0, 0, 0, 0, 0, 0, 0, 0, 0, 0, 0, 0, 0, 0, 0, 0, 0, 0, 0, 0, 0, 0, 0, 0, 0, 0, 0, 0, 0, 0, 0, 0, 0, 0, 0, 0, 0, 0, 0, 0, 0, 0, 0, 0, 0, 0, 0, 0, 0, 0, 0, 0, 0, 0, 0, 0, 0, 0, 0, 0, 0, 0, 0, 0, 0, 0, 0, 0, 0, 0, 0, 0, 0, 0, 0, 0, 0, 0, 0, 0, 0, 0, 0, 0, 0, 0, 0, 0, 0, 0, 0, 0, 0, 0, 0, 0, 0, 0, 0, 0, 0, 0, 0, 0, 0, 0, 0, 0, 0, 0, 0, 0, 0, 0, 0, 0, 0, 0, 0, 0, 0, 0, 0, 0, 0, 0, 0, 0, 0, 0, 0, 0, 0, 0, 0, 0, 0, 0, 0, 0, 0, 0, 0, 0, 0, 0, 0, 0, 0, 0, 0, 0, 0, 0, 0, 0, 0, 0, 0, 0, 0, 0, 0, 0, 0, 0, 0, 0, 0, 0, 0, 0, 0, 0, 0, 0, 0, 0, 0, 0, 0, 0, 0, 0, 0, 0, 0, 0, 0, 0, 0, 0, 0, 0, 0, 0, 0, 0, 0, 0, 0, 0, 0, 0, 0, 0, 0, 0, 0, 0, 0, 0, 0, 0, 0, 0, 0, 0, 0, 0, 0, 0, 0, 0, 0, 0, 0, 0, 0, 0, 0, 0, 0, 0, 0, 0, 0, 0, 0, 0, 0, 0, 0, 0, 0, 0, 0, 0, 0, 0, 0, 0, 0, 0, 0, 0, 0, 0, 0, 0, 0, 0, 0, 0, 0, 0, 0, 0, 0, 0, 0, 0, 0, 0, 0, 0, 0, 0, 0, 0, 0, 0, 0, 0, 0, 0, 0, 0, 0, 0, 0, 0, 0, 0, 0, 0, 0, 0, 0, 0, 0, 0, 0, 0, 0, 0, 0, 0, 0, 0, 0, 0, 0, 0, 0, 0, 0, 0, 0, 0, 0, 0, 0, 0, 0, 0, 0, 0, 0, 0, 0, 0, 0, 0, 0, 0, 0, 0, 0, 0, 0, 0, 0, 0, 0, 0, 0, 0, 0, 0, 0, 0, 0, 0, 0, 0, 0, 0, 0, 0, 0, 0, 0, 0, 0, 0, 0, 0, 0, 0, 0, 0, 0, 0, 0, 0, 0, 0, 0, 0, 0, 0, 0, 0, 0, 0, 0, 0, 0, 0, 0, 0, 0, 0, 0, 0, 0, 0, 0, 0, 0, 0, 0, 0, 0, 0, 0, 0, 0, 0, 0, 0, 0, 0, 0, 0, 0, 0, 0, 0, 0, 0, 0, 0, 0, 0, 0, 0, 0, 0, 0, 0, 0, 0, 0, 0, 0, 0, 0, 0, 0, 0, 0, 0, 0, 0, 0, 0, 0, 0, 0, 0, 0, 0, 0, 0, 0, 0, 0, 0, 0, 0, 0, 0, 0, 0, 0, 0, 0, 0, 0, 0, 0, 0, 0, 0, 0, 0, 0, 0, 0, 0, 0, 0, 0, 0, 0, 0, 0, 0, 0, 0, 0, 0, 0, 0, 0, 0, 0, 0, 0, 0, 0, 0, 0, 0, 0, 0, 0, 0, 0, 0, 0, 0, 0, 0, 0, 0, 0, 0, 0, 0, 0, 0, 0, 0, 0, 0, 0, 0, 0, 0, 0, 0, 0, 0, 0, 0, 0, 0, 0, 0, 0, 0, 0, 0, 0, 0, 0, 0, 0, 0, 0, 0, 0, 0, 0, 0, 0, 0, 0, 0, 0, 0, 0, 0, 0, 0, 0, 0, 0, 0, 0, 0, 0, 0, 0, 0, 0, 0, 0, 0, 0, 0, 0, 0, 0, 0, 0, 0, 0, 0, 0, 0, 0, 0, 0, 0, 0, 0, 0, 0, 0, 0, 0, 0, 0, 0, 0, 0, 0, 0, 0, 0, 0, 0, 0, 0, 0, 0, 0, 0, 0, 0, 0, 0, 0, 0, 0, 0, 0, 0, 0, 0, 0, 0, 0, 0, 0, 0, 0, 0, 0, 0, 0, 0, 0, 0, 0, 0, 0, 0, 0, 0, 0, 0, 0, 0, 0, 0, 0, 0, 0, 0, 0, 0, 0, 0, 0, 0, 0, 0, 0, 0, 0, 0, 0, 0, 0, 0, 0, 0, 0, 0, 0, 0, 0, 0, 0, 0, 0, 0, 0, 0, 0, 0, 0, 0, 0, 0, 0, 0, 0, 0, 0, 0, 0, 0, 0, 0, 0, 0, 0, 0, 0, 0, 0, 0, 0, 0, 0, 0, 0, 0, 0, 0, 0, 0, 0, 0, 0, 0, 0, 0, 0, 0, 0, 0, 0, 0, 0, 0, 0, 0, 0, 0, 0, 0, 0, 0, 0, 0, 0, 0, 0, 0, 0, 0, 0, 0, 0, 0, 0, 0, 0, 0, 0, 0, 0, 0, 0, 0, 0, 0, 0, 0, 0, 0, 0, 0, 0, 0, 0, 0, 0, 0, 0, 0, 0, 0, 0, 0, 0, 0, 0, 0, 0, 0, 0, 0, 0, 0, 0, 0, 0, 0, 0, 0, 0, 0, 0, 0, 0, 0, 0, 0, 0, 0, 0, 0, 0, 0, 0, 0, 0, 0, 0, 0, 0, 0, 0, 0, 0, 0, 0, 0, 0, 0, 0, 0, 0, 0, 0, 0, 0, 0, 0, 0, 0, 0, 0, 0, 0, 0, 0, 0, 0, 0, 0, 0, 0, 0, 0, 0, 0, 0, 0, 0, 0, 0, 0, 0, 0, 0, 0, 0, 0, 0, 0, 0, 0, 0, 0, 0, 0, 0, 0, 0, 0, 0, 0, 0, 0, 0, 0, 0, 0, 0, 0, 0, 0, 0, 0, 0, 0, 0, 0, 0, 0, 0, 0, 0, 0, 0, 0, 0, 0, 0, 0, 0, 0, 0, 0, 0, 0, 0, 0, 0, 0, 0, 0, 0, 0, 0, 0, 0, 0, 0, 0, 0, 0, 0, 0, 0, 0, 0, 0, 0, 0, 0, 0, 0, 0, 0, 0, 0, 0, 0, 0, 0, 0, 0, 0, 0, 0, 0, 0, 0, 0, 0, 0, 0, 0, 0, 0, 0, 0, 0, 0, 0, 0, 0, 0, 0, 0, 0, 0, 0, 0, 0, 0, 0, 0, 0, 0, 0, 0, 0, 0, 0, 0, 0, 0, 0, 0, 0, 0, 0, 0, 0, 0, 0, 0, 0, 0, 0, 0, 0, 0, 0, 0, 0, 0, 0, 0, 0, 0, 0, 0, 0, 0, 0, 0, 0, 0, 0, 0, 0, 0, 0, 0, 0, 0, 0, 0, 0, 0, 0, 0, 0, 0, 0, 0, 0, 0, 0, 0, 0, 0, 0, 0, 0, 0, 0, 0, 0, 0, 0, 0, 0, 0, 0, 0, 0, 0, 0, 0, 0, 0, 0, 0, 0, 0, 0, 0, 0, 0, 0, 0, 0, 0, 0, 0, 0, 0, 0, 0, 0, 0, 0, 0, 0, 0, 0, 0, 0, 0, 0, 0, 0, 0, 0, 0, 0, 0, 0, 0, 0, 0, 0, 0, 0, 0, 0, 0, 0, 0, 0, 0, 0, 0, 0, 0, 0, 0, 0, 0, 0, 0, 0, 0, 0, 0, 0, 0, 0, 0, 0, 0, 0, 0, 0, 0, 0, 0, 0, 0, 0, 0, 0, 0, 0, 0, 0, 0, 0, 0, 0, 0, 0, 0, 0, 0, 0, 0, 0, 0, 0, 0, 0, 0, 0, 0, 0, 0, 0, 0, 0, 0, 0, 0, 0, 0, 0, 0, 0, 0, 0, 0, 0, 0, 0, 0, 0, 0, 0, 0, 0, 0, 0, 0, 0, 0, 0, 0, 0, 0, 0, 0, 0, 0, 0, 0, 0, 0, 0, 0, 0, 0, 0, 0, 0, 0, 0, 0, 0, 0, 0, 0, 0, 0, 0, 0, 0, 0, 0, 0, 0, 0, 0, 0, 0, 0, 0, 0, 0, 0, 0, 0, 0, 0, 0, 0, 0, 0, 0, 0, 0, 0, 0, 0, 0, 0, 0, 0, 0, 0, 0, 0, 0, 0, 0, 0, 0, 0, 0, 0, 0, 0, 0, 0, 0, 0, 0, 0, 0, 0, 0, 0, 0, 0, 0, 0, 0, 0, 0, 0, 0, 0, 0, 0, 0, 0, 0, 0, 0, 0, 0, 0, 0, 0, 0, 0, 0, 0, 0, 0, 0, 0, 0, 0, 0, 0, 0, 0, 0, 0, 0, 0, 0, 0, 0, 0, 0, 0, 0, 0, 0, 0, 0, 0, 0, 0, 0, 0, 0, 0, 0, 0, 0, 0, 0, 0, 0, 0, 0, 0, 0, 0, 0, 0, 0, 0, 0, 0, 0, 0, 0, 0, 0, 0, 0, 0, 0, 0, 0, 0, 0, 0, 0, 0, 0, 0, 0, 0, 0, 0, 0, 0, 0, 0, 0, 0, 0, 0, 0, 0, 0, 0, 0, 0, 0, 0, 0, 0, 0, 0, 0, 0, 0, 0, 0, 0, 0, 0, 0, 0, 0, 0, 0, 0, 0, 0, 0, 0, 0, 0, 0, 0, 0, 0, 0, 0, 0, 0, 0, 0, 0, 0, 0, 0, 0, 0, 0, 0, 0, 0, 0, 0, 0, 0, 0, 0, 0, 0, 0, 0, 0, 0, 0, 0, 0, 0, 0, 0, 0, 0, 0, 0, 0, 0, 0, 0, 0, 0, 0, 0, 0, 0, 0, 0, 0, 0, 0, 0, 0, 0, 0, 0, 0, 0, 0, 0, 0, 0, 0, 0, 0, 0, 0, 0, 0, 0, 0, 0, 0, 0, 0, 0, 0, 0, 0, 0, 0, 0, 0, 0, 0, 0, 0, 0, 0, 0, 0, 0, 0, 0, 0, 0, 0, 0, 0, 0, 0, 0, 0, 0, 0, 0, 0, 0, 0, 0, 0, 0, 0, 0, 0, 0, 0, 0, 0, 0, 0, 0, 0, 0, 0, 0, 0, 0, 0, 0, 0, 0, 0, 0, 0, 0, 0, 0, 0, 0, 0, 0, 0, 0, 0, 0, 0, 0, 0, 0, 0, 0, 0, 0, 0, 0, 0, 0, 0, 0, 0, 0, 0, 0, 0, 0, 0, 0, 0, 0, 0, 0, 0, 0, 0, 0, 0, 0, 0, 0, 0, 0, 0, 0, 0, 0, 0, 0, 0, 0, 0, 0, 0, 0, 0, 0, 0, 0, 0, 0, 0, 0, 0, 0, 0, 0, 0, 0, 0, 0, 0, 0, 0, 0, 0, 0, 0, 0, 0, 0, 0, 0, 0, 0, 0, 0, 0, 0, 0, 0, 0, 0, 0, 0, 0, 0, 0, 0, 0, 0, 0, 0, 0, 0, 0, 0, 0, 0, 0, 0, 0, 0, 0, 0, 0, 0, 0, 0, 0, 0, 0, 0, 0, 0, 0, 0, 0, 0, 0, 0, 0, 0, 0, 0, 0, 0, 0, 0, 0, 0, 0, 0, 0, 0, 0, 0, 0, 0, 0, 0, 0, 0, 0, 0, 0, 0, 0, 0, 0, 0, 0, 0, 0, 0, 0, 0, 0, 0, 0, 0, 0, 0, 0, 0, 0, 0, 0, 0, 0, 0, 0, 0, 0, 0, 0, 0, 0, 0, 0, 0, 0, 0, 0, 0, 0, 0, 0, 0, 0, 0, 0, 0, 0, 0, 0, 0, 0, 0, 0, 0, 0, 0, 0, 0, 0, 0, 0, 0, 0, 0, 0, 0, 0, 0, 0, 0, 0, 0, 0, 0, 0, 0, 0, 0, 0, 0, 0, 0, 0, 0, 0, 0, 0, 0, 0, 0, 0, 0, 0, 0, 0, 0, 0, 0, 0, 0, 0, 0, 0, 0, 0, 0, 0, 0, 0, 0, 0, 0, 0, 0, 0, 0, 0, 0, 0, 0, 0, 0, 0, 0, 0, 0, 0, 0, 0, 0, 0, 0, 0, 0, 0, 0, 0, 0, 0, 0, 0, 0, 0, 0, 0, 0, 0, 0, 0, 0, 0, 0, 0, 0, 0, 0, 0, 0, 0, 0, 0, 0, 0, 0, 0, 0, 0, 0, 0, 0, 0, 0, 0, 0, 0, 0, 0, 0, 0, 0, 0, 0, 0, 0, 0, 0, 0, 0, 0, 0, 0, 0, 0, 0, 0, 0, 0, 0, 0, 0, 0, 0, 0, 0, 0, 0, 0, 0, 0, 0, 0, 0, 0, 0, 0, 0, 0, 0, 0, 0, 0, 0, 0, 0, 0, 0, 0, 0, 0, 0, 0, 0, 0, 0, 0, 0, 0, 0, 0, 0, 0, 0, 0, 0, 0, 0, 0, 0, 0, 0, 0, 0, 0, 0, 0, 0, 0, 0, 0, 0, 0, 0, 0, 0, 0, 0, 0, 0, 0, 0, 0, 0, 0, 0, 0, 0, 0, 0, 0, 0, 0, 0, 0, 0, 0, 0, 0, 0, 0, 0, 0, 0, 0, 0, 0, 0, 0, 0, 0, 0, 0, 0, 0, 0, 0, 0, 0, 0, 0, 0, 0, 0, 0, 0, 0, 0, 0, 0, 0, 0, 0, 0, 0, 0, 0, 0, 0, 0, 0, 0, 0, 0, 0, 0, 0, 0, 0, 0, 0, 0, 0, 0, 0, 0, 0, 0, 0, 0, 0, 0, 0, 0, 0, 0, 0, 0, 0, 0, 0, 0, 0, 0, 0, 0, 0, 0, 0, 0, 0, 0, 0, 0, 0, 0, 0, 0, 0, 0, 0, 0, 0, 0, 0, 0, 0, 0, 0, 0, 0, 0, 0, 0, 0, 0, 0, 0, 0, 0, 0, 0, 0, 0, 0, 0, 0, 0, 0, 0, 0, 0, 0, 0, 0, 0, 0, 0, 0, 0, 0, 0, 0, 0, 0, 0, 0, 0, 0, 0, 0, 0, 0, 0, 0, 0, 0, 0, 0, 0, 0, 0, 0, 0, 0, 0, 0, 0, 0, 0, 0, 0, 0, 0, 0, 0, 0, 0, 0, 0, 0, 0, 0, 0, 0, 0, 0, 0, 0, 0, 0, 0, 0, 0, 0, 0, 0, 0, 0, 0, 0, 0, 0, 0, 0, 0, 0, 0, 0, 0, 0, 0, 0, 0, 0, 0, 0, 0, 0, 0, 0, 0, 0, 0, 0, 0, 0, 0, 0, 0, 0, 0, 0, 0, 0, 0, 0, 0, 0, 0, 0, 0, 0, 0, 0, 0, 0, 0, 0, 0, 0, 0, 0, 0, 0, 0, 0, 0, 0, 0, 0, 0, 0, 0, 0, 0, 0, 0, 0, 0, 0, 0, 0, 0, 0, 0, 0, 0, 0, 0, 0, 0, 0, 0, 0, 0, 0, 0, 0, 0, 0, 0, 0, 0, 0, 0, 0, 0, 0, 0, 0, 0, 0, 0, 0, 0, 0, 0, 0, 0, 0, 0, 0, 0, 0, 0, 0, 0, 0, 0, 0, 0, 0, 0, 0, 0, 0, 0, 0, 0, 0, 0, 0, 0, 0, 0, 0, 0, 0, 0, 0, 0, 0, 0, 0, 0, 0, 0, 0, 0, 0, 0, 0, 0, 0, 0, 0, 0, 0, 0, 0, 0, 0, 0, 0, 0, 0, 0, 0, 0, 0, 0, 0, 0, 0, 0, 0, 0, 0, 0, 0, 0, 0, 0, 0, 0, 0, 0, 0, 0, 0, 0, 0, 0, 0, 0, 0, 0, 0, 0, 0, 0, 0, 0, 0, 0, 0, 0, 0, 0, 0, 0, 0, 0, 0, 0, 0, 0, 0, 0, 0, 0, 0, 0, 0, 0, 0, 0, 0, 0, 0, 0, 0, 0, 0, 0, 0, 0, 0, 0, 0, 0, 0, 0, 0, 0, 0, 0, 0, 0, 0, 0, 0, 0, 0, 0, 0, 0, 0, 0, 0, 0, 0, 0, 0, 0, 0, 0, 0, 0, 0, 0, 0, 0, 0, 0, 0, 0, 0, 0, 0, 0, 0, 0, 0, 0, 0, 0, 0, 0, 0, 0, 0, 0, 0, 0, 0, 0, 0, 0, 0, 0, 0, 0, 0, 0, 0, 0, 0, 0, 0, 0, 0, 0, 0, 0, 0, 0, 0, 0, 0, 0, 0, 0, 0, 0, 0, 0, 0, 0, 0, 0, 0, 0, 0, 0, 0, 0, 0, 0, 0, 0, 0, 0, 0, 0, 0, 0, 0, 0, 0, 0, 0, 0, 0, 0, 0, 0, 0, 0, 0, 0, 0, 0, 0, 0, 0, 0, 0, 0, 0, 0, 0, 0, 0, 0, 0, 0, 0, 0, 0, 0, 0, 0, 0, 0, 0, 0, 0, 0, 0, 0, 0, 0, 0, 0, 0, 0, 0, 0, 0, 0, 0, 0, 0, 0, 0, 0, 0, 0, 0, 0, 0, 0, 0, 0, 0, 0, 0, 0, 0, 0, 0, 0, 0, 0, 0, 0, 0, 0, 0, 0, 0, 0, 0, 0, 0, 0, 0, 0, 0, 0, 0, 0, 0, 0, 0, 0, 0, 0, 0, 0, 0, 0, 0, 0, 0, 0, 0, 0, 0, 0, 0, 0, 0, 0, 0, 0, 0, 0, 0, 0, 0, 0, 0, 0, 0, 0, 0, 0, 0, 0, 0, 0, 0, 0, 0, 0, 0, 0, 0, 0, 0, 0, 0, 0, 0, 0, 0, 0, 0, 0, 0, 0, 0, 0, 0, 0, 0, 0, 0, 0, 0, 0, 0, 0, 0, 0, 0, 0, 0, 0, 0, 0, 0, 0, 0, 0, 0, 0, 0, 0, 0, 0, 0, 0, 0, 0, 0, 0, 0, 0, 0, 0, 0, 0, 0, 0, 0, 0, 0, 0, 0, 0, 0, 0, 0, 0, 0, 0, 0, 0, 0, 0, 0, 0, 0, 0, 0, 0, 0, 0, 0, 0, 0, 0, 0, 0, 0, 0, 0, 0, 0, 0, 0, 0, 0, 0, 0, 0, 0, 0, 0, 0, 0, 0, 0, 0, 0, 0, 0, 0, 0, 0, 0, 0, 0, 0, 0, 0, 0, 0, 0, 0, 0, 0, 0, 0, 0, 0, 0, 0, 0, 0, 0, 0, 0, 0, 0, 0, 0, 0, 0, 0, 0, 0, 0, 0, 0, 0, 0, 0, 0, 0, 0, 0, 0, 0, 0, 0, 0, 0, 0, 0, 0, 0, 0, 0, 0, 0, 0, 0, 0, 0, 0, 0, 0, 0, 0, 0, 0, 0, 0, 0, 0, 0, 0, 0, 0, 0, 0, 0, 0, 0, 0, 0, 0, 0, 0, 0, 0, 0, 0, 0, 0, 0, 0, 0, 0, 0, 0, 0, 0, 0, 0, 0, 0, 0, 0, 0, 0, 0, 0, 0, 0, 0, 0, 0, 0, 0, 0, 0, 0, 0, 0, 0, 0, 0, 0, 0, 0, 0, 0, 0, 0, 0, 0, 0, 0, 0, 0, 0, 0, 0, 0, 0, 0, 0, 0, 0, 0, 0, 0, 0, 0, 0, 0, 0, 0, 0, 0, 0, 0, 0, 0, 0, 0, 0, 0, 0, 0, 0, 0, 0, 0, 0, 0, 0, 0, 0, 0, 0, 0, 0, 0, 0, 0, 0, 0, 0, 0, 0, 0, 0, 0, 0, 0, 0, 0, 0, 0, 0, 0, 0, 0, 0, 0, 0, 0, 0, 0, 0, 0, 0, 0, 0, 0, 0, 0, 0, 0, 0, 0, 0, 0, 0, 0, 0, 0, 0, 0, 0, 0, 0, 0, 0, 0, 0, 0, 0, 0, 0, 0, 0, 0, 0, 0, 0, 0, 0, 0, 0, 0, 0, 0, 0, 0, 0, 0, 0, 0, 0, 0, 0, 0, 0, 0, 0, 0, 0, 0, 0, 0, 0, 0, 0, 0, 0, 0, 0, 0, 0, 0, 0, 0, 0, 0, 0, 0, 0, 0, 0, 0, 0, 0, 0, 0, 0, 0, 0, 0, 0, 0, 0, 0, 0, 0, 0, 0, 0, 0, 0, 0, 0, 0, 0, 0, 0, 0, 0, 0, 0, 0, 0, 0, 0, 0, 0, 0, 0, 0, 0, 0, 0, 0, 0, 0, 0, 0, 0, 0, 0, 0, 0, 0, 0, 0, 0, 0, 0, 0, 0, 0, 0, 0, 0, 0, 0, 0, 0, 0, 0, 0, 0, 0, 0, 0, 0, 0, 0, 0, 0, 0, 0, 0, 0, 0, 0, 0, 0, 0, 0, 0, 0, 0, 0, 0, 0, 0, 0, 0, 0, 0, 0, 0, 0, 0, 0, 0, 0, 0, 0, 0, 0, 0, 0, 0, 0, 0, 0, 0, 0, 0, 0, 0, 0, 0, 0, 0, 0, 0, 0, 0, 0, 0, 0, 0, 0, 0, 0, 0, 0, 0, 0, 0, 0, 0, 0, 0, 0, 0, 0, 0, 0, 0, 0, 0, 0, 0, 0, 0, 0, 0, 0, 0, 0, 0, 0, 0, 0, 0, 0, 0, 0, 0, 0, 0, 0, 0, 0, 0, 0, 0, 0, 0, 0, 0, 0, 0, 0, 0, 0, 0, 0, 0, 0, 0, 0, 0, 0, 0, 0, 0, 0, 0, 0, 0, 0, 0, 0, 0, 0, 0, 0, 0, 0, 0, 0, 0, 0, 0, 0, 0, 0, 0, 0, 0, 0, 0, 0, 0, 0, 0, 0, 0, 0, 0, 0, 0, 0, 0, 0, 0, 0, 0, 0, 0, 0, 0, 0, 0, 0, 0, 0, 0, 0, 0, 0, 0, 0, 0, 0, 0, 0, 0, 0, 0, 0, 0, 0, 0, 0, 0, 0, 0, 0, 0, 0, 0, 0, 0, 0, 0, 0, 0, 0, 0, 0, 0, 0, 0, 0, 0, 0, 0, 0, 0, 0, 0, 0, 0, 0, 0, 0, 0, 0, 0, 0, 0, 0, 0, 0, 0, 0, 0, 0, 0, 0, 0, 0, 0, 0, 0, 0, 0, 0, 0, 0, 0, 0, 0, 0, 0, 0, 0, 0, 0, 0, 0, 0, 0, 0, 0, 0, 0, 0, 0, 0, 0, 0, 0, 0, 0, 0, 0, 0, 0, 0, 0, 0, 0, 0, 0, 0, 0, 0, 0, 0, 0, 0, 0, 0, 0, 0, 0, 0, 0, 0, 0, 0, 0, 0, 0, 0, 0, 0, 0, 0, 0, 0, 0, 0, 0, 0, 0, 0, 0, 0, 0, 0, 0, 0, 0, 0, 0, 0, 0, 0, 0, 0, 0, 0, 0, 0, 0, 0, 0, 0, 0, 0, 0, 0, 0, 0, 0, 0, 0, 0, 0, 0, 0, 0, 0, 0, 0, 0, 0, 0, 0, 0, 0, 0, 0, 0, 0, 0, 0, 0, 0, 0, 0, 0, 0, 0, 0, 0, 0, 0, 0, 0, 0, 0, 0, 0, 0, 0, 0, 0, 0, 0, 0, 0, 0, 0, 0, 0, 0, 0, 0, 0, 0, 0, 0, 0, 0, 0, 0, 0, 0, 0, 0, 0, 0, 0, 0, 0, 0, 0, 0, 0, 0, 0, 0, 0, 0, 0, 0, 0, 0, 0, 0, 0, 0, 0, 0, 0, 0, 0, 0, 0, 0, 0, 0, 0, 0, 0, 0, 0, 0, 0, 0, 0, 0, 0, 0, 0, 0, 0, 0, 0, 0, 0, 0, 0, 0, 0, 0, 0, 0, 0, 0, 0, 0, 0, 0, 0, 0, 0, 0, 0, 0, 0, 0, 0, 0, 0, 0, 0, 0, 0, 0, 0, 0, 0, 0, 0, 0, 0, 0, 0, 0, 0, 0, 0, 0, 0, 0, 0, 0, 0, 0, 0, 0, 0, 0, 0, 0, 0, 0, 0, 0, 0, 0, 0, 0, 0, 0, 0, 0, 0, 0, 0, 0, 0, 0, 0, 0, 0, 0, 0, 0, 0, 0, 0, 0, 0, 0, 0, 0, 0, 0, 0, 0, 0, 0, 0, 0, 0, 0, 0, 0, 0, 0, 0, 0, 0, 0, 0, 0, 0, 0, 0, 0, 0, 0, 0, 0, 0, 0, 0, 0, 0, 0, 0, 0, 0, 0, 0, 0, 0, 0, 0, 0, 0, 0, 0, 0, 0, 0, 0, 0, 0, 0, 0, 0, 0, 0, 0, 0, 0, 0, 0, 0, 0, 0, 0, 0, 0, 0, 0, 0, 0, 0, 0, 0, 0, 0, 0, 0, 0, 0, 0, 0, 0, 0, 0, 0, 0, 0, 0, 0, 0, 0, 0, 0, 0, 0, 0, 0, 0, 0, 0, 0, 0, 0, 0, 0, 0, 0, 0, 0, 0, 0, 0, 0, 0, 0, 0, 0, 0, 0, 0, 0, 0, 0, 0, 0, 0, 0, 0, 0, 0, 0, 0, 0, 0, 0, 0, 0, 0, 0, 0, 0, 0, 0, 0, 0, 0, 0, 0, 0, 0, 0, 0, 0, 0, 0, 0, 0, 0, 0, 0, 0, 0, 0, 0, 0, 0, 0, 0, 0, 0, 0, 0, 0, 0, 0, 0, 0, 0, 0, 0, 0, 0, 0, 0, 0, 0, 0, 0, 0, 0, 0, 0, 0, 0, 0, 0, 0, 0, 0, 0, 0, 0, 0, 0, 0, 0, 0, 0, 0, 0, 0, 0, 0, 0, 0, 0, 0, 0, 0, 0, 0, 0, 0, 0, 0, 0, 0, 0, 0, 0, 0, 0, 0, 0, 0, 0, 0, 0, 0, 0, 0, 0, 0, 0, 0, 0, 0, 0, 0, 0, 0, 0, 0, 0, 0, 0, 0, 0, 0, 0, 0, 0, 0, 0, 0, 0, 0, 0, 0, 0, 0, 0, 0, 0, 0, 0, 0, 0, 0, 0, 0, 0, 0, 0, 0, 0, 0, 0, 0, 0, 0, 0, 0, 0, 0, 0, 0, 0, 0, 0, 0, 0, 0, 0, 0, 0, 0, 0, 0, 0, 0, 0, 0, 0, 0, 0, 0, 0, 0, 0, 0, 0, 0, 0, 0, 0, 0, 0, 0, 0, 0, 0, 0, 0, 0, 0, 0, 0, 0, 0, 0, 0, 0, 0, 0, 0, 0, 0, 0, 0, 0, 0, 0, 0, 0, 0, 0, 0, 0, 0, 0, 0, 0, 0, 0, 0, 0, 0, 0, 0, 0, 0, 0, 0, 0, 0, 0, 0, 0, 0, 0, 0, 0, 0, 0, 0, 0, 0, 0, 0, 0, 0, 0, 0, 0, 0, 0, 0, 0, 0, 0, 0, 0, 0, 0, 0, 0, 0, 0, 0, 0, 0, 0, 0, 0, 0, 0, 0, 0, 0, 0, 0, 0, 0, 0, 0, 0, 0, 0, 0, 0, 0, 0, 0, 0, 0, 0, 0, 0, 0, 0, 0, 0, 0, 0, 0, 0, 0, 0, 0, 0, 0, 0, 0, 0, 0, 0, 0, 0, 0, 0, 0, 0, 0, 0, 0, 0, 0, 0, 0, 0, 0, 0, 0, 0, 0, 0, 0, 0, 0, 0, 0, 0, 0, 0, 0, 0, 0, 0, 0, 0, 0, 0, 0, 0, 0, 0, 0, 0, 0, 0, 0, 0, 0, 0, 0, 0, 0, 0, 0, 0, 0, 0, 0, 0, 0, 0, 0, 0, 0, 0, 0, 0, 0, 0, 0, 0, 0, 0, 0, 0, 0, 0, 0, 0, 0, 0, 0, 0, 0, 0, 0, 0, 0, 0, 0, 0, 0, 0, 0, 0, 0, 0, 0, 0, 0, 0, 0, 0, 0, 0, 0, 0, 0, 0, 0, 0, 0, 0, 0, 0, 0, 0, 0, 0, 0, 0, 0, 0, 0, 0, 0, 0, 0, 0, 0, 0, 0, 0, 0, 0, 0, 0, 0, 0, 0, 0, 0, 0, 0, 0, 0, 0, 0, 0, 0, 0, 0, 0, 0, 0, 0, 0, 0, 0, 0, 0, 0, 0, 0, 0, 0, 0, 0, 0, 0, 0, 0, 0, 0, 0, 0, 0, 0, 0, 0, 0, 0, 0, 0, 0, 0, 0, 0, 0, 0, 0, 0, 0, 0, 0, 0, 0, 0, 0, 0, 0, 0, 0, 0, 0, 0, 0, 0, 0, 0, 0, 0, 0, 0, 0, 0, 0, 0, 0, 0, 0, 0, 0, 0, 0, 0, 0, 0, 0, 0, 0, 0, 0, 0, 0, 0, 0, 0, 0, 0, 0, 0, 0, 0, 0, 0, 0, 0, 0, 0, 0, 0, 0, 0, 0, 0, 0, 0, 0, 0, 0, 0, 0, 0, 0, 0, 0, 0, 0, 0, 0, 0, 0, 0, 0, 0, 0, 0, 0, 0, 0, 0, 0, 0, 0, 0, 0, 0, 0, 0, 0, 0, 0, 0, 0, 0, 0, 0, 0, 0, 0, 0, 0, 0, 0, 0, 0, 0, 0, 0, 0, 0, 0, 0, 0, 0, 0, 0, 0, 0, 0, 0, 0, 0, 0, 0, 0, 0, 0, 0, 0, 0, 0, 0, 0, 0, 0, 0, 0, 0, 0, 0, 0, 0, 0, 0, 0, 0, 0, 0, 0, 0, 0, 0, 0, 0, 0, 0, 0, 0, 0, 0, 0, 0, 0, 0, 0, 0, 0, 0, 0, 0, 0, 0, 0, 0, 0, 0, 0, 0, 0, 0, 0, 0, 0, 0, 0, 0, 0, 0, 0, 0, 0, 0, 0, 0, 0, 0, 0, 0, 0, 0, 0, 0, 0, 0, 0, 0, 0, 0, 0, 0, 0, 0, 0, 0, 0, 0, 0, 0, 0, 0, 0, 0, 0, 0, 0, 0, 0, 0, 0, 0, 0, 0, 0, 0, 0, 0, 0, 0, 0, 0, 0, 0, 0, 0, 0, 0, 0, 0, 0, 0, 0, 0, 0, 0, 0, 0, 0, 0, 0, 0, 0, 0, 0, 0, 0, 0, 0, 0, 0, 0, 0, 0, 0, 0, 0, 0, 0, 0, 0, 0, 0, 0, 0, 0, 0, 0, 0, 0, 0, 0, 0, 0, 0, 0, 0, 0, 0, 0, 0, 0, 0, 0, 0, 0, 0, 0, 0, 0, 0, 0, 0, 0, 0, 0, 0, 0, 0, 0, 0, 0, 0, 0, 0, 0, 0, 0, 0, 0, 0, 0, 0, 0, 0, 0, 0, 0, 0, 0, 0, 0, 0, 0, 0, 0, 0, 0, 0, 0, 0, 0, 0, 0, 0, 0, 0, 0, 0, 0, 0, 0, 0, 0, 0, 0, 0, 0, 0, 0, 0, 0, 0, 0, 0, 0, 0, 0, 0, 0, 0, 0, 0, 0, 0, 0, 0, 0, 0, 0, 0, 0, 0, 0, 0, 0, 0, 0, 0, 0, 0, 0, 0, 0, 0, 0, 0, 0, 0, 0, 0, 0, 0, 0, 0, 0, 0, 0, 0, 0, 0, 0, 0, 0, 0, 0, 0, 0, 0, 0, 0, 0, 0, 0, 0, 0, 0, 0, 0, 0, 0, 0, 0, 0, 0, 0, 0, 0, 0, 0, 0, 0, 0, 0, 0, 0, 0, 0, 0, 0, 0, 0, 0, 0, 0, 0, 0, 0, 0, 0, 0, 0, 0, 0, 0, 0, 0, 0, 0, 0, 0, 0, 0, 0, 0, 0, 0, 0, 0, 0, 0, 0, 0, 0, 0, 0, 0, 0, 0, 0, 0, 0, 0, 0, 0, 0, 0, 0, 0, 0, 0, 0, 0, 0, 0, 0, 0, 0, 0, 0, 0, 0, 0, 0, 0, 0, 0, 0, 0, 0, 0, 0, 0, 0, 0, 0, 0, 0, 0, 0, 0, 0, 0, 0, 0, 0, 0, 0, 0, 0, 0, 0, 0, 0, 0, 0, 0, 0, 0, 0, 0, 0, 0, 0, 0, 0, 0, 0, 0, 0, 0, 0, 0, 0, 0, 0, 0, 0, 0, 0, 0, 0, 0, 0, 0, 0, 0, 0, 0, 0, 0, 0, 0, 0, 0, 0, 0, 0, 0, 0, 0, 0, 0, 0, 0, 0, 0, 0, 0, 0, 0, 0, 0, 0, 0, 0, 0, 0, 0, 0, 0, 0, 0, 0, 0, 0, 0, 0, 0, 0, 0, 0, 0, 0, 0, 0, 0, 0, 0, 0, 0, 0, 0, 0, 0, 0, 0, 0, 0, 0, 0, 0, 0, 0, 0, 0, 0, 0, 0, 0, 0, 0, 0, 0, 0, 0, 0, 0, 0, 0, 0, 0, 0, 0, 0, 0, 0, 0, 0, 0, 0, 0, 0, 0, 0, 0, 0, 0, 0, 0, 0, 0, 0, 0, 0, 0, 0, 0, 0, 0, 0, 0, 0, 0, 0, 0, 0, 0, 0, 0, 0, 0, 0, 0, 0, 0, 0, 0, 0, 0, 0, 0, 0, 0, 0, 0, 0, 0, 0, 0, 0, 0, 0, 0, 0, 0, 0, 0, 0, 0, 0, 0, 0, 0, 0, 0, 0, 0, 0, 0, 0, 0, 0, 0, 0, 0, 0, 0, 0, 0, 0, 0, 0, 0, 0, 0, 0, 0, 0, 0, 0, 0, 0, 0, 0, 0, 0, 0, 0, 0, 0, 0, 0, 0, 0, 0, 0, 0, 0, 0, 0, 0, 0, 0, 0, 0, 0, 0, 0, 0, 0, 0, 0, 0, 0, 0, 0, 0, 0, 0, 0, 0, 0, 0, 0, 0, 0, 0, 0, 0, 0, 0, 0, 0, 0, 0, 0, 0, 0, 0, 0, 0, 0, 0, 0, 0, 0, 0, 0, 0, 0, 0, 0, 0, 0, 0, 0, 0, 0, 0, 0, 0, 0, 0, 0, 0, 0, 0, 0, 0, 0, 0, 0, 0, 0, 0, 0, 0, 0, 0, 0, 0, 0, 0, 0, 0, 0, 0, 0, 0, 0, 0, 0, 0, 0, 0, 0, 0, 0, 0, 0, 0, 0, 0, 0, 0, 0, 0, 0, 0, 0, 0, 0, 0, 0, 0, 0, 0, 0, 0, 0, 0, 0, 0, 0, 0, 0, 0, 0, 0, 0, 0, 0, 0, 0, 0, 0, 0, 0, 0, 0, 0, 0, 0, 0, 0, 0, 0, 0, 0, 0, 0, 0, 0, 0, 0, 0, 0, 0, 0, 0, 0, 0, 0, 0, 0, 0, 0, 0, 0, 0, 0, 0, 0, 0, 0, 0, 0, 0, 0, 0, 0, 0, 0, 0, 0, 0, 0, 0, 0, 0, 0, 0, 0, 0, 0, 0, 0, 0, 0, 0, 0, 0, 0, 0, 0, 0, 0, 0, 0, 0, 0, 0, 0, 0, 0, 0, 0, 0, 0, 0, 0, 0, 0, 0, 0, 0, 0, 0, 0, 0, 0, 0, 0, 0, 0, 0, 0, 0, 0, 0, 0, 0, 0, 0, 0, 0, 0, 0, 0, 0, 0, 0, 0, 0, 0, 0, 0, 0, 0, 0, 0, 0, 0, 0, 0, 0, 0, 0, 0, 0, 0, 0, 0, 0, 0, 0, 0, 0, 0, 0, 0, 0, 0, 0, 0, 0, 0, 0, 0, 0, 0, 0, 0, 0, 0, 0, 0, 0, 0, 0, 0, 0, 0, 0, 0, 0, 0, 0, 0, 0, 0, 0, 0, 0, 0, 0, 0, 0, 0, 0, 0, 0, 0, 0, 0, 0, 0, 0, 0, 0, 0, 0, 0, 0, 0, 0, 0, 0, 0, 0, 0, 0, 0, 0, 0, 0, 0, 0, 0, 0, 0, 0, 0, 0, 0, 0, 0, 0, 0, 0, 0, 0, 0, 0, 0, 0, 0, 0, 0, 0, 0, 0, 0, 0, 0, 0, 0, 0, 0, 0, 0, 0, 0, 0, 0, 0, 0, 0, 0, 0, 0, 0, 0, 0, 0, 0, 0, 0, 0, 0, 0, 0, 0, 0, 0, 0, 0, 0, 0, 0, 0, 0, 0, 0, 0, 0, 0, 0, 0, 0, 0, 0, 0, 0, 0, 0, 0, 0, 0, 0, 0, 0, 0, 0, 0, 0, 0, 0, 0, 0, 0, 0, 0, 0, 0, 0, 0, 0, 0, 0, 0, 0, 0, 0, 0, 0, 0, 0, 0, 0, 0, 0, 0, 0, 0, 0, 0, 0, 0, 0, 0, 0, 0, 0, 0, 0, 0, 0, 0, 0, 0, 0, 0, 0, 0, 0, 0, 0, 0, 0, 0, 0, 0, 0, 0, 0, 0, 0, 0, 0, 0, 0, 0, 0, 0, 0, 0, 0, 0, 0, 0, 0, 0, 0, 0, 0, 0, 0, 0, 0, 0, 0, 0, 0, 0, 0, 0, 0, 0, 0, 0, 0, 0, 0, 0, 0, 0, 0, 0, 0, 0, 0, 0, 0, 0, 0, 0, 0, 0, 0, 0, 0, 0, 0, 0, 0, 0, 0, 0, 0, 0, 0, 0, 0, 0, 0, 0, 0, 0, 0, 0, 0, 0, 0, 0, 0, 0, 0, 0]\n"
          ],
          "name": "stdout"
        }
      ]
    },
    {
      "metadata": {
        "id": "gVXFuYeOu0j2",
        "colab_type": "code",
        "outputId": "0ff69090-4022-4338-d01f-13e916a6f387",
        "colab": {
          "base_uri": "https://localhost:8080/",
          "height": 68
        }
      },
      "cell_type": "code",
      "source": [
        "print('Correlation between the actual and prediction is:', pearsonr(TrueLabel, PredictedLabel)[0], 'with p-value',  (\"%.2f\" % pearsonr(TrueLabel, PredictedLabel)[1]))\n"
      ],
      "execution_count": 0,
      "outputs": [
        {
          "output_type": "stream",
          "text": [
            "Correlation between the actual and prediction is: nan with p-value 1.00\n"
          ],
          "name": "stdout"
        },
        {
          "output_type": "stream",
          "text": [
            "/usr/local/lib/python3.6/dist-packages/scipy/stats/stats.py:3010: RuntimeWarning: invalid value encountered in double_scalars\n",
            "  r = r_num / r_den\n"
          ],
          "name": "stderr"
        }
      ]
    },
    {
      "metadata": {
        "id": "ozuB04Dju7U8",
        "colab_type": "code",
        "outputId": "0a793d93-4af9-4ff4-b2f4-4d8cb9f9d629",
        "colab": {
          "base_uri": "https://localhost:8080/",
          "height": 319
        }
      },
      "cell_type": "code",
      "source": [
        "target_names = ['Good Wine', 'Bad Wine']\n",
        "print(classification_report(TrueLabel, PredictedLabel, target_names=target_names))"
      ],
      "execution_count": 0,
      "outputs": [
        {
          "output_type": "error",
          "ename": "ValueError",
          "evalue": "ignored",
          "traceback": [
            "\u001b[0;31m---------------------------------------------------------------------------\u001b[0m",
            "\u001b[0;31mValueError\u001b[0m                                Traceback (most recent call last)",
            "\u001b[0;32m<ipython-input-156-469e85462cb4>\u001b[0m in \u001b[0;36m<module>\u001b[0;34m()\u001b[0m\n\u001b[1;32m      1\u001b[0m \u001b[0mtarget_names\u001b[0m \u001b[0;34m=\u001b[0m \u001b[0;34m[\u001b[0m\u001b[0;34m'Good Wine'\u001b[0m\u001b[0;34m,\u001b[0m \u001b[0;34m'Bad Wine'\u001b[0m\u001b[0;34m]\u001b[0m\u001b[0;34m\u001b[0m\u001b[0;34m\u001b[0m\u001b[0m\n\u001b[0;32m----> 2\u001b[0;31m \u001b[0mprint\u001b[0m\u001b[0;34m(\u001b[0m\u001b[0mclassification_report\u001b[0m\u001b[0;34m(\u001b[0m\u001b[0mTrueLabel\u001b[0m\u001b[0;34m,\u001b[0m \u001b[0mPredictedLabel\u001b[0m\u001b[0;34m,\u001b[0m \u001b[0mtarget_names\u001b[0m\u001b[0;34m=\u001b[0m\u001b[0mtarget_names\u001b[0m\u001b[0;34m)\u001b[0m\u001b[0;34m)\u001b[0m\u001b[0;34m\u001b[0m\u001b[0;34m\u001b[0m\u001b[0m\n\u001b[0m",
            "\u001b[0;32m/usr/local/lib/python3.6/dist-packages/sklearn/metrics/classification.py\u001b[0m in \u001b[0;36mclassification_report\u001b[0;34m(y_true, y_pred, labels, target_names, sample_weight, digits, output_dict)\u001b[0m\n\u001b[1;32m   1541\u001b[0m                 \u001b[0;34m\"Number of classes, {0}, does not match size of \"\u001b[0m\u001b[0;34m\u001b[0m\u001b[0;34m\u001b[0m\u001b[0m\n\u001b[1;32m   1542\u001b[0m                 \u001b[0;34m\"target_names, {1}. Try specifying the labels \"\u001b[0m\u001b[0;34m\u001b[0m\u001b[0;34m\u001b[0m\u001b[0m\n\u001b[0;32m-> 1543\u001b[0;31m                 \u001b[0;34m\"parameter\"\u001b[0m\u001b[0;34m.\u001b[0m\u001b[0mformat\u001b[0m\u001b[0;34m(\u001b[0m\u001b[0mlen\u001b[0m\u001b[0;34m(\u001b[0m\u001b[0mlabels\u001b[0m\u001b[0;34m)\u001b[0m\u001b[0;34m,\u001b[0m \u001b[0mlen\u001b[0m\u001b[0;34m(\u001b[0m\u001b[0mtarget_names\u001b[0m\u001b[0;34m)\u001b[0m\u001b[0;34m)\u001b[0m\u001b[0;34m\u001b[0m\u001b[0;34m\u001b[0m\u001b[0m\n\u001b[0m\u001b[1;32m   1544\u001b[0m             )\n\u001b[1;32m   1545\u001b[0m     \u001b[0;32mif\u001b[0m \u001b[0mtarget_names\u001b[0m \u001b[0;32mis\u001b[0m \u001b[0;32mNone\u001b[0m\u001b[0;34m:\u001b[0m\u001b[0;34m\u001b[0m\u001b[0;34m\u001b[0m\u001b[0m\n",
            "\u001b[0;31mValueError\u001b[0m: Number of classes, 1, does not match size of target_names, 2. Try specifying the labels parameter"
          ]
        }
      ]
    },
    {
      "metadata": {
        "id": "fkW6LHNsu-ab",
        "colab_type": "code",
        "outputId": "d7ad5c27-8010-48f2-cd12-b5450f2b030b",
        "colab": {
          "base_uri": "https://localhost:8080/",
          "height": 401
        }
      },
      "cell_type": "code",
      "source": [
        "print('Area under the curve (AUC) is:', roc_auc_score(TrueLabel, PredictedLabel))"
      ],
      "execution_count": 0,
      "outputs": [
        {
          "output_type": "error",
          "ename": "ValueError",
          "evalue": "ignored",
          "traceback": [
            "\u001b[0;31m---------------------------------------------------------------------------\u001b[0m",
            "\u001b[0;31mValueError\u001b[0m                                Traceback (most recent call last)",
            "\u001b[0;32m<ipython-input-112-ce91fbd64399>\u001b[0m in \u001b[0;36m<module>\u001b[0;34m()\u001b[0m\n\u001b[0;32m----> 1\u001b[0;31m \u001b[0mprint\u001b[0m\u001b[0;34m(\u001b[0m\u001b[0;34m'Area under the curve (AUC) is:'\u001b[0m\u001b[0;34m,\u001b[0m \u001b[0mroc_auc_score\u001b[0m\u001b[0;34m(\u001b[0m\u001b[0mTrueLabel\u001b[0m\u001b[0;34m,\u001b[0m \u001b[0mPredictedLabel\u001b[0m\u001b[0;34m)\u001b[0m\u001b[0;34m)\u001b[0m\u001b[0;34m\u001b[0m\u001b[0;34m\u001b[0m\u001b[0m\n\u001b[0m",
            "\u001b[0;32m/usr/local/lib/python3.6/dist-packages/sklearn/metrics/ranking.py\u001b[0m in \u001b[0;36mroc_auc_score\u001b[0;34m(y_true, y_score, average, sample_weight, max_fpr)\u001b[0m\n\u001b[1;32m    350\u001b[0m     \u001b[0;32mif\u001b[0m \u001b[0my_type\u001b[0m \u001b[0;34m==\u001b[0m \u001b[0;34m\"binary\"\u001b[0m\u001b[0;34m:\u001b[0m\u001b[0;34m\u001b[0m\u001b[0;34m\u001b[0m\u001b[0m\n\u001b[1;32m    351\u001b[0m         \u001b[0mlabels\u001b[0m \u001b[0;34m=\u001b[0m \u001b[0mnp\u001b[0m\u001b[0;34m.\u001b[0m\u001b[0munique\u001b[0m\u001b[0;34m(\u001b[0m\u001b[0my_true\u001b[0m\u001b[0;34m)\u001b[0m\u001b[0;34m\u001b[0m\u001b[0;34m\u001b[0m\u001b[0m\n\u001b[0;32m--> 352\u001b[0;31m         \u001b[0my_true\u001b[0m \u001b[0;34m=\u001b[0m \u001b[0mlabel_binarize\u001b[0m\u001b[0;34m(\u001b[0m\u001b[0my_true\u001b[0m\u001b[0;34m,\u001b[0m \u001b[0mlabels\u001b[0m\u001b[0;34m)\u001b[0m\u001b[0;34m[\u001b[0m\u001b[0;34m:\u001b[0m\u001b[0;34m,\u001b[0m \u001b[0;36m0\u001b[0m\u001b[0;34m]\u001b[0m\u001b[0;34m\u001b[0m\u001b[0;34m\u001b[0m\u001b[0m\n\u001b[0m\u001b[1;32m    353\u001b[0m \u001b[0;34m\u001b[0m\u001b[0m\n\u001b[1;32m    354\u001b[0m     return _average_binary_score(\n",
            "\u001b[0;32m/usr/local/lib/python3.6/dist-packages/sklearn/preprocessing/label.py\u001b[0m in \u001b[0;36mlabel_binarize\u001b[0;34m(y, classes, neg_label, pos_label, sparse_output)\u001b[0m\n\u001b[1;32m    582\u001b[0m     \u001b[0;32melse\u001b[0m\u001b[0;34m:\u001b[0m\u001b[0;34m\u001b[0m\u001b[0;34m\u001b[0m\u001b[0m\n\u001b[1;32m    583\u001b[0m         \u001b[0;32mif\u001b[0m \u001b[0m_num_samples\u001b[0m\u001b[0;34m(\u001b[0m\u001b[0my\u001b[0m\u001b[0;34m)\u001b[0m \u001b[0;34m==\u001b[0m \u001b[0;36m0\u001b[0m\u001b[0;34m:\u001b[0m\u001b[0;34m\u001b[0m\u001b[0;34m\u001b[0m\u001b[0m\n\u001b[0;32m--> 584\u001b[0;31m             \u001b[0;32mraise\u001b[0m \u001b[0mValueError\u001b[0m\u001b[0;34m(\u001b[0m\u001b[0;34m'y has 0 samples: %r'\u001b[0m \u001b[0;34m%\u001b[0m \u001b[0my\u001b[0m\u001b[0;34m)\u001b[0m\u001b[0;34m\u001b[0m\u001b[0;34m\u001b[0m\u001b[0m\n\u001b[0m\u001b[1;32m    585\u001b[0m     \u001b[0;32mif\u001b[0m \u001b[0mneg_label\u001b[0m \u001b[0;34m>=\u001b[0m \u001b[0mpos_label\u001b[0m\u001b[0;34m:\u001b[0m\u001b[0;34m\u001b[0m\u001b[0;34m\u001b[0m\u001b[0m\n\u001b[1;32m    586\u001b[0m         raise ValueError(\"neg_label={0} must be strictly less than \"\n",
            "\u001b[0;31mValueError\u001b[0m: y has 0 samples: []"
          ]
        }
      ]
    },
    {
      "metadata": {
        "id": "DBckCh0ovBfs",
        "colab_type": "code",
        "outputId": "036f121a-76a2-44b2-e068-1986b95d2d75",
        "colab": {
          "base_uri": "https://localhost:8080/",
          "height": 418
        }
      },
      "cell_type": "code",
      "source": [
        "false_positive_rate, true_positive_rate, thresholds = roc_curve(TrueLabel, PredictedLabel)\n",
        "roc_auc = auc(false_positive_rate, true_positive_rate)"
      ],
      "execution_count": 0,
      "outputs": [
        {
          "output_type": "error",
          "ename": "ValueError",
          "evalue": "ignored",
          "traceback": [
            "\u001b[0;31m---------------------------------------------------------------------------\u001b[0m",
            "\u001b[0;31mValueError\u001b[0m                                Traceback (most recent call last)",
            "\u001b[0;32m<ipython-input-113-448e8ab7d061>\u001b[0m in \u001b[0;36m<module>\u001b[0;34m()\u001b[0m\n\u001b[0;32m----> 1\u001b[0;31m \u001b[0mfalse_positive_rate\u001b[0m\u001b[0;34m,\u001b[0m \u001b[0mtrue_positive_rate\u001b[0m\u001b[0;34m,\u001b[0m \u001b[0mthresholds\u001b[0m \u001b[0;34m=\u001b[0m \u001b[0mroc_curve\u001b[0m\u001b[0;34m(\u001b[0m\u001b[0mTrueLabel\u001b[0m\u001b[0;34m,\u001b[0m \u001b[0mPredictedLabel\u001b[0m\u001b[0;34m)\u001b[0m\u001b[0;34m\u001b[0m\u001b[0;34m\u001b[0m\u001b[0m\n\u001b[0m\u001b[1;32m      2\u001b[0m \u001b[0mroc_auc\u001b[0m \u001b[0;34m=\u001b[0m \u001b[0mauc\u001b[0m\u001b[0;34m(\u001b[0m\u001b[0mfalse_positive_rate\u001b[0m\u001b[0;34m,\u001b[0m \u001b[0mtrue_positive_rate\u001b[0m\u001b[0;34m)\u001b[0m\u001b[0;34m\u001b[0m\u001b[0;34m\u001b[0m\u001b[0m\n",
            "\u001b[0;32m/usr/local/lib/python3.6/dist-packages/sklearn/metrics/ranking.py\u001b[0m in \u001b[0;36mroc_curve\u001b[0;34m(y_true, y_score, pos_label, sample_weight, drop_intermediate)\u001b[0m\n\u001b[1;32m    616\u001b[0m     \"\"\"\n\u001b[1;32m    617\u001b[0m     fps, tps, thresholds = _binary_clf_curve(\n\u001b[0;32m--> 618\u001b[0;31m         y_true, y_score, pos_label=pos_label, sample_weight=sample_weight)\n\u001b[0m\u001b[1;32m    619\u001b[0m \u001b[0;34m\u001b[0m\u001b[0m\n\u001b[1;32m    620\u001b[0m     \u001b[0;31m# Attempt to drop thresholds corresponding to points in between and\u001b[0m\u001b[0;34m\u001b[0m\u001b[0;34m\u001b[0m\u001b[0;34m\u001b[0m\u001b[0m\n",
            "\u001b[0;32m/usr/local/lib/python3.6/dist-packages/sklearn/metrics/ranking.py\u001b[0m in \u001b[0;36m_binary_clf_curve\u001b[0;34m(y_true, y_score, pos_label, sample_weight)\u001b[0m\n\u001b[1;32m    414\u001b[0m              \u001b[0mnp\u001b[0m\u001b[0;34m.\u001b[0m\u001b[0marray_equal\u001b[0m\u001b[0;34m(\u001b[0m\u001b[0mclasses\u001b[0m\u001b[0;34m,\u001b[0m \u001b[0;34m[\u001b[0m\u001b[0;34m-\u001b[0m\u001b[0;36m1\u001b[0m\u001b[0;34m]\u001b[0m\u001b[0;34m)\u001b[0m \u001b[0;32mor\u001b[0m\u001b[0;34m\u001b[0m\u001b[0;34m\u001b[0m\u001b[0m\n\u001b[1;32m    415\u001b[0m              np.array_equal(classes, [1]))):\n\u001b[0;32m--> 416\u001b[0;31m         \u001b[0;32mraise\u001b[0m \u001b[0mValueError\u001b[0m\u001b[0;34m(\u001b[0m\u001b[0;34m\"Data is not binary and pos_label is not specified\"\u001b[0m\u001b[0;34m)\u001b[0m\u001b[0;34m\u001b[0m\u001b[0;34m\u001b[0m\u001b[0m\n\u001b[0m\u001b[1;32m    417\u001b[0m     \u001b[0;32melif\u001b[0m \u001b[0mpos_label\u001b[0m \u001b[0;32mis\u001b[0m \u001b[0;32mNone\u001b[0m\u001b[0;34m:\u001b[0m\u001b[0;34m\u001b[0m\u001b[0;34m\u001b[0m\u001b[0m\n\u001b[1;32m    418\u001b[0m         \u001b[0mpos_label\u001b[0m \u001b[0;34m=\u001b[0m \u001b[0;36m1.\u001b[0m\u001b[0;34m\u001b[0m\u001b[0;34m\u001b[0m\u001b[0m\n",
            "\u001b[0;31mValueError\u001b[0m: Data is not binary and pos_label is not specified"
          ]
        }
      ]
    },
    {
      "metadata": {
        "id": "8LtZlAiyvHUg",
        "colab_type": "code",
        "outputId": "f3a460ad-cf1b-4d01-ae18-2240b521d298",
        "colab": {
          "base_uri": "https://localhost:8080/",
          "height": 496
        }
      },
      "cell_type": "code",
      "source": [
        "plt.title('Receiver Operating Characteristic')\n",
        "plt.plot(false_positive_rate, true_positive_rate, 'b',\n",
        "label='AUC = %0.2f'% roc_auc)\n",
        "plt.legend(loc='lower right')\n",
        "plt.plot([0,1],[0,1],'r--')\n",
        "plt.xlim([-0.1,1.1])\n",
        "plt.ylim([-0.1,1.1])\n",
        "plt.ylabel('True Positive Rate')\n",
        "plt.xlabel('False Positive Rate')\n",
        "plt.show()\n",
        "\n",
        "#Lots of code from\n",
        "#https://github.com/shubhabrataroy/Thinkful/blob/master/Curriculum/SpamFilter.ipynb"
      ],
      "execution_count": 0,
      "outputs": [
        {
          "output_type": "error",
          "ename": "NameError",
          "evalue": "ignored",
          "traceback": [
            "\u001b[0;31m---------------------------------------------------------------------------\u001b[0m",
            "\u001b[0;31mNameError\u001b[0m                                 Traceback (most recent call last)",
            "\u001b[0;32m<ipython-input-114-ddbf1dd8bfdb>\u001b[0m in \u001b[0;36m<module>\u001b[0;34m()\u001b[0m\n\u001b[1;32m      1\u001b[0m \u001b[0mplt\u001b[0m\u001b[0;34m.\u001b[0m\u001b[0mtitle\u001b[0m\u001b[0;34m(\u001b[0m\u001b[0;34m'Receiver Operating Characteristic'\u001b[0m\u001b[0;34m)\u001b[0m\u001b[0;34m\u001b[0m\u001b[0;34m\u001b[0m\u001b[0m\n\u001b[0;32m----> 2\u001b[0;31m plt.plot(false_positive_rate, true_positive_rate, 'b',\n\u001b[0m\u001b[1;32m      3\u001b[0m label='AUC = %0.2f'% roc_auc)\n\u001b[1;32m      4\u001b[0m \u001b[0mplt\u001b[0m\u001b[0;34m.\u001b[0m\u001b[0mlegend\u001b[0m\u001b[0;34m(\u001b[0m\u001b[0mloc\u001b[0m\u001b[0;34m=\u001b[0m\u001b[0;34m'lower right'\u001b[0m\u001b[0;34m)\u001b[0m\u001b[0;34m\u001b[0m\u001b[0;34m\u001b[0m\u001b[0m\n\u001b[1;32m      5\u001b[0m \u001b[0mplt\u001b[0m\u001b[0;34m.\u001b[0m\u001b[0mplot\u001b[0m\u001b[0;34m(\u001b[0m\u001b[0;34m[\u001b[0m\u001b[0;36m0\u001b[0m\u001b[0;34m,\u001b[0m\u001b[0;36m1\u001b[0m\u001b[0;34m]\u001b[0m\u001b[0;34m,\u001b[0m\u001b[0;34m[\u001b[0m\u001b[0;36m0\u001b[0m\u001b[0;34m,\u001b[0m\u001b[0;36m1\u001b[0m\u001b[0;34m]\u001b[0m\u001b[0;34m,\u001b[0m\u001b[0;34m'r--'\u001b[0m\u001b[0;34m)\u001b[0m\u001b[0;34m\u001b[0m\u001b[0;34m\u001b[0m\u001b[0m\n",
            "\u001b[0;31mNameError\u001b[0m: name 'false_positive_rate' is not defined"
          ]
        },
        {
          "output_type": "display_data",
          "data": {
            "image/png": "[encoded data removed]",
            "text/plain": [
              "<Figure size 432x288 with 1 Axes>"
            ]
          },
          "metadata": {
            "tags": []
          }
        }
      ]
    },
    {
      "metadata": {
        "id": "d0_3hPNJvLuS",
        "colab_type": "code",
        "outputId": "5adec924-1bca-4136-fdb5-61f2cc3d9bcc",
        "colab": {
          "base_uri": "https://localhost:8080/",
          "height": 306
        }
      },
      "cell_type": "code",
      "source": [
        "data.head()"
      ],
      "execution_count": 0,
      "outputs": [
        {
          "output_type": "execute_result",
          "data": {
            "text/html": [
              "<div>\n",
              "<style scoped>\n",
              "    .dataframe tbody tr th:only-of-type {\n",
              "        vertical-align: middle;\n",
              "    }\n",
              "\n",
              "    .dataframe tbody tr th {\n",
              "        vertical-align: top;\n",
              "    }\n",
              "\n",
              "    .dataframe thead th {\n",
              "        text-align: right;\n",
              "    }\n",
              "</style>\n",
              "<table border=\"1\" class=\"dataframe\">\n",
              "  <thead>\n",
              "    <tr style=\"text-align: right;\">\n",
              "      <th></th>\n",
              "      <th>Unnamed: 0</th>\n",
              "      <th>country</th>\n",
              "      <th>description</th>\n",
              "      <th>designation</th>\n",
              "      <th>points</th>\n",
              "      <th>price</th>\n",
              "      <th>province</th>\n",
              "      <th>region_1</th>\n",
              "      <th>region_2</th>\n",
              "      <th>variety</th>\n",
              "      <th>winery</th>\n",
              "      <th>Good</th>\n",
              "    </tr>\n",
              "  </thead>\n",
              "  <tbody>\n",
              "    <tr>\n",
              "      <th>0</th>\n",
              "      <td>0</td>\n",
              "      <td>US</td>\n",
              "      <td>This tremendous 100% varietal wine hails from ...</td>\n",
              "      <td>Martha's Vineyard</td>\n",
              "      <td>96</td>\n",
              "      <td>235.0</td>\n",
              "      <td>California</td>\n",
              "      <td>Napa Valley</td>\n",
              "      <td>Napa</td>\n",
              "      <td>Cabernet Sauvignon</td>\n",
              "      <td>Heitz</td>\n",
              "      <td>5</td>\n",
              "    </tr>\n",
              "    <tr>\n",
              "      <th>1</th>\n",
              "      <td>1</td>\n",
              "      <td>Spain</td>\n",
              "      <td>Ripe aromas of fig, blackberry and cassis are ...</td>\n",
              "      <td>Carodorum Selección Especial Reserva</td>\n",
              "      <td>96</td>\n",
              "      <td>110.0</td>\n",
              "      <td>Northern Spain</td>\n",
              "      <td>Toro</td>\n",
              "      <td>NaN</td>\n",
              "      <td>Tinta de Toro</td>\n",
              "      <td>Bodega Carmen Rodríguez</td>\n",
              "      <td>5</td>\n",
              "    </tr>\n",
              "    <tr>\n",
              "      <th>2</th>\n",
              "      <td>2</td>\n",
              "      <td>US</td>\n",
              "      <td>Mac Watson honors the memory of a wine once ma...</td>\n",
              "      <td>Special Selected Late Harvest</td>\n",
              "      <td>96</td>\n",
              "      <td>90.0</td>\n",
              "      <td>California</td>\n",
              "      <td>Knights Valley</td>\n",
              "      <td>Sonoma</td>\n",
              "      <td>Sauvignon Blanc</td>\n",
              "      <td>Macauley</td>\n",
              "      <td>5</td>\n",
              "    </tr>\n",
              "    <tr>\n",
              "      <th>3</th>\n",
              "      <td>3</td>\n",
              "      <td>US</td>\n",
              "      <td>This spent 20 months in 30% new French oak, an...</td>\n",
              "      <td>Reserve</td>\n",
              "      <td>96</td>\n",
              "      <td>65.0</td>\n",
              "      <td>Oregon</td>\n",
              "      <td>Willamette Valley</td>\n",
              "      <td>Willamette Valley</td>\n",
              "      <td>Pinot Noir</td>\n",
              "      <td>Ponzi</td>\n",
              "      <td>5</td>\n",
              "    </tr>\n",
              "    <tr>\n",
              "      <th>4</th>\n",
              "      <td>4</td>\n",
              "      <td>France</td>\n",
              "      <td>This is the top wine from La Bégude, named aft...</td>\n",
              "      <td>La Brûlade</td>\n",
              "      <td>95</td>\n",
              "      <td>66.0</td>\n",
              "      <td>Provence</td>\n",
              "      <td>Bandol</td>\n",
              "      <td>NaN</td>\n",
              "      <td>Provence red blend</td>\n",
              "      <td>Domaine de la Bégude</td>\n",
              "      <td>0</td>\n",
              "    </tr>\n",
              "  </tbody>\n",
              "</table>\n",
              "</div>"
            ],
            "text/plain": [
              "   Unnamed: 0 country                                        description  \\\n",
              "0           0      US  This tremendous 100% varietal wine hails from ...   \n",
              "1           1   Spain  Ripe aromas of fig, blackberry and cassis are ...   \n",
              "2           2      US  Mac Watson honors the memory of a wine once ma...   \n",
              "3           3      US  This spent 20 months in 30% new French oak, an...   \n",
              "4           4  France  This is the top wine from La Bégude, named aft...   \n",
              "\n",
              "                            designation  points  price        province  \\\n",
              "0                     Martha's Vineyard      96  235.0      California   \n",
              "1  Carodorum Selección Especial Reserva      96  110.0  Northern Spain   \n",
              "2         Special Selected Late Harvest      96   90.0      California   \n",
              "3                               Reserve      96   65.0          Oregon   \n",
              "4                            La Brûlade      95   66.0        Provence   \n",
              "\n",
              "            region_1           region_2             variety  \\\n",
              "0        Napa Valley               Napa  Cabernet Sauvignon   \n",
              "1               Toro                NaN       Tinta de Toro   \n",
              "2     Knights Valley             Sonoma     Sauvignon Blanc   \n",
              "3  Willamette Valley  Willamette Valley          Pinot Noir   \n",
              "4             Bandol                NaN  Provence red blend   \n",
              "\n",
              "                    winery  Good  \n",
              "0                    Heitz     5  \n",
              "1  Bodega Carmen Rodríguez     5  \n",
              "2                 Macauley     5  \n",
              "3                    Ponzi     5  \n",
              "4     Domaine de la Bégude     0  "
            ]
          },
          "metadata": {
            "tags": []
          },
          "execution_count": 115
        }
      ]
    },
    {
      "metadata": {
        "id": "8z-hYGlbvfgJ",
        "colab_type": "code",
        "outputId": "7764ee54-a47e-4c32-cb72-8b480f7edbac",
        "colab": {
          "base_uri": "https://localhost:8080/",
          "height": 1523
        }
      },
      "cell_type": "code",
      "source": [
        "good = data[data.Good == 1]\n",
        "bad = data[data.Good == 0]\n",
        "\n",
        "goodString = ' '.join(good['description'].tolist()).lower()\n",
        "badString = ' '.join(bad['description'].tolist()).lower()\n",
        "goodTokens = nltk.tokenize.word_tokenize(goodString)\n",
        "badTokens = nltk.tokenize.word_tokenize(badString)\n",
        "\n",
        "goodDist = nltk.FreqDist(goodTokens)\n",
        "badDist = nltk.FreqDist(badTokens)\n",
        "\n",
        "stopwords = nltk.corpus.stopwords.words('english')\n",
        "\n",
        "good_filter = lambda goodDist, stopwords: dict( (word,goodDist[word]) for word in goodDist if word not in stopwords )\n",
        "good_word_freq = dict_filter(goodDist, stopwords)\n",
        "\n",
        "bad_filter = lambda goodDist, stopwords: dict( (word,badDist[word]) for word in badDist if word not in stopwords )\n",
        "bad_word_freq = dict_filter(badDist, stopwords)\n",
        "\n",
        "Good = pd.DataFrame(list(good_word_freq.items()))\n",
        "Good.columns = ['word','count']\n",
        "Bad = pd.DataFrame(list(bad_word_freq.items()))\n",
        "Bad.columns = ['word','count']\n",
        "\n",
        "Good.sort_values('count',ascending=False).head(20)"
      ],
      "execution_count": 0,
      "outputs": [
        {
          "output_type": "error",
          "ename": "LookupError",
          "evalue": "ignored",
          "traceback": [
            "\u001b[0;31m---------------------------------------------------------------------------\u001b[0m",
            "\u001b[0;31mLookupError\u001b[0m                               Traceback (most recent call last)",
            "\u001b[0;32m/usr/local/lib/python3.6/dist-packages/nltk/corpus/util.py\u001b[0m in \u001b[0;36m__load\u001b[0;34m(self)\u001b[0m\n\u001b[1;32m     79\u001b[0m             \u001b[0;32mexcept\u001b[0m \u001b[0mLookupError\u001b[0m \u001b[0;32mas\u001b[0m \u001b[0me\u001b[0m\u001b[0;34m:\u001b[0m\u001b[0;34m\u001b[0m\u001b[0;34m\u001b[0m\u001b[0m\n\u001b[0;32m---> 80\u001b[0;31m                 \u001b[0;32mtry\u001b[0m\u001b[0;34m:\u001b[0m \u001b[0mroot\u001b[0m \u001b[0;34m=\u001b[0m \u001b[0mnltk\u001b[0m\u001b[0;34m.\u001b[0m\u001b[0mdata\u001b[0m\u001b[0;34m.\u001b[0m\u001b[0mfind\u001b[0m\u001b[0;34m(\u001b[0m\u001b[0;34m'{}/{}'\u001b[0m\u001b[0;34m.\u001b[0m\u001b[0mformat\u001b[0m\u001b[0;34m(\u001b[0m\u001b[0mself\u001b[0m\u001b[0;34m.\u001b[0m\u001b[0msubdir\u001b[0m\u001b[0;34m,\u001b[0m \u001b[0mzip_name\u001b[0m\u001b[0;34m)\u001b[0m\u001b[0;34m)\u001b[0m\u001b[0;34m\u001b[0m\u001b[0;34m\u001b[0m\u001b[0m\n\u001b[0m\u001b[1;32m     81\u001b[0m                 \u001b[0;32mexcept\u001b[0m \u001b[0mLookupError\u001b[0m\u001b[0;34m:\u001b[0m \u001b[0;32mraise\u001b[0m \u001b[0me\u001b[0m\u001b[0;34m\u001b[0m\u001b[0;34m\u001b[0m\u001b[0m\n",
            "\u001b[0;32m/usr/local/lib/python3.6/dist-packages/nltk/data.py\u001b[0m in \u001b[0;36mfind\u001b[0;34m(resource_name, paths)\u001b[0m\n\u001b[1;32m    672\u001b[0m     \u001b[0mresource_not_found\u001b[0m \u001b[0;34m=\u001b[0m \u001b[0;34m'\\n%s\\n%s\\n%s\\n'\u001b[0m \u001b[0;34m%\u001b[0m \u001b[0;34m(\u001b[0m\u001b[0msep\u001b[0m\u001b[0;34m,\u001b[0m \u001b[0mmsg\u001b[0m\u001b[0;34m,\u001b[0m \u001b[0msep\u001b[0m\u001b[0;34m)\u001b[0m\u001b[0;34m\u001b[0m\u001b[0;34m\u001b[0m\u001b[0m\n\u001b[0;32m--> 673\u001b[0;31m     \u001b[0;32mraise\u001b[0m \u001b[0mLookupError\u001b[0m\u001b[0;34m(\u001b[0m\u001b[0mresource_not_found\u001b[0m\u001b[0;34m)\u001b[0m\u001b[0;34m\u001b[0m\u001b[0;34m\u001b[0m\u001b[0m\n\u001b[0m\u001b[1;32m    674\u001b[0m \u001b[0;34m\u001b[0m\u001b[0m\n",
            "\u001b[0;31mLookupError\u001b[0m: \n**********************************************************************\n  Resource \u001b[93mstopwords\u001b[0m not found.\n  Please use the NLTK Downloader to obtain the resource:\n\n  \u001b[31m>>> import nltk\n  >>> nltk.download('stopwords')\n  \u001b[0m\n  Searched in:\n    - '/root/nltk_data'\n    - '/usr/share/nltk_data'\n    - '/usr/local/share/nltk_data'\n    - '/usr/lib/nltk_data'\n    - '/usr/local/lib/nltk_data'\n    - '/usr/nltk_data'\n    - '/usr/lib/nltk_data'\n**********************************************************************\n",
            "\nDuring handling of the above exception, another exception occurred:\n",
            "\u001b[0;31mLookupError\u001b[0m                               Traceback (most recent call last)",
            "\u001b[0;32m<ipython-input-116-c6de388cab4c>\u001b[0m in \u001b[0;36m<module>\u001b[0;34m()\u001b[0m\n\u001b[1;32m     10\u001b[0m \u001b[0mbadDist\u001b[0m \u001b[0;34m=\u001b[0m \u001b[0mnltk\u001b[0m\u001b[0;34m.\u001b[0m\u001b[0mFreqDist\u001b[0m\u001b[0;34m(\u001b[0m\u001b[0mbadTokens\u001b[0m\u001b[0;34m)\u001b[0m\u001b[0;34m\u001b[0m\u001b[0;34m\u001b[0m\u001b[0m\n\u001b[1;32m     11\u001b[0m \u001b[0;34m\u001b[0m\u001b[0m\n\u001b[0;32m---> 12\u001b[0;31m \u001b[0mstopwords\u001b[0m \u001b[0;34m=\u001b[0m \u001b[0mnltk\u001b[0m\u001b[0;34m.\u001b[0m\u001b[0mcorpus\u001b[0m\u001b[0;34m.\u001b[0m\u001b[0mstopwords\u001b[0m\u001b[0;34m.\u001b[0m\u001b[0mwords\u001b[0m\u001b[0;34m(\u001b[0m\u001b[0;34m'english'\u001b[0m\u001b[0;34m)\u001b[0m\u001b[0;34m\u001b[0m\u001b[0;34m\u001b[0m\u001b[0m\n\u001b[0m\u001b[1;32m     13\u001b[0m \u001b[0;34m\u001b[0m\u001b[0m\n\u001b[1;32m     14\u001b[0m \u001b[0mgood_filter\u001b[0m \u001b[0;34m=\u001b[0m \u001b[0;32mlambda\u001b[0m \u001b[0mgoodDist\u001b[0m\u001b[0;34m,\u001b[0m \u001b[0mstopwords\u001b[0m\u001b[0;34m:\u001b[0m \u001b[0mdict\u001b[0m\u001b[0;34m(\u001b[0m \u001b[0;34m(\u001b[0m\u001b[0mword\u001b[0m\u001b[0;34m,\u001b[0m\u001b[0mgoodDist\u001b[0m\u001b[0;34m[\u001b[0m\u001b[0mword\u001b[0m\u001b[0;34m]\u001b[0m\u001b[0;34m)\u001b[0m \u001b[0;32mfor\u001b[0m \u001b[0mword\u001b[0m \u001b[0;32min\u001b[0m \u001b[0mgoodDist\u001b[0m \u001b[0;32mif\u001b[0m \u001b[0mword\u001b[0m \u001b[0;32mnot\u001b[0m \u001b[0;32min\u001b[0m \u001b[0mstopwords\u001b[0m \u001b[0;34m)\u001b[0m\u001b[0;34m\u001b[0m\u001b[0;34m\u001b[0m\u001b[0m\n",
            "\u001b[0;32m/usr/local/lib/python3.6/dist-packages/nltk/corpus/util.py\u001b[0m in \u001b[0;36m__getattr__\u001b[0;34m(self, attr)\u001b[0m\n\u001b[1;32m    114\u001b[0m             \u001b[0;32mraise\u001b[0m \u001b[0mAttributeError\u001b[0m\u001b[0;34m(\u001b[0m\u001b[0;34m\"LazyCorpusLoader object has no attribute '__bases__'\"\u001b[0m\u001b[0;34m)\u001b[0m\u001b[0;34m\u001b[0m\u001b[0;34m\u001b[0m\u001b[0m\n\u001b[1;32m    115\u001b[0m \u001b[0;34m\u001b[0m\u001b[0m\n\u001b[0;32m--> 116\u001b[0;31m         \u001b[0mself\u001b[0m\u001b[0;34m.\u001b[0m\u001b[0m__load\u001b[0m\u001b[0;34m(\u001b[0m\u001b[0;34m)\u001b[0m\u001b[0;34m\u001b[0m\u001b[0;34m\u001b[0m\u001b[0m\n\u001b[0m\u001b[1;32m    117\u001b[0m         \u001b[0;31m# This looks circular, but its not, since __load() changes our\u001b[0m\u001b[0;34m\u001b[0m\u001b[0;34m\u001b[0m\u001b[0;34m\u001b[0m\u001b[0m\n\u001b[1;32m    118\u001b[0m         \u001b[0;31m# __class__ to something new:\u001b[0m\u001b[0;34m\u001b[0m\u001b[0;34m\u001b[0m\u001b[0;34m\u001b[0m\u001b[0m\n",
            "\u001b[0;32m/usr/local/lib/python3.6/dist-packages/nltk/corpus/util.py\u001b[0m in \u001b[0;36m__load\u001b[0;34m(self)\u001b[0m\n\u001b[1;32m     79\u001b[0m             \u001b[0;32mexcept\u001b[0m \u001b[0mLookupError\u001b[0m \u001b[0;32mas\u001b[0m \u001b[0me\u001b[0m\u001b[0;34m:\u001b[0m\u001b[0;34m\u001b[0m\u001b[0;34m\u001b[0m\u001b[0m\n\u001b[1;32m     80\u001b[0m                 \u001b[0;32mtry\u001b[0m\u001b[0;34m:\u001b[0m \u001b[0mroot\u001b[0m \u001b[0;34m=\u001b[0m \u001b[0mnltk\u001b[0m\u001b[0;34m.\u001b[0m\u001b[0mdata\u001b[0m\u001b[0;34m.\u001b[0m\u001b[0mfind\u001b[0m\u001b[0;34m(\u001b[0m\u001b[0;34m'{}/{}'\u001b[0m\u001b[0;34m.\u001b[0m\u001b[0mformat\u001b[0m\u001b[0;34m(\u001b[0m\u001b[0mself\u001b[0m\u001b[0;34m.\u001b[0m\u001b[0msubdir\u001b[0m\u001b[0;34m,\u001b[0m \u001b[0mzip_name\u001b[0m\u001b[0;34m)\u001b[0m\u001b[0;34m)\u001b[0m\u001b[0;34m\u001b[0m\u001b[0;34m\u001b[0m\u001b[0m\n\u001b[0;32m---> 81\u001b[0;31m                 \u001b[0;32mexcept\u001b[0m \u001b[0mLookupError\u001b[0m\u001b[0;34m:\u001b[0m \u001b[0;32mraise\u001b[0m \u001b[0me\u001b[0m\u001b[0;34m\u001b[0m\u001b[0;34m\u001b[0m\u001b[0m\n\u001b[0m\u001b[1;32m     82\u001b[0m \u001b[0;34m\u001b[0m\u001b[0m\n\u001b[1;32m     83\u001b[0m         \u001b[0;31m# Load the corpus.\u001b[0m\u001b[0;34m\u001b[0m\u001b[0;34m\u001b[0m\u001b[0;34m\u001b[0m\u001b[0m\n",
            "\u001b[0;32m/usr/local/lib/python3.6/dist-packages/nltk/corpus/util.py\u001b[0m in \u001b[0;36m__load\u001b[0;34m(self)\u001b[0m\n\u001b[1;32m     76\u001b[0m         \u001b[0;32melse\u001b[0m\u001b[0;34m:\u001b[0m\u001b[0;34m\u001b[0m\u001b[0;34m\u001b[0m\u001b[0m\n\u001b[1;32m     77\u001b[0m             \u001b[0;32mtry\u001b[0m\u001b[0;34m:\u001b[0m\u001b[0;34m\u001b[0m\u001b[0;34m\u001b[0m\u001b[0m\n\u001b[0;32m---> 78\u001b[0;31m                 \u001b[0mroot\u001b[0m \u001b[0;34m=\u001b[0m \u001b[0mnltk\u001b[0m\u001b[0;34m.\u001b[0m\u001b[0mdata\u001b[0m\u001b[0;34m.\u001b[0m\u001b[0mfind\u001b[0m\u001b[0;34m(\u001b[0m\u001b[0;34m'{}/{}'\u001b[0m\u001b[0;34m.\u001b[0m\u001b[0mformat\u001b[0m\u001b[0;34m(\u001b[0m\u001b[0mself\u001b[0m\u001b[0;34m.\u001b[0m\u001b[0msubdir\u001b[0m\u001b[0;34m,\u001b[0m \u001b[0mself\u001b[0m\u001b[0;34m.\u001b[0m\u001b[0m__name\u001b[0m\u001b[0;34m)\u001b[0m\u001b[0;34m)\u001b[0m\u001b[0;34m\u001b[0m\u001b[0;34m\u001b[0m\u001b[0m\n\u001b[0m\u001b[1;32m     79\u001b[0m             \u001b[0;32mexcept\u001b[0m \u001b[0mLookupError\u001b[0m \u001b[0;32mas\u001b[0m \u001b[0me\u001b[0m\u001b[0;34m:\u001b[0m\u001b[0;34m\u001b[0m\u001b[0;34m\u001b[0m\u001b[0m\n\u001b[1;32m     80\u001b[0m                 \u001b[0;32mtry\u001b[0m\u001b[0;34m:\u001b[0m \u001b[0mroot\u001b[0m \u001b[0;34m=\u001b[0m \u001b[0mnltk\u001b[0m\u001b[0;34m.\u001b[0m\u001b[0mdata\u001b[0m\u001b[0;34m.\u001b[0m\u001b[0mfind\u001b[0m\u001b[0;34m(\u001b[0m\u001b[0;34m'{}/{}'\u001b[0m\u001b[0;34m.\u001b[0m\u001b[0mformat\u001b[0m\u001b[0;34m(\u001b[0m\u001b[0mself\u001b[0m\u001b[0;34m.\u001b[0m\u001b[0msubdir\u001b[0m\u001b[0;34m,\u001b[0m \u001b[0mzip_name\u001b[0m\u001b[0;34m)\u001b[0m\u001b[0;34m)\u001b[0m\u001b[0;34m\u001b[0m\u001b[0;34m\u001b[0m\u001b[0m\n",
            "\u001b[0;32m/usr/local/lib/python3.6/dist-packages/nltk/data.py\u001b[0m in \u001b[0;36mfind\u001b[0;34m(resource_name, paths)\u001b[0m\n\u001b[1;32m    671\u001b[0m     \u001b[0msep\u001b[0m \u001b[0;34m=\u001b[0m \u001b[0;34m'*'\u001b[0m \u001b[0;34m*\u001b[0m \u001b[0;36m70\u001b[0m\u001b[0;34m\u001b[0m\u001b[0;34m\u001b[0m\u001b[0m\n\u001b[1;32m    672\u001b[0m     \u001b[0mresource_not_found\u001b[0m \u001b[0;34m=\u001b[0m \u001b[0;34m'\\n%s\\n%s\\n%s\\n'\u001b[0m \u001b[0;34m%\u001b[0m \u001b[0;34m(\u001b[0m\u001b[0msep\u001b[0m\u001b[0;34m,\u001b[0m \u001b[0mmsg\u001b[0m\u001b[0;34m,\u001b[0m \u001b[0msep\u001b[0m\u001b[0;34m)\u001b[0m\u001b[0;34m\u001b[0m\u001b[0;34m\u001b[0m\u001b[0m\n\u001b[0;32m--> 673\u001b[0;31m     \u001b[0;32mraise\u001b[0m \u001b[0mLookupError\u001b[0m\u001b[0;34m(\u001b[0m\u001b[0mresource_not_found\u001b[0m\u001b[0;34m)\u001b[0m\u001b[0;34m\u001b[0m\u001b[0;34m\u001b[0m\u001b[0m\n\u001b[0m\u001b[1;32m    674\u001b[0m \u001b[0;34m\u001b[0m\u001b[0m\n\u001b[1;32m    675\u001b[0m \u001b[0;34m\u001b[0m\u001b[0m\n",
            "\u001b[0;31mLookupError\u001b[0m: \n**********************************************************************\n  Resource \u001b[93mstopwords\u001b[0m not found.\n  Please use the NLTK Downloader to obtain the resource:\n\n  \u001b[31m>>> import nltk\n  >>> nltk.download('stopwords')\n  \u001b[0m\n  Searched in:\n    - '/root/nltk_data'\n    - '/usr/share/nltk_data'\n    - '/usr/local/share/nltk_data'\n    - '/usr/lib/nltk_data'\n    - '/usr/local/lib/nltk_data'\n    - '/usr/nltk_data'\n    - '/usr/lib/nltk_data'\n**********************************************************************\n"
          ]
        }
      ]
    },
    {
      "metadata": {
        "id": "dIG-b2_nv0li",
        "colab_type": "code",
        "outputId": "d73c605b-8c6e-4d22-9841-d2bdde31ac08",
        "colab": {
          "base_uri": "https://localhost:8080/",
          "height": 163
        }
      },
      "cell_type": "code",
      "source": [
        "Bad.sort_values('count',ascending=False).head(20)"
      ],
      "execution_count": 0,
      "outputs": [
        {
          "output_type": "error",
          "ename": "NameError",
          "evalue": "ignored",
          "traceback": [
            "\u001b[0;31m---------------------------------------------------------------------------\u001b[0m",
            "\u001b[0;31mNameError\u001b[0m                                 Traceback (most recent call last)",
            "\u001b[0;32m<ipython-input-117-4c27cb548e72>\u001b[0m in \u001b[0;36m<module>\u001b[0;34m()\u001b[0m\n\u001b[0;32m----> 1\u001b[0;31m \u001b[0mBad\u001b[0m\u001b[0;34m.\u001b[0m\u001b[0msort_values\u001b[0m\u001b[0;34m(\u001b[0m\u001b[0;34m'count'\u001b[0m\u001b[0;34m,\u001b[0m\u001b[0mascending\u001b[0m\u001b[0;34m=\u001b[0m\u001b[0;32mFalse\u001b[0m\u001b[0;34m)\u001b[0m\u001b[0;34m.\u001b[0m\u001b[0mhead\u001b[0m\u001b[0;34m(\u001b[0m\u001b[0;36m20\u001b[0m\u001b[0;34m)\u001b[0m\u001b[0;34m\u001b[0m\u001b[0;34m\u001b[0m\u001b[0m\n\u001b[0m",
            "\u001b[0;31mNameError\u001b[0m: name 'Bad' is not defined"
          ]
        }
      ]
    },
    {
      "metadata": {
        "id": "uaW0EJKFv50j",
        "colab_type": "code",
        "colab": {}
      },
      "cell_type": "code",
      "source": [
        "from sklearn.tree import DecisionTreeClassifier\n",
        "\n",
        "def QualityRating(row):\n",
        "    if row['points'] >= 90:\n",
        "        val = 1\n",
        "    else:\n",
        "        val = 0\n",
        "    return(val)\n",
        "\n",
        "wine_df = data\n",
        "wine_df=wine_df.loc[wine_df.country=='US',['points','price','region_1', 'variety','winery']]\n",
        "wine_df=wine_df.dropna(axis=0,how='any')\n",
        "wine_df['point_bins'] = data.apply(QualityRating,axis=1)\n",
        "\n",
        "wine_df['is_train'] = np.random.uniform(0, 1, len(wine_df)) <= .25\n",
        "wine_train, wine_test = wine_df[wine_df['is_train']==True], wine_df[wine_df['is_train']==False]"
      ],
      "execution_count": 0,
      "outputs": []
    },
    {
      "metadata": {
        "id": "p45-tui4wAUQ",
        "colab_type": "code",
        "outputId": "a92a392c-2cb7-4ff2-f795-7b8f9ee2023c",
        "colab": {
          "base_uri": "https://localhost:8080/",
          "height": 965
        }
      },
      "cell_type": "code",
      "source": [
        "\n",
        "# Train classification tree\n",
        "x = wine_train.loc[:,['price','regn_enc','var_enc','wnry_enc']]\n",
        "y = wine_train['point_bins']\n",
        "min_samp_split = 2                           \n",
        "clf = DecisionTreeClassifier(min_samples_split=min_samp_split,max_features=None)\n",
        "clf = clf.fit(x,y)\n",
        "\n",
        "# Report classification results.  training dataset first, then test.  \n",
        "# BASELINE - all features, no tree termination criteria\n",
        "train_error=y==clf.predict(x)\n",
        "test_error=wine_test['point_bins']==clf.predict(wine_test.loc[:,['price', \\\n",
        "    'regn_enc','var_enc','wnry_enc']])\n",
        "print('@@@@@@@@@@@@@@@@@@@@@@@@@')\n",
        "print('CART w/ #leaf nodes = ',clf.tree_.node_count) \n",
        "print('   ',clf.n_features_,' features out of: 4 features')                          \n",
        "print('   training accuracy: ','{:.1%}'.format(sum(train_error)/len(\n",
        "    train_error)))\n",
        "print('   test accuracy: ','{:.1%}'.format(sum(test_error)/len(test_error)))"
      ],
      "execution_count": 0,
      "outputs": [
        {
          "output_type": "stream",
          "text": [
            "/usr/local/lib/python3.6/dist-packages/ipykernel_launcher.py:1: FutureWarning: \n",
            "Passing list-likes to .loc or [] with any missing label will raise\n",
            "KeyError in the future, you can use .reindex() as an alternative.\n",
            "\n",
            "See the documentation here:\n",
            "http://pandas.pydata.org/pandas-docs/stable/indexing.html#deprecate-loc-reindex-listlike\n",
            "  \"\"\"Entry point for launching an IPython kernel.\n",
            "/usr/local/lib/python3.6/dist-packages/pandas/core/indexing.py:1367: FutureWarning: \n",
            "Passing list-likes to .loc or [] with any missing label will raise\n",
            "KeyError in the future, you can use .reindex() as an alternative.\n",
            "\n",
            "See the documentation here:\n",
            "http://pandas.pydata.org/pandas-docs/stable/indexing.html#deprecate-loc-reindex-listlike\n",
            "  return self._getitem_tuple(key)\n"
          ],
          "name": "stderr"
        },
        {
          "output_type": "error",
          "ename": "ValueError",
          "evalue": "ignored",
          "traceback": [
            "\u001b[0;31m---------------------------------------------------------------------------\u001b[0m",
            "\u001b[0;31mValueError\u001b[0m                                Traceback (most recent call last)",
            "\u001b[0;32m<ipython-input-120-c68c688b0138>\u001b[0m in \u001b[0;36m<module>\u001b[0;34m()\u001b[0m\n\u001b[1;32m      3\u001b[0m \u001b[0mmin_samp_split\u001b[0m \u001b[0;34m=\u001b[0m \u001b[0;36m2\u001b[0m\u001b[0;34m\u001b[0m\u001b[0;34m\u001b[0m\u001b[0m\n\u001b[1;32m      4\u001b[0m \u001b[0mclf\u001b[0m \u001b[0;34m=\u001b[0m \u001b[0mDecisionTreeClassifier\u001b[0m\u001b[0;34m(\u001b[0m\u001b[0mmin_samples_split\u001b[0m\u001b[0;34m=\u001b[0m\u001b[0mmin_samp_split\u001b[0m\u001b[0;34m,\u001b[0m\u001b[0mmax_features\u001b[0m\u001b[0;34m=\u001b[0m\u001b[0;32mNone\u001b[0m\u001b[0;34m)\u001b[0m\u001b[0;34m\u001b[0m\u001b[0;34m\u001b[0m\u001b[0m\n\u001b[0;32m----> 5\u001b[0;31m \u001b[0mclf\u001b[0m \u001b[0;34m=\u001b[0m \u001b[0mclf\u001b[0m\u001b[0;34m.\u001b[0m\u001b[0mfit\u001b[0m\u001b[0;34m(\u001b[0m\u001b[0mx\u001b[0m\u001b[0;34m,\u001b[0m\u001b[0my\u001b[0m\u001b[0;34m)\u001b[0m\u001b[0;34m\u001b[0m\u001b[0;34m\u001b[0m\u001b[0m\n\u001b[0m\u001b[1;32m      6\u001b[0m \u001b[0;34m\u001b[0m\u001b[0m\n\u001b[1;32m      7\u001b[0m \u001b[0;31m# Report classification results.  training dataset first, then test.\u001b[0m\u001b[0;34m\u001b[0m\u001b[0;34m\u001b[0m\u001b[0;34m\u001b[0m\u001b[0m\n",
            "\u001b[0;32m/usr/local/lib/python3.6/dist-packages/sklearn/tree/tree.py\u001b[0m in \u001b[0;36mfit\u001b[0;34m(self, X, y, sample_weight, check_input, X_idx_sorted)\u001b[0m\n\u001b[1;32m    799\u001b[0m             \u001b[0msample_weight\u001b[0m\u001b[0;34m=\u001b[0m\u001b[0msample_weight\u001b[0m\u001b[0;34m,\u001b[0m\u001b[0;34m\u001b[0m\u001b[0;34m\u001b[0m\u001b[0m\n\u001b[1;32m    800\u001b[0m             \u001b[0mcheck_input\u001b[0m\u001b[0;34m=\u001b[0m\u001b[0mcheck_input\u001b[0m\u001b[0;34m,\u001b[0m\u001b[0;34m\u001b[0m\u001b[0;34m\u001b[0m\u001b[0m\n\u001b[0;32m--> 801\u001b[0;31m             X_idx_sorted=X_idx_sorted)\n\u001b[0m\u001b[1;32m    802\u001b[0m         \u001b[0;32mreturn\u001b[0m \u001b[0mself\u001b[0m\u001b[0;34m\u001b[0m\u001b[0;34m\u001b[0m\u001b[0m\n\u001b[1;32m    803\u001b[0m \u001b[0;34m\u001b[0m\u001b[0m\n",
            "\u001b[0;32m/usr/local/lib/python3.6/dist-packages/sklearn/tree/tree.py\u001b[0m in \u001b[0;36mfit\u001b[0;34m(self, X, y, sample_weight, check_input, X_idx_sorted)\u001b[0m\n\u001b[1;32m    114\u001b[0m         \u001b[0mrandom_state\u001b[0m \u001b[0;34m=\u001b[0m \u001b[0mcheck_random_state\u001b[0m\u001b[0;34m(\u001b[0m\u001b[0mself\u001b[0m\u001b[0;34m.\u001b[0m\u001b[0mrandom_state\u001b[0m\u001b[0;34m)\u001b[0m\u001b[0;34m\u001b[0m\u001b[0;34m\u001b[0m\u001b[0m\n\u001b[1;32m    115\u001b[0m         \u001b[0;32mif\u001b[0m \u001b[0mcheck_input\u001b[0m\u001b[0;34m:\u001b[0m\u001b[0;34m\u001b[0m\u001b[0;34m\u001b[0m\u001b[0m\n\u001b[0;32m--> 116\u001b[0;31m             \u001b[0mX\u001b[0m \u001b[0;34m=\u001b[0m \u001b[0mcheck_array\u001b[0m\u001b[0;34m(\u001b[0m\u001b[0mX\u001b[0m\u001b[0;34m,\u001b[0m \u001b[0mdtype\u001b[0m\u001b[0;34m=\u001b[0m\u001b[0mDTYPE\u001b[0m\u001b[0;34m,\u001b[0m \u001b[0maccept_sparse\u001b[0m\u001b[0;34m=\u001b[0m\u001b[0;34m\"csc\"\u001b[0m\u001b[0;34m)\u001b[0m\u001b[0;34m\u001b[0m\u001b[0;34m\u001b[0m\u001b[0m\n\u001b[0m\u001b[1;32m    117\u001b[0m             \u001b[0my\u001b[0m \u001b[0;34m=\u001b[0m \u001b[0mcheck_array\u001b[0m\u001b[0;34m(\u001b[0m\u001b[0my\u001b[0m\u001b[0;34m,\u001b[0m \u001b[0mensure_2d\u001b[0m\u001b[0;34m=\u001b[0m\u001b[0;32mFalse\u001b[0m\u001b[0;34m,\u001b[0m \u001b[0mdtype\u001b[0m\u001b[0;34m=\u001b[0m\u001b[0;32mNone\u001b[0m\u001b[0;34m)\u001b[0m\u001b[0;34m\u001b[0m\u001b[0;34m\u001b[0m\u001b[0m\n\u001b[1;32m    118\u001b[0m             \u001b[0;32mif\u001b[0m \u001b[0missparse\u001b[0m\u001b[0;34m(\u001b[0m\u001b[0mX\u001b[0m\u001b[0;34m)\u001b[0m\u001b[0;34m:\u001b[0m\u001b[0;34m\u001b[0m\u001b[0;34m\u001b[0m\u001b[0m\n",
            "\u001b[0;32m/usr/local/lib/python3.6/dist-packages/sklearn/utils/validation.py\u001b[0m in \u001b[0;36mcheck_array\u001b[0;34m(array, accept_sparse, accept_large_sparse, dtype, order, copy, force_all_finite, ensure_2d, allow_nd, ensure_min_samples, ensure_min_features, warn_on_dtype, estimator)\u001b[0m\n\u001b[1;32m    571\u001b[0m         \u001b[0;32mif\u001b[0m \u001b[0mforce_all_finite\u001b[0m\u001b[0;34m:\u001b[0m\u001b[0;34m\u001b[0m\u001b[0;34m\u001b[0m\u001b[0m\n\u001b[1;32m    572\u001b[0m             _assert_all_finite(array,\n\u001b[0;32m--> 573\u001b[0;31m                                allow_nan=force_all_finite == 'allow-nan')\n\u001b[0m\u001b[1;32m    574\u001b[0m \u001b[0;34m\u001b[0m\u001b[0m\n\u001b[1;32m    575\u001b[0m     \u001b[0mshape_repr\u001b[0m \u001b[0;34m=\u001b[0m \u001b[0m_shape_repr\u001b[0m\u001b[0;34m(\u001b[0m\u001b[0marray\u001b[0m\u001b[0;34m.\u001b[0m\u001b[0mshape\u001b[0m\u001b[0;34m)\u001b[0m\u001b[0;34m\u001b[0m\u001b[0;34m\u001b[0m\u001b[0m\n",
            "\u001b[0;32m/usr/local/lib/python3.6/dist-packages/sklearn/utils/validation.py\u001b[0m in \u001b[0;36m_assert_all_finite\u001b[0;34m(X, allow_nan)\u001b[0m\n\u001b[1;32m     54\u001b[0m                 not allow_nan and not np.isfinite(X).all()):\n\u001b[1;32m     55\u001b[0m             \u001b[0mtype_err\u001b[0m \u001b[0;34m=\u001b[0m \u001b[0;34m'infinity'\u001b[0m \u001b[0;32mif\u001b[0m \u001b[0mallow_nan\u001b[0m \u001b[0;32melse\u001b[0m \u001b[0;34m'NaN, infinity'\u001b[0m\u001b[0;34m\u001b[0m\u001b[0;34m\u001b[0m\u001b[0m\n\u001b[0;32m---> 56\u001b[0;31m             \u001b[0;32mraise\u001b[0m \u001b[0mValueError\u001b[0m\u001b[0;34m(\u001b[0m\u001b[0mmsg_err\u001b[0m\u001b[0;34m.\u001b[0m\u001b[0mformat\u001b[0m\u001b[0;34m(\u001b[0m\u001b[0mtype_err\u001b[0m\u001b[0;34m,\u001b[0m \u001b[0mX\u001b[0m\u001b[0;34m.\u001b[0m\u001b[0mdtype\u001b[0m\u001b[0;34m)\u001b[0m\u001b[0;34m)\u001b[0m\u001b[0;34m\u001b[0m\u001b[0;34m\u001b[0m\u001b[0m\n\u001b[0m\u001b[1;32m     57\u001b[0m \u001b[0;34m\u001b[0m\u001b[0m\n\u001b[1;32m     58\u001b[0m \u001b[0;34m\u001b[0m\u001b[0m\n",
            "\u001b[0;31mValueError\u001b[0m: Input contains NaN, infinity or a value too large for dtype('float32')."
          ]
        }
      ]
    },
    {
      "metadata": {
        "id": "3FjSmtVswJy7",
        "colab_type": "code",
        "outputId": "dc331357-1617-4da4-9641-0b4f3a565a09",
        "colab": {
          "base_uri": "https://localhost:8080/",
          "height": 292
        }
      },
      "cell_type": "code",
      "source": [
        "from sklearn.datasets import load_iris\n",
        "from sklearn.ensemble import RandomForestClassifier\n",
        "import pandas as pd\n",
        "import numpy as np\n",
        "\n",
        "iris = load_iris()\n",
        "df = pd.DataFrame(iris.data, columns=iris.feature_names)\n",
        "df['is_train'] = np.random.uniform(0, 1, len(df)) <= .75\n",
        "df['species'] = pd.Categorical(iris.target, iris.target_names)\n",
        "df.head()\n",
        "\n",
        "train, test = df[df['is_train']==True], df[df['is_train']==False]\n",
        "\n",
        "features = df.columns[:4]\n",
        "clf = RandomForestClassifier(n_jobs=2)\n",
        "y, _ = pd.factorize(train['species'])\n",
        "clf.fit(train[features], y)"
      ],
      "execution_count": 0,
      "outputs": [
        {
          "output_type": "stream",
          "text": [
            "/usr/local/lib/python3.6/dist-packages/ipykernel_launcher.py:9: RuntimeWarning: Values and categories have different dtypes. Did you mean to use\n",
            "'Categorical.from_codes(codes, categories)'?\n",
            "  if __name__ == '__main__':\n",
            "/usr/local/lib/python3.6/dist-packages/ipykernel_launcher.py:9: RuntimeWarning: None of the categories were found in values. Did you mean to use\n",
            "'Categorical.from_codes(codes, categories)'?\n",
            "  if __name__ == '__main__':\n",
            "/usr/local/lib/python3.6/dist-packages/sklearn/ensemble/forest.py:246: FutureWarning: The default value of n_estimators will change from 10 in version 0.20 to 100 in 0.22.\n",
            "  \"10 in version 0.20 to 100 in 0.22.\", FutureWarning)\n"
          ],
          "name": "stderr"
        },
        {
          "output_type": "execute_result",
          "data": {
            "text/plain": [
              "RandomForestClassifier(bootstrap=True, class_weight=None, criterion='gini',\n",
              "            max_depth=None, max_features='auto', max_leaf_nodes=None,\n",
              "            min_impurity_decrease=0.0, min_impurity_split=None,\n",
              "            min_samples_leaf=1, min_samples_split=2,\n",
              "            min_weight_fraction_leaf=0.0, n_estimators=10, n_jobs=2,\n",
              "            oob_score=False, random_state=None, verbose=0,\n",
              "            warm_start=False)"
            ]
          },
          "metadata": {
            "tags": []
          },
          "execution_count": 124
        }
      ]
    },
    {
      "metadata": {
        "id": "j49M9XKwwq6A",
        "colab_type": "code",
        "outputId": "c540ceeb-6ae6-4fde-c694-5dcb9c565743",
        "colab": {
          "base_uri": "https://localhost:8080/",
          "height": 204
        }
      },
      "cell_type": "code",
      "source": [
        "train.head()"
      ],
      "execution_count": 0,
      "outputs": [
        {
          "output_type": "execute_result",
          "data": {
            "text/html": [
              "<div>\n",
              "<style scoped>\n",
              "    .dataframe tbody tr th:only-of-type {\n",
              "        vertical-align: middle;\n",
              "    }\n",
              "\n",
              "    .dataframe tbody tr th {\n",
              "        vertical-align: top;\n",
              "    }\n",
              "\n",
              "    .dataframe thead th {\n",
              "        text-align: right;\n",
              "    }\n",
              "</style>\n",
              "<table border=\"1\" class=\"dataframe\">\n",
              "  <thead>\n",
              "    <tr style=\"text-align: right;\">\n",
              "      <th></th>\n",
              "      <th>sepal length (cm)</th>\n",
              "      <th>sepal width (cm)</th>\n",
              "      <th>petal length (cm)</th>\n",
              "      <th>petal width (cm)</th>\n",
              "      <th>is_train</th>\n",
              "      <th>species</th>\n",
              "    </tr>\n",
              "  </thead>\n",
              "  <tbody>\n",
              "    <tr>\n",
              "      <th>0</th>\n",
              "      <td>5.1</td>\n",
              "      <td>3.5</td>\n",
              "      <td>1.4</td>\n",
              "      <td>0.2</td>\n",
              "      <td>True</td>\n",
              "      <td>NaN</td>\n",
              "    </tr>\n",
              "    <tr>\n",
              "      <th>1</th>\n",
              "      <td>4.9</td>\n",
              "      <td>3.0</td>\n",
              "      <td>1.4</td>\n",
              "      <td>0.2</td>\n",
              "      <td>True</td>\n",
              "      <td>NaN</td>\n",
              "    </tr>\n",
              "    <tr>\n",
              "      <th>2</th>\n",
              "      <td>4.7</td>\n",
              "      <td>3.2</td>\n",
              "      <td>1.3</td>\n",
              "      <td>0.2</td>\n",
              "      <td>True</td>\n",
              "      <td>NaN</td>\n",
              "    </tr>\n",
              "    <tr>\n",
              "      <th>3</th>\n",
              "      <td>4.6</td>\n",
              "      <td>3.1</td>\n",
              "      <td>1.5</td>\n",
              "      <td>0.2</td>\n",
              "      <td>True</td>\n",
              "      <td>NaN</td>\n",
              "    </tr>\n",
              "    <tr>\n",
              "      <th>4</th>\n",
              "      <td>5.0</td>\n",
              "      <td>3.6</td>\n",
              "      <td>1.4</td>\n",
              "      <td>0.2</td>\n",
              "      <td>True</td>\n",
              "      <td>NaN</td>\n",
              "    </tr>\n",
              "  </tbody>\n",
              "</table>\n",
              "</div>"
            ],
            "text/plain": [
              "   sepal length (cm)  sepal width (cm)  petal length (cm)  petal width (cm)  \\\n",
              "0                5.1               3.5                1.4               0.2   \n",
              "1                4.9               3.0                1.4               0.2   \n",
              "2                4.7               3.2                1.3               0.2   \n",
              "3                4.6               3.1                1.5               0.2   \n",
              "4                5.0               3.6                1.4               0.2   \n",
              "\n",
              "   is_train species  \n",
              "0      True     NaN  \n",
              "1      True     NaN  \n",
              "2      True     NaN  \n",
              "3      True     NaN  \n",
              "4      True     NaN  "
            ]
          },
          "metadata": {
            "tags": []
          },
          "execution_count": 125
        }
      ]
    },
    {
      "metadata": {
        "id": "cCf19jVBxzjg",
        "colab_type": "code",
        "outputId": "f29b4ac4-2e37-463b-8506-a375591b4b3a",
        "colab": {
          "base_uri": "https://localhost:8080/",
          "height": 1879
        }
      },
      "cell_type": "code",
      "source": [
        "# From https://github.com/dasotelo/Python_Projects/blob/master/Wine_classify.py\n",
        "import pandas as pd\n",
        "import numpy as np\n",
        "from sklearn.tree import DecisionTreeClassifier\n",
        "from sklearn.model_selection import train_test_split\n",
        "from sklearn.preprocessing import LabelEncoder\n",
        "import matplotlib.pyplot as plt\n",
        "\n",
        "# Read in & munge wine information dataset.  US wines only\n",
        "wine_df=pd.read_csv('winemag-data_first150k.csv')\n",
        "wine_df=wine_df.loc[wine_df.country=='US',['points','price','region_1', \\\n",
        "    'variety','winery']]\n",
        "wine_df=wine_df.dropna(axis=0,how='any')\n",
        "\n",
        "# Hexbin of points on price\n",
        "plt.figure(figsize=(7,4))\n",
        "plt.hexbin(wine_df.price,wine_df.points,cmap='bone_r',gridsize=35,\n",
        "    extent=(0,100,73,115))\n",
        "plt.xlim(0,100)\n",
        "plt.ylim(80,98)\n",
        "plt.title('Point Score by Wine Price',size=14)\n",
        "plt.ylabel('Points')\n",
        "plt.xlabel('Wine Price')\n",
        "plt.show()\n",
        "\n",
        "# Violin plot of points on region - use regions with 50 or more wines only\n",
        "vio_dfm=wine_df.loc[:,['region_1','points']].groupby('region_1').median()\n",
        "vio_dfm.reset_index(inplace=True)\n",
        "vio_df=wine_df.loc[:,['region_1','points']].groupby('region_1').count()\n",
        "vio_df.reset_index(inplace=True)\n",
        "vio_df=vio_df.merge(vio_dfm,'inner',left_on='region_1',right_on='region_1')\n",
        "vio_df=vio_df.sort_values('points_y',ascending=False)\n",
        "vio_df=vio_df.loc[vio_df.points_x>=50,:]\n",
        "vio_df=vio_df.iloc[0:30,0]\n",
        "vio_df2=[wine_df.loc[wine_df.region_1==j,['points']] for j in vio_df.values]\n",
        "\n",
        "plt.figure(figsize=(6,11))\n",
        "parts=plt.violinplot(vio_df2,vert=False,showextrema=False,showmedians=True)\n",
        "for pc in parts['bodies']:\n",
        "    pc.set_edgecolor('black')\n",
        "    pc.set_alpha(0.3)\n",
        "    pc.set_facecolor('green')\n",
        "plt.yticks(np.arange(30,0,-1),vio_df.values)\n",
        "plt.title('Distribution of Point Scores by Top Regions',size=14)\n",
        "plt.ylabel('Top 30 Regions by Median Point Score, >50 Wines per Region')\n",
        "plt.xlabel('Points')\n",
        "plt.show()\n",
        "\n",
        "# Map point values to categories\n",
        "bin_map={\n",
        "    100:'90+',\n",
        "    99:'90+',\n",
        "    98:'90+',\n",
        "    97:'90+',\n",
        "    96:'90+',\n",
        "    95:'90+',\n",
        "    94:'90+',\n",
        "    93:'90+',\n",
        "    92:'90+',\n",
        "    91:'90+',\n",
        "    90:'90+',\n",
        "    89:'<90',\n",
        "    88:'<90',\n",
        "    87:'<90',\n",
        "    86:'<90',\n",
        "    85:'<90',\n",
        "    84:'<90',\n",
        "    83:'<90',\n",
        "    82:'<90',\n",
        "    81:'<90',\n",
        "    80:'<90',\n",
        "    79:'<90',\n",
        "    78:'<90',\n",
        "    77:'<90',\n",
        "    76:'<90'}\n",
        "wine_df['point_bins']=wine_df.points.map(bin_map)\n",
        "wine_df.point_bins.unique() # Ensure no records are un-binned\n",
        "wine_df=wine_df.drop('points',axis=1)\n",
        "\n",
        "# Split into 50/50 train/test datasets\n",
        "wine_train,wine_test=train_test_split(wine_df,test_size=0.15)\n",
        "\n",
        "# Prepare train data for classification tree\n",
        "regn_lab=LabelEncoder().fit(np.unique(wine_df.region_1.values))\n",
        "var_lab=LabelEncoder().fit(np.unique(wine_df.variety.values))\n",
        "wnry_lab=LabelEncoder().fit(np.unique(wine_df.winery.values))\n",
        "wine_train['regn_enc']=regn_lab.transform(wine_train.region_1)\n",
        "wine_train['var_enc']=var_lab.transform(wine_train.variety)\n",
        "wine_train['wnry_enc']=wnry_lab.transform(wine_train.winery)\n",
        "wine_train=wine_train.drop(['region_1','variety','winery'],axis=1)\n",
        "\n",
        "# Prepare test data for classification tree\n",
        "wine_test['regn_enc']=regn_lab.transform(wine_test.region_1)\n",
        "wine_test['var_enc']=var_lab.transform(wine_test.variety)\n",
        "wine_test['wnry_enc']=wnry_lab.transform(wine_test.winery)\n",
        "wine_test=wine_test.drop(['region_1','variety','winery'],axis=1)\n",
        "\n",
        "# Train classification tree\n",
        "x=wine_train.loc[:,['price','regn_enc','var_enc','wnry_enc']]\n",
        "y=wine_train['point_bins']\n",
        "min_samp_split=2                           \n",
        "clf=DecisionTreeClassifier(min_samples_split=min_samp_split,max_features=None)\n",
        "clf=clf.fit(x,y)\n",
        "\n",
        "# Report classification results.  training dataset first, then test.  \n",
        "# BASELINE - all features, no tree termination criteria\n",
        "train_error=y==clf.predict(x)\n",
        "test_error=wine_test['point_bins']==clf.predict(wine_test.loc[:,['price', \\\n",
        "    'regn_enc','var_enc','wnry_enc']])\n",
        "print('@@@@@@@@@@@@@@@@@@@@@@@@@')\n",
        "print('CART w/ #leaf nodes = ',clf.tree_.node_count) \n",
        "print('   ',clf.n_features_,' features out of: 4 features')                          \n",
        "print('   training accuracy: ','{:.1%}'.format(sum(train_error)/len(\n",
        "    train_error)))\n",
        "print('   test accuracy: ','{:.1%}'.format(sum(test_error)/len(test_error)))\n",
        "\n",
        "# Report feature importance\n",
        "print('@@@@@@@@@@@@@@@@@@@@@@@@@')\n",
        "print('Feature importance for max_leaves model')\n",
        "print(pd.DataFrame([clf.feature_importances_],columns=x.columns.values))\n",
        "\n",
        "# Train classification tree - remove varietal information\n",
        "x=wine_train.loc[:,['price','regn_enc','wnry_enc']]\n",
        "y=wine_train['point_bins']\n",
        "min_samp_split=2                           \n",
        "clf=DecisionTreeClassifier(min_samples_split=min_samp_split,max_features=None)\n",
        "clf=clf.fit(x,y)\n",
        "\n",
        "# Report classification results.  train first, then test.  \n",
        "# Varietal information removed - no tree termination criteria\n",
        "train_error=y==clf.predict(x)\n",
        "test_error=wine_test['point_bins']==clf.predict(wine_test.loc[:,['price', \\\n",
        "    'regn_enc','wnry_enc']])\n",
        "print('@@@@@@@@@@@@@@@@@@@@@@@@@')\n",
        "print('CART w/ #leaf nodes = ',clf.tree_.node_count) \n",
        "print('   Varietal information removed')                          \n",
        "print('   training accuracy: ','{:.1%}'.format(sum(train_error)/len(\n",
        "    train_error)))\n",
        "print('   test accuracy: ','{:.1%}'.format(sum(test_error)/len(test_error)))\n",
        "\n",
        "# Train classification tree - remove region information\n",
        "x=wine_train.loc[:,['price','var_enc','wnry_enc']]\n",
        "y=wine_train['point_bins']\n",
        "min_samp_split=2                           \n",
        "clf=DecisionTreeClassifier(min_samples_split=min_samp_split,max_features=None)\n",
        "clf=clf.fit(x,y)\n",
        "\n",
        "# Report classification results.  train first, then test.  \n",
        "# Region information removed - no tree termination criteria\n",
        "train_error=y==clf.predict(x)\n",
        "test_error=wine_test['point_bins']==clf.predict(wine_test.loc[:,['price', \\\n",
        "    'var_enc','wnry_enc']])\n",
        "print('@@@@@@@@@@@@@@@@@@@@@@@@@')\n",
        "print('CART w/ #leaf nodes = ',clf.tree_.node_count) \n",
        "print('   Region information removed')                          \n",
        "print('   training accuracy: ','{:.1%}'.format(sum(train_error)/len(\n",
        "    train_error)))\n",
        "print('   test accuracy: ','{:.1%}'.format(sum(test_error)/len(test_error)))\n",
        "\n",
        "# Train classification tree - remove varietal & region information\n",
        "x=wine_train.loc[:,['price','wnry_enc']]\n",
        "y=wine_train['point_bins']\n",
        "min_samp_split=2                           \n",
        "clf=DecisionTreeClassifier(min_samples_split=min_samp_split,max_features=None)\n",
        "clf=clf.fit(x,y)\n",
        "\n",
        "# Report classification results.  train first, then test.  \n",
        "# Varietal & region information removed - no tree termination criteria\n",
        "train_error=y==clf.predict(x)\n",
        "test_error=wine_test['point_bins']==clf.predict(wine_test.loc[:,['price', \\\n",
        "    'wnry_enc']])\n",
        "print('@@@@@@@@@@@@@@@@@@@@@@@@@')\n",
        "print('CART w/ #leaf nodes = ',clf.tree_.node_count) \n",
        "print('   Varietal & Region information removed')                          \n",
        "print('   training accuracy: ','{:.1%}'.format(sum(train_error)/len(\n",
        "    train_error)))\n",
        "print('   test accuracy: ','{:.1%}'.format(sum(test_error)/len(test_error)))\n",
        "\n",
        "# Re-train with 4 features\n",
        "x=wine_train.loc[:,['price','regn_enc','var_enc','wnry_enc']]\n",
        "y=wine_train['point_bins']\n",
        "min_samp_split=2                           \n",
        "clf=DecisionTreeClassifier(min_samples_split=min_samp_split,max_features=None)\n",
        "clf=clf.fit(x,y)\n",
        "\n",
        "# Create dataframe object to record results of tree termination tests\n",
        "# using model trained with all 4 features\n",
        "results4=pd.DataFrame([],columns=list(['n_leaves','train_acc','test_acc']))\n",
        "bench_nodes=clf.tree_.node_count\n",
        "for i in np.arange(bench_nodes,500,-100):\n",
        "    print(i)\n",
        "    min_samp_split=2                           \n",
        "    clf=DecisionTreeClassifier(min_samples_split=min_samp_split,\n",
        "        max_features=None,max_leaf_nodes=i)\n",
        "    clf=clf.fit(x,y)\n",
        "    train_error=y==clf.predict(x)\n",
        "    test_error=wine_test['point_bins']==clf.predict(wine_test.loc[:,['price', \\\n",
        "    'regn_enc','var_enc','wnry_enc']])\n",
        "    run_rslt=pd.DataFrame([[i,sum(train_error)/len(train_error),\n",
        "        sum(test_error)/len(test_error)]],\n",
        "        columns=list(['n_leaves','train_acc','test_acc']))\n",
        "    results4=results4.append(run_rslt)\n",
        "    \n",
        "for i in np.arange(500,0,-10):\n",
        "    print(i)\n",
        "    min_samp_split=2                           \n",
        "    clf=DecisionTreeClassifier(min_samples_split=min_samp_split,\n",
        "        max_features=None,max_leaf_nodes=i)\n",
        "    clf=clf.fit(x,y)\n",
        "    train_error=y==clf.predict(x)\n",
        "    test_error=wine_test['point_bins']==clf.predict(wine_test.loc[:,['price', \\\n",
        "    'regn_enc','var_enc','wnry_enc']])\n",
        "    run_rslt=pd.DataFrame([[i,sum(train_error)/len(train_error),\n",
        "        sum(test_error)/len(test_error)]],\n",
        "        columns=list(['n_leaves','train_acc','test_acc']))\n",
        "    results4=results4.append(run_rslt)\n",
        "    # Re-train with 2 features\n",
        "x=wine_train.loc[:,['price','wnry_enc']]\n",
        "y=wine_train['point_bins']\n",
        "min_samp_split=2                           \n",
        "clf=DecisionTreeClassifier(min_samples_split=min_samp_split,max_features=None)\n",
        "clf=clf.fit(x,y)\n",
        "\n",
        "# Create dataframe object to record results of tree termination tests\n",
        "# using model trained with price and winery only\n",
        "results2=pd.DataFrame([],columns=list(['n_leaves','train_acc','test_acc']))\n",
        "bench_nodes=clf.tree_.node_count\n",
        "for i in np.arange(bench_nodes,500,-100):\n",
        "    print(i)\n",
        "    min_samp_split=2                           \n",
        "    clf=DecisionTreeClassifier(min_samples_split=min_samp_split,\n",
        "        max_features=None,max_leaf_nodes=i)\n",
        "    clf=clf.fit(x,y)\n",
        "    train_error=y==clf.predict(x)\n",
        "    test_error=wine_test['point_bins']==clf.predict(wine_test.loc[:,['price', \\\n",
        "    'wnry_enc']])\n",
        "    run_rslt=pd.DataFrame([[i,sum(train_error)/len(train_error),\n",
        "        sum(test_error)/len(test_error)]],\n",
        "        columns=list(['n_leaves','train_acc','test_acc']))\n",
        "    results2=results2.append(run_rslt)\n",
        "    \n",
        "for i in np.arange(500,0,-10):\n",
        "    print(i)\n",
        "    min_samp_split=2                           \n",
        "    clf=DecisionTreeClassifier(min_samples_split=min_samp_split,\n",
        "        max_features=None,max_leaf_nodes=i)\n",
        "    clf=clf.fit(x,y)\n",
        "    train_error=y==clf.predict(x)\n",
        "    test_error=wine_test['point_bins']==clf.predict(wine_test.loc[:,['price', \\\n",
        "    'wnry_enc']])\n",
        "    run_rslt=pd.DataFrame([[i,sum(train_error)/len(train_error),\n",
        "        sum(test_error)/len(test_error)]],\n",
        "        columns=list(['n_leaves','train_acc','test_acc']))\n",
        "    results2=results2.append(run_rslt)\n",
        "    \n",
        "    \n",
        "# Plot resulting train & test accuracy rates for max_leaves runs\n",
        "plt.figure(figsize=(8,5))\n",
        "plt.plot(results4.n_leaves,results4.train_acc,linewidth=2\n",
        "    ,label='train data, 4 features')\n",
        "plt.plot(results4.n_leaves,results4.test_acc,linewidth=2\n",
        "    ,label='test data, 4 features')\n",
        "plt.plot(results2.n_leaves,results2.train_acc,linewidth=2,linestyle='--'\n",
        "    ,label='train data, 2 features')\n",
        "plt.plot(results2.n_leaves,results2.test_acc,linewidth=2,linestyle='--'\n",
        "    ,label='test data, 2 features')\n",
        "plt.title('Classification Accuracy for n Leaf Models',size=14)\n",
        "plt.ylabel('Classification Accuracy')\n",
        "plt.xlabel('n_max_leaves')\n",
        "plt.legend()"
      ],
      "execution_count": 0,
      "outputs": [
        {
          "output_type": "display_data",
          "data": {
            "image/png": "[encoded data removed]",
            "text/plain": [
              "<Figure size 504x288 with 1 Axes>"
            ]
          },
          "metadata": {
            "tags": []
          }
        },
        {
          "output_type": "error",
          "ename": "ValueError",
          "evalue": "ignored",
          "traceback": [
            "\u001b[0;31m---------------------------------------------------------------------------\u001b[0m",
            "\u001b[0;31mValueError\u001b[0m                                Traceback (most recent call last)",
            "\u001b[0;32m<ipython-input-126-e500846cd16a>\u001b[0m in \u001b[0;36m<module>\u001b[0;34m()\u001b[0m\n\u001b[1;32m     34\u001b[0m \u001b[0;34m\u001b[0m\u001b[0m\n\u001b[1;32m     35\u001b[0m \u001b[0mplt\u001b[0m\u001b[0;34m.\u001b[0m\u001b[0mfigure\u001b[0m\u001b[0;34m(\u001b[0m\u001b[0mfigsize\u001b[0m\u001b[0;34m=\u001b[0m\u001b[0;34m(\u001b[0m\u001b[0;36m6\u001b[0m\u001b[0;34m,\u001b[0m\u001b[0;36m11\u001b[0m\u001b[0;34m)\u001b[0m\u001b[0;34m)\u001b[0m\u001b[0;34m\u001b[0m\u001b[0;34m\u001b[0m\u001b[0m\n\u001b[0;32m---> 36\u001b[0;31m \u001b[0mparts\u001b[0m\u001b[0;34m=\u001b[0m\u001b[0mplt\u001b[0m\u001b[0;34m.\u001b[0m\u001b[0mviolinplot\u001b[0m\u001b[0;34m(\u001b[0m\u001b[0mvio_df2\u001b[0m\u001b[0;34m,\u001b[0m\u001b[0mvert\u001b[0m\u001b[0;34m=\u001b[0m\u001b[0;32mFalse\u001b[0m\u001b[0;34m,\u001b[0m\u001b[0mshowextrema\u001b[0m\u001b[0;34m=\u001b[0m\u001b[0;32mFalse\u001b[0m\u001b[0;34m,\u001b[0m\u001b[0mshowmedians\u001b[0m\u001b[0;34m=\u001b[0m\u001b[0;32mTrue\u001b[0m\u001b[0;34m)\u001b[0m\u001b[0;34m\u001b[0m\u001b[0;34m\u001b[0m\u001b[0m\n\u001b[0m\u001b[1;32m     37\u001b[0m \u001b[0;32mfor\u001b[0m \u001b[0mpc\u001b[0m \u001b[0;32min\u001b[0m \u001b[0mparts\u001b[0m\u001b[0;34m[\u001b[0m\u001b[0;34m'bodies'\u001b[0m\u001b[0;34m]\u001b[0m\u001b[0;34m:\u001b[0m\u001b[0;34m\u001b[0m\u001b[0;34m\u001b[0m\u001b[0m\n\u001b[1;32m     38\u001b[0m     \u001b[0mpc\u001b[0m\u001b[0;34m.\u001b[0m\u001b[0mset_edgecolor\u001b[0m\u001b[0;34m(\u001b[0m\u001b[0;34m'black'\u001b[0m\u001b[0;34m)\u001b[0m\u001b[0;34m\u001b[0m\u001b[0;34m\u001b[0m\u001b[0m\n",
            "\u001b[0;32m/usr/local/lib/python3.6/dist-packages/matplotlib/pyplot.py\u001b[0m in \u001b[0;36mviolinplot\u001b[0;34m(dataset, positions, vert, widths, showmeans, showextrema, showmedians, points, bw_method, data)\u001b[0m\n\u001b[1;32m   3021\u001b[0m         \u001b[0mshowmeans\u001b[0m\u001b[0;34m=\u001b[0m\u001b[0mshowmeans\u001b[0m\u001b[0;34m,\u001b[0m \u001b[0mshowextrema\u001b[0m\u001b[0;34m=\u001b[0m\u001b[0mshowextrema\u001b[0m\u001b[0;34m,\u001b[0m\u001b[0;34m\u001b[0m\u001b[0;34m\u001b[0m\u001b[0m\n\u001b[1;32m   3022\u001b[0m         \u001b[0mshowmedians\u001b[0m\u001b[0;34m=\u001b[0m\u001b[0mshowmedians\u001b[0m\u001b[0;34m,\u001b[0m \u001b[0mpoints\u001b[0m\u001b[0;34m=\u001b[0m\u001b[0mpoints\u001b[0m\u001b[0;34m,\u001b[0m \u001b[0mbw_method\u001b[0m\u001b[0;34m=\u001b[0m\u001b[0mbw_method\u001b[0m\u001b[0;34m,\u001b[0m\u001b[0;34m\u001b[0m\u001b[0;34m\u001b[0m\u001b[0m\n\u001b[0;32m-> 3023\u001b[0;31m         **({\"data\": data} if data is not None else {}))\n\u001b[0m\u001b[1;32m   3024\u001b[0m \u001b[0;34m\u001b[0m\u001b[0m\n\u001b[1;32m   3025\u001b[0m \u001b[0;34m\u001b[0m\u001b[0m\n",
            "\u001b[0;32m/usr/local/lib/python3.6/dist-packages/matplotlib/__init__.py\u001b[0m in \u001b[0;36minner\u001b[0;34m(ax, data, *args, **kwargs)\u001b[0m\n\u001b[1;32m   1808\u001b[0m                         \u001b[0;34m\"the Matplotlib list!)\"\u001b[0m \u001b[0;34m%\u001b[0m \u001b[0;34m(\u001b[0m\u001b[0mlabel_namer\u001b[0m\u001b[0;34m,\u001b[0m \u001b[0mfunc\u001b[0m\u001b[0;34m.\u001b[0m\u001b[0m__name__\u001b[0m\u001b[0;34m)\u001b[0m\u001b[0;34m,\u001b[0m\u001b[0;34m\u001b[0m\u001b[0;34m\u001b[0m\u001b[0m\n\u001b[1;32m   1809\u001b[0m                         RuntimeWarning, stacklevel=2)\n\u001b[0;32m-> 1810\u001b[0;31m             \u001b[0;32mreturn\u001b[0m \u001b[0mfunc\u001b[0m\u001b[0;34m(\u001b[0m\u001b[0max\u001b[0m\u001b[0;34m,\u001b[0m \u001b[0;34m*\u001b[0m\u001b[0margs\u001b[0m\u001b[0;34m,\u001b[0m \u001b[0;34m**\u001b[0m\u001b[0mkwargs\u001b[0m\u001b[0;34m)\u001b[0m\u001b[0;34m\u001b[0m\u001b[0;34m\u001b[0m\u001b[0m\n\u001b[0m\u001b[1;32m   1811\u001b[0m \u001b[0;34m\u001b[0m\u001b[0m\n\u001b[1;32m   1812\u001b[0m         inner.__doc__ = _add_data_doc(inner.__doc__,\n",
            "\u001b[0;32m/usr/local/lib/python3.6/dist-packages/matplotlib/axes/_axes.py\u001b[0m in \u001b[0;36mviolinplot\u001b[0;34m(self, dataset, positions, vert, widths, showmeans, showextrema, showmedians, points, bw_method)\u001b[0m\n\u001b[1;32m   7915\u001b[0m             \u001b[0;32mreturn\u001b[0m \u001b[0mkde\u001b[0m\u001b[0;34m.\u001b[0m\u001b[0mevaluate\u001b[0m\u001b[0;34m(\u001b[0m\u001b[0mcoords\u001b[0m\u001b[0;34m)\u001b[0m\u001b[0;34m\u001b[0m\u001b[0;34m\u001b[0m\u001b[0m\n\u001b[1;32m   7916\u001b[0m \u001b[0;34m\u001b[0m\u001b[0m\n\u001b[0;32m-> 7917\u001b[0;31m         \u001b[0mvpstats\u001b[0m \u001b[0;34m=\u001b[0m \u001b[0mcbook\u001b[0m\u001b[0;34m.\u001b[0m\u001b[0mviolin_stats\u001b[0m\u001b[0;34m(\u001b[0m\u001b[0mdataset\u001b[0m\u001b[0;34m,\u001b[0m \u001b[0m_kde_method\u001b[0m\u001b[0;34m,\u001b[0m \u001b[0mpoints\u001b[0m\u001b[0;34m=\u001b[0m\u001b[0mpoints\u001b[0m\u001b[0;34m)\u001b[0m\u001b[0;34m\u001b[0m\u001b[0;34m\u001b[0m\u001b[0m\n\u001b[0m\u001b[1;32m   7918\u001b[0m         return self.violin(vpstats, positions=positions, vert=vert,\n\u001b[1;32m   7919\u001b[0m                            \u001b[0mwidths\u001b[0m\u001b[0;34m=\u001b[0m\u001b[0mwidths\u001b[0m\u001b[0;34m,\u001b[0m \u001b[0mshowmeans\u001b[0m\u001b[0;34m=\u001b[0m\u001b[0mshowmeans\u001b[0m\u001b[0;34m,\u001b[0m\u001b[0;34m\u001b[0m\u001b[0;34m\u001b[0m\u001b[0m\n",
            "\u001b[0;32m/usr/local/lib/python3.6/dist-packages/matplotlib/cbook/__init__.py\u001b[0m in \u001b[0;36mviolin_stats\u001b[0;34m(X, method, points)\u001b[0m\n\u001b[1;32m   1448\u001b[0m \u001b[0;34m\u001b[0m\u001b[0m\n\u001b[1;32m   1449\u001b[0m     \u001b[0;31m# Want X to be a list of data sequences\u001b[0m\u001b[0;34m\u001b[0m\u001b[0;34m\u001b[0m\u001b[0;34m\u001b[0m\u001b[0m\n\u001b[0;32m-> 1450\u001b[0;31m     \u001b[0mX\u001b[0m \u001b[0;34m=\u001b[0m \u001b[0m_reshape_2D\u001b[0m\u001b[0;34m(\u001b[0m\u001b[0mX\u001b[0m\u001b[0;34m,\u001b[0m \u001b[0;34m\"X\"\u001b[0m\u001b[0;34m)\u001b[0m\u001b[0;34m\u001b[0m\u001b[0;34m\u001b[0m\u001b[0m\n\u001b[0m\u001b[1;32m   1451\u001b[0m \u001b[0;34m\u001b[0m\u001b[0m\n\u001b[1;32m   1452\u001b[0m     \u001b[0;32mfor\u001b[0m \u001b[0mx\u001b[0m \u001b[0;32min\u001b[0m \u001b[0mX\u001b[0m\u001b[0;34m:\u001b[0m\u001b[0;34m\u001b[0m\u001b[0;34m\u001b[0m\u001b[0m\n",
            "\u001b[0;32m/usr/local/lib/python3.6/dist-packages/matplotlib/cbook/__init__.py\u001b[0m in \u001b[0;36m_reshape_2D\u001b[0;34m(X, name)\u001b[0m\n\u001b[1;32m   1393\u001b[0m     \"\"\"\n\u001b[1;32m   1394\u001b[0m     \u001b[0;31m# Iterate over columns for ndarrays, over rows otherwise.\u001b[0m\u001b[0;34m\u001b[0m\u001b[0;34m\u001b[0m\u001b[0;34m\u001b[0m\u001b[0m\n\u001b[0;32m-> 1395\u001b[0;31m     \u001b[0mX\u001b[0m \u001b[0;34m=\u001b[0m \u001b[0mnp\u001b[0m\u001b[0;34m.\u001b[0m\u001b[0matleast_1d\u001b[0m\u001b[0;34m(\u001b[0m\u001b[0mX\u001b[0m\u001b[0;34m.\u001b[0m\u001b[0mT\u001b[0m \u001b[0;32mif\u001b[0m \u001b[0misinstance\u001b[0m\u001b[0;34m(\u001b[0m\u001b[0mX\u001b[0m\u001b[0;34m,\u001b[0m \u001b[0mnp\u001b[0m\u001b[0;34m.\u001b[0m\u001b[0mndarray\u001b[0m\u001b[0;34m)\u001b[0m \u001b[0;32melse\u001b[0m \u001b[0mnp\u001b[0m\u001b[0;34m.\u001b[0m\u001b[0masarray\u001b[0m\u001b[0;34m(\u001b[0m\u001b[0mX\u001b[0m\u001b[0;34m)\u001b[0m\u001b[0;34m)\u001b[0m\u001b[0;34m\u001b[0m\u001b[0;34m\u001b[0m\u001b[0m\n\u001b[0m\u001b[1;32m   1396\u001b[0m     \u001b[0;32mif\u001b[0m \u001b[0mX\u001b[0m\u001b[0;34m.\u001b[0m\u001b[0mndim\u001b[0m \u001b[0;34m==\u001b[0m \u001b[0;36m1\u001b[0m \u001b[0;32mand\u001b[0m \u001b[0mX\u001b[0m\u001b[0;34m.\u001b[0m\u001b[0mdtype\u001b[0m\u001b[0;34m.\u001b[0m\u001b[0mtype\u001b[0m \u001b[0;34m!=\u001b[0m \u001b[0mnp\u001b[0m\u001b[0;34m.\u001b[0m\u001b[0mobject_\u001b[0m\u001b[0;34m:\u001b[0m\u001b[0;34m\u001b[0m\u001b[0;34m\u001b[0m\u001b[0m\n\u001b[1;32m   1397\u001b[0m         \u001b[0;31m# 1D array of scalars: directly return it.\u001b[0m\u001b[0;34m\u001b[0m\u001b[0;34m\u001b[0m\u001b[0;34m\u001b[0m\u001b[0m\n",
            "\u001b[0;32m/usr/local/lib/python3.6/dist-packages/numpy/core/numeric.py\u001b[0m in \u001b[0;36masarray\u001b[0;34m(a, dtype, order)\u001b[0m\n\u001b[1;32m    490\u001b[0m \u001b[0;34m\u001b[0m\u001b[0m\n\u001b[1;32m    491\u001b[0m     \"\"\"\n\u001b[0;32m--> 492\u001b[0;31m     \u001b[0;32mreturn\u001b[0m \u001b[0marray\u001b[0m\u001b[0;34m(\u001b[0m\u001b[0ma\u001b[0m\u001b[0;34m,\u001b[0m \u001b[0mdtype\u001b[0m\u001b[0;34m,\u001b[0m \u001b[0mcopy\u001b[0m\u001b[0;34m=\u001b[0m\u001b[0;32mFalse\u001b[0m\u001b[0;34m,\u001b[0m \u001b[0morder\u001b[0m\u001b[0;34m=\u001b[0m\u001b[0morder\u001b[0m\u001b[0;34m)\u001b[0m\u001b[0;34m\u001b[0m\u001b[0;34m\u001b[0m\u001b[0m\n\u001b[0m\u001b[1;32m    493\u001b[0m \u001b[0;34m\u001b[0m\u001b[0m\n\u001b[1;32m    494\u001b[0m \u001b[0;34m\u001b[0m\u001b[0m\n",
            "\u001b[0;31mValueError\u001b[0m: cannot copy sequence with size 92 to array axis with dimension 1"
          ]
        },
        {
          "output_type": "display_data",
          "data": {
            "image/png": "[encoded data removed]",
            "text/plain": [
              "<Figure size 432x792 with 1 Axes>"
            ]
          },
          "metadata": {
            "tags": []
          }
        }
      ]
    },
    {
      "metadata": {
        "id": "ZJl6Hqnvz_LJ",
        "colab_type": "code",
        "colab": {}
      },
      "cell_type": "code",
      "source": [
        ""
      ],
      "execution_count": 0,
      "outputs": []
    }
  ]
}